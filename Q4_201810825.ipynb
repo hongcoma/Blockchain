{
 "cells": [
  {
   "cell_type": "markdown",
   "id": "818f748c",
   "metadata": {},
   "source": [
    "# 블록체인프로그래밍 4주차 과제 201810825 홍종현"
   ]
  },
  {
   "cell_type": "markdown",
   "id": "303c95cb",
   "metadata": {},
   "source": [
    "# 연습문제 1"
   ]
  },
  {
   "cell_type": "code",
   "execution_count": 8,
   "id": "bf633d4b",
   "metadata": {},
   "outputs": [],
   "source": [
    "import hashlib\n",
    "txA='Hello'\n",
    "txB='How are you?'"
   ]
  },
  {
   "cell_type": "markdown",
   "id": "746871e7",
   "metadata": {},
   "source": [
    "### 1-1 txA을 재해싱하세요(\\_hA)"
   ]
  },
  {
   "cell_type": "code",
   "execution_count": 13,
   "id": "1ea33719",
   "metadata": {},
   "outputs": [
    {
     "name": "stdout",
     "output_type": "stream",
     "text": [
      "재해싱된 결과 :  70bc18bef5ae66b72d1995f8db90a583a60d77b4066e4653f1cead613025861c\n"
     ]
    }
   ],
   "source": [
    "_hA=hashlib.sha256(hashlib.sha256(txA.encode()).digest()).hexdigest()\n",
    "print(\"재해싱된 결과 :\",_hA)"
   ]
  },
  {
   "cell_type": "markdown",
   "id": "23771bd9",
   "metadata": {},
   "source": [
    "### 1-2 \\_hA를 바이트교환을 하세요 hA"
   ]
  },
  {
   "cell_type": "code",
   "execution_count": 22,
   "id": "28f23d4c",
   "metadata": {},
   "outputs": [
    {
     "name": "stdout",
     "output_type": "stream",
     "text": [
      "바이트교환된 결과 : 1c86253061adcef153466e06b4770da683a590dbf895192db766aef5be18bc70\n"
     ]
    }
   ],
   "source": [
    "hA=\"\".join(reversed([_hA[i:i+2] for i in range(0, hashlib.sha256(txA.encode()).digest_size*2, 2)]))\n",
    "print(\"바이트교환된 결과 :\",hA)"
   ]
  },
  {
   "cell_type": "markdown",
   "id": "fa579f7e",
   "metadata": {},
   "source": [
    "### 1-3 txB를 재해싱하세요 (\\_hB)"
   ]
  },
  {
   "cell_type": "code",
   "execution_count": 16,
   "id": "434e9b9a",
   "metadata": {},
   "outputs": [
    {
     "name": "stdout",
     "output_type": "stream",
     "text": [
      "재해싱된 결과 : 1027ce357faf49fc632d35908db181ae951aa3df9060595d94fb33769d71e7d0\n"
     ]
    }
   ],
   "source": [
    "_hB=hashlib.sha256(hashlib.sha256(txB.encode()).digest()).hexdigest()\n",
    "print(\"재해싱된 결과 :\",_hB)"
   ]
  },
  {
   "cell_type": "markdown",
   "id": "ce82710d",
   "metadata": {},
   "source": [
    "### 1-4 \\_hB를 바이트교환을 하세요 hB"
   ]
  },
  {
   "cell_type": "code",
   "execution_count": 24,
   "id": "300594c8",
   "metadata": {},
   "outputs": [
    {
     "name": "stdout",
     "output_type": "stream",
     "text": [
      "바이트교환된 결과 : d0e7719d7633fb945d596090dfa31a95ae81b18d90352d63fc49af7f35ce2710\n"
     ]
    }
   ],
   "source": [
    "hB=\"\".join(reversed([_hB[i:i+2] for i in range(0, hashlib.sha256(txA.encode()).digest_size*2, 2)]))\n",
    "print(\"바이트교환된 결과 :\",hB)"
   ]
  },
  {
   "cell_type": "markdown",
   "id": "84a7fa2c",
   "metadata": {},
   "source": [
    "### 1-5 hA + hB를 하세요 \\_hAhB"
   ]
  },
  {
   "cell_type": "code",
   "execution_count": 27,
   "id": "501d371d",
   "metadata": {},
   "outputs": [
    {
     "name": "stdout",
     "output_type": "stream",
     "text": [
      "_hAhB : 1c86253061adcef153466e06b4770da683a590dbf895192db766aef5be18bc70d0e7719d7633fb945d596090dfa31a95ae81b18d90352d63fc49af7f35ce2710\n"
     ]
    }
   ],
   "source": [
    "_hAhB=hA+hB\n",
    "print(\"_hAhB :\",_hAhB)"
   ]
  },
  {
   "cell_type": "markdown",
   "id": "d310032e",
   "metadata": {},
   "source": [
    "### 1-6 \\_hAhB를 재해싱하세요 (\\_hAB)"
   ]
  },
  {
   "cell_type": "code",
   "execution_count": 30,
   "id": "eb5f1c9d",
   "metadata": {},
   "outputs": [
    {
     "name": "stdout",
     "output_type": "stream",
     "text": [
      "재해싱된 결과 : e0c76d87a5a5c18ab29757603c5d1bda709306203b0a44c53fc6c90fba162903\n"
     ]
    }
   ],
   "source": [
    "_hAB=hashlib.sha256(hashlib.sha256(_hAhB.encode()).digest()).hexdigest()\n",
    "print(\"재해싱된 결과 :\",_hAB)"
   ]
  },
  {
   "cell_type": "markdown",
   "id": "defcaeb4",
   "metadata": {},
   "source": [
    "### 1-7 \\_hAB를 바이트교환을 하세요 hAB"
   ]
  },
  {
   "cell_type": "code",
   "execution_count": 33,
   "id": "b8c4147b",
   "metadata": {},
   "outputs": [
    {
     "name": "stdout",
     "output_type": "stream",
     "text": [
      "바이트교환된 결과 : 032916ba0fc9c63fc5440a3b20069370da1b5d3c605797b28ac1a5a5876dc7e0\n"
     ]
    }
   ],
   "source": [
    "hAB=\"\".join(reversed([_hAB[i:i+2] for i in range(0, 32*2, 2)]))\n",
    "print(\"바이트교환된 결과 :\",hAB)"
   ]
  },
  {
   "cell_type": "markdown",
   "id": "4040012a",
   "metadata": {},
   "source": [
    "# 연습문제 2\n",
    "#### 친구에게  주소를 구하고, 그 주소로 송금해 보자. 송금이 되지 않으면 왜 안되는지 이유를 알아보자.\n",
    "#### 안되면 친구의 주소를 만들고 전송한다.\n",
    "#### 잔고의 증가분을 출력하세요.\n",
    "#### 소요된 gas비용 출력하세요."
   ]
  },
  {
   "cell_type": "code",
   "execution_count": 111,
   "id": "e7a923c5",
   "metadata": {},
   "outputs": [
    {
     "name": "stdout",
     "output_type": "stream",
     "text": [
      "true\n",
      "0\n"
     ]
    }
   ],
   "source": [
    "#친구의 enode : \"enode://dd2979bb56bcbc3a3d5955a53e482d1236bd49bdb9834f5b73cfa7b8584f77630ea5d1026b6cc4f5417ede6f5e5b62ffe8c3077ac8251671056970544c0313d3@175.193.72.238:38445\"\n",
    "#친구의 주소 : 0x40944b4662569d4099e55e77266075f017b8701d\n",
    "!geth --exec \"admin.addPeer('enode://dd2979bb56bcbc3a3d5955a53e482d1236bd49bdb9834f5b73cfa7b8584f77630ea5d1026b6cc4f5417ede6f5e5b62ffe8c3077ac8251671056970544c0313d3@175.193.72.238:38445')\" attach http://localhost:8445 \n",
    "!geth --exec \"eth.getBalance('0x40944b4662569d4099e55e77266075f017b8701d');\" attach http://localhost:8445 "
   ]
  },
  {
   "cell_type": "markdown",
   "id": "cf0dca7e",
   "metadata": {},
   "source": [
    "#### 친구의 enode를 알아내어 peer에 추가 시킨뒤 잔고를 확인하였으나 0이 아님에도 0으로 출력됨\n",
    "#### 추가적인 공부를 통하여 몇가지 원인을 탐색\n",
    "#### 1. peer는 정적IP를 가지고 있어야하지만, 나와 내 친구의 IP는 동적IP\n",
    "#### 2. 네트워크 문제가 있어 연결이 안될 수 있음 (특히 방화벽이 막는 경우)\n",
    "#### 3. OS의 시간이 맞지 않는 경우"
   ]
  },
  {
   "cell_type": "code",
   "execution_count": 3,
   "id": "af0b476b",
   "metadata": {},
   "outputs": [
    {
     "name": "stdout",
     "output_type": "stream",
     "text": [
      "Overwriting src/transact.js\n"
     ]
    }
   ],
   "source": [
    "%%writefile src/transact.js\n",
    "miner.setEtherbase(eth.accounts[0]);\n",
    "var bal1=eth.getBalance(eth.coinbase);\n",
    "var bal2=eth.getBalance(eth.accounts[1]);\n",
    "console.log('sender balance in ether: ', web3.fromWei(bal1,\"ether\"));\n",
    "console.log('receiver balance in ether: ', web3.fromWei(bal2,\"ether\"));\n",
    "var h=eth.sendTransaction({from:eth.coinbase, to:eth.accounts[1],value:10000});\n",
    "miner.start(1);admin.sleepBlocks(1);miner.stop();\n",
    "var bal1new=eth.getBalance(eth.coinbase);\n",
    "var bal2new=eth.getBalance(eth.accounts[1]);\n",
    "console.log('- New sender balance in ether: ', web3.fromWei(bal1new,\"ether\"));\n",
    "console.log('- New receiver balance in ether: ', web3.fromWei(bal2new,\"ether\"));\n",
    "console.log('- Used Gas:', eth.getTransactionReceipt(h).gasUsed);"
   ]
  },
  {
   "cell_type": "code",
   "execution_count": 4,
   "id": "503326c9",
   "metadata": {},
   "outputs": [
    {
     "name": "stdout",
     "output_type": "stream",
     "text": [
      "sender balance in ether:  1294.99999999999972\n",
      "receiver balance in ether:  1800.00000000000027\n",
      "- New sender balance in ether:  1304.99999999999971\n",
      "- New receiver balance in ether:  1800.00000000000028\n",
      "- Used Gas: 21000\n",
      "true\n"
     ]
    }
   ],
   "source": [
    "!geth --exec \"loadScript('src/transact.js')\" attach http://localhost:8445 "
   ]
  },
  {
   "cell_type": "markdown",
   "id": "3611997f",
   "metadata": {},
   "source": [
    "# 연습문제 3\n",
    "블록헤더 데이터의 해시 값에 NONCE를 증가시키면서 앞 자리의 0의 개수를 맞출 때까지 반복한다."
   ]
  },
  {
   "cell_type": "code",
   "execution_count": 131,
   "id": "c91ec13d",
   "metadata": {},
   "outputs": [
    {
     "name": "stdout",
     "output_type": "stream",
     "text": [
      "\"0x3f\"\n"
     ]
    }
   ],
   "source": [
    "!geth --exec \"eth.protocolVersion\" attach http://localhost:8445"
   ]
  },
  {
   "cell_type": "code",
   "execution_count": 136,
   "id": "099c2e5a",
   "metadata": {
    "scrolled": true
   },
   "outputs": [
    {
     "name": "stdout",
     "output_type": "stream",
     "text": [
      "1204\n"
     ]
    }
   ],
   "source": [
    "!geth --exec \"eth.blockNumber\" attach http://localhost:8445"
   ]
  },
  {
   "cell_type": "markdown",
   "id": "afe08536",
   "metadata": {},
   "source": [
    "### 3-1 찾고자 하는 해시가 ```0000```로 시작한다고 하자. 몇 회만에 찾는지 출력하세요."
   ]
  },
  {
   "cell_type": "code",
   "execution_count": 138,
   "id": "78533771",
   "metadata": {},
   "outputs": [
    {
     "name": "stdout",
     "output_type": "stream",
     "text": [
      "Solved  NONCE:  54671 guessHash:  00009723111ee2f2623357af34c0cee193c702eeabfe5101a86e01fae3311d6c\n"
     ]
    }
   ],
   "source": [
    "import hashlib\n",
    "ntry=1\n",
    "found=False\n",
    "blockNumber=1204\n",
    "NONCE=0\n",
    "data='Hello'\n",
    "previousHash='5d7c7ba21cbbcd75d14800b100252d5b428e5b1213d27c385bc141ca6b47989e'\n",
    "while found==False:\n",
    "    z=str(blockNumber)+str(NONCE)+data+previousHash\n",
    "    guessHash=hashlib.sha256(z.encode('utf-8')).hexdigest()\n",
    "    if guessHash[:4]=='0000':\n",
    "        found=True\n",
    "    NONCE+=1\n",
    "print(\"Solved \", \"NONCE: \", NONCE, \"guessHash: \", guessHash)"
   ]
  },
  {
   "cell_type": "markdown",
   "id": "15d8e589",
   "metadata": {},
   "source": [
    "### 3-2 찾고자 하는 해시가 ```00000```로 시작한다고 하자. 몇 회만에 찾는지 출력하세요."
   ]
  },
  {
   "cell_type": "code",
   "execution_count": 139,
   "id": "57931b52",
   "metadata": {},
   "outputs": [
    {
     "name": "stdout",
     "output_type": "stream",
     "text": [
      "Solved  NONCE:  963227 guessHash:  0000030a7730401222cc78b6e71c47f04b7d6b8f859479ef15c4f150167ab469\n"
     ]
    }
   ],
   "source": [
    "import hashlib\n",
    "ntry=1\n",
    "found=False\n",
    "blockNumber=1204\n",
    "NONCE=0\n",
    "data='Hello'\n",
    "previousHash='5d7c7ba21cbbcd75d14800b100252d5b428e5b1213d27c385bc141ca6b47989e'\n",
    "while found==False:\n",
    "    z=str(blockNumber)+str(NONCE)+data+previousHash\n",
    "    guessHash=hashlib.sha256(z.encode('utf-8')).hexdigest()\n",
    "    if guessHash[:5]=='00000':\n",
    "        found=True\n",
    "    NONCE+=1\n",
    "print(\"Solved \", \"NONCE: \", NONCE, \"guessHash: \", guessHash)"
   ]
  },
  {
   "cell_type": "markdown",
   "id": "3d940fe8",
   "metadata": {},
   "source": [
    "### 3-3 찾고자 하는 해시가 ```000000```로 시작한다고 하자. 몇 회만에 찾는지 출력하세요."
   ]
  },
  {
   "cell_type": "code",
   "execution_count": 140,
   "id": "3ed95a82",
   "metadata": {},
   "outputs": [
    {
     "name": "stdout",
     "output_type": "stream",
     "text": [
      "Solved  NONCE:  41197733 guessHash:  0000004d5165fc6ba43ef03c699bf6fb81a76ed5daf6ea67c515eda2b75491eb\n"
     ]
    }
   ],
   "source": [
    "import hashlib\n",
    "ntry=1\n",
    "found=False\n",
    "blockNumber=1204\n",
    "NONCE=0\n",
    "data='Hello'\n",
    "previousHash='5d7c7ba21cbbcd75d14800b100252d5b428e5b1213d27c385bc141ca6b47989e'\n",
    "while found==False:\n",
    "    z=str(blockNumber)+str(NONCE)+data+previousHash\n",
    "    guessHash=hashlib.sha256(z.encode('utf-8')).hexdigest()\n",
    "    if guessHash[:6]=='000000':\n",
    "        found=True\n",
    "    NONCE+=1\n",
    "print(\"Solved \", \"NONCE: \", NONCE, \"guessHash: \", guessHash)"
   ]
  },
  {
   "cell_type": "markdown",
   "id": "e07650f4",
   "metadata": {},
   "source": [
    "### 난이도가 어떤 경우가 높았으며, 난이도에 따라 찾는 회수의 차이가 있는지 설명하세요.\n",
    "### \"000000\"을 찾는경우(3-3)에 난이도가 가장 높았다\n",
    "### 난이도에 따른 횟수의 차이 : 난이도가 높을수록 횟수(Nonce값) 또한 증가하였다"
   ]
  }
 ],
 "metadata": {
  "kernelspec": {
   "display_name": "Python 3 (ipykernel)",
   "language": "python",
   "name": "python3"
  },
  "language_info": {
   "codemirror_mode": {
    "name": "ipython",
    "version": 3
   },
   "file_extension": ".py",
   "mimetype": "text/x-python",
   "name": "python",
   "nbconvert_exporter": "python",
   "pygments_lexer": "ipython3",
   "version": "3.10.3"
  }
 },
 "nbformat": 4,
 "nbformat_minor": 5
}
