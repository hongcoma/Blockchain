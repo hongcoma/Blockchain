{
 "cells": [
  {
   "cell_type": "markdown",
   "id": "19e321ee",
   "metadata": {},
   "source": [
    "# 블록체인 코드 저장"
   ]
  },
  {
   "cell_type": "markdown",
   "id": "cac78d3d",
   "metadata": {},
   "source": [
    "# 1. genesis.josn 생성(chain id, nonce, 바꾸기)\n",
    "# 2. _geth_genesis.bat 생성(datadir 생성)\n",
    "# 3. _gethNow.bat 생성(identity, rpcport, port, networkid 바꾸기 networkid는 chainid랑 같게)\n",
    "# 4. _geth_genesis.bat 실행\n",
    "# 5. cmd에서 geth --datadir .\\새폴더 account new로 새 계정 생성\n",
    "# 6. _gethNow.bat 실행"
   ]
  },
  {
   "cell_type": "markdown",
   "id": "a0b9d46a",
   "metadata": {},
   "source": [
    "# ganache 생성\n",
    "# 1. node_modules\\\\.bin\\ganache-cli --unlock 0 --host \"localhost\" --port \"8345\"\n",
    "\n",
    "node_modules\\\\.bin\\ganache-cli --unlock 0 --host \"localhost\" --port \"8345\""
   ]
  },
  {
   "cell_type": "code",
   "execution_count": 12,
   "id": "53815edc",
   "metadata": {},
   "outputs": [
    {
     "name": "stdout",
     "output_type": "stream",
     "text": [
      "Overwriting _genesisTest.json\n"
     ]
    }
   ],
   "source": [
    "%%writefile _genesisTest.json\n",
    "{\n",
    "  \"config\": {\n",
    "    \"chainId\": 55,\n",
    "    \"homesteadBlock\": 0,\n",
    "    \"eip150Block\": 0,\n",
    "    \"eip155Block\": 0,\n",
    "    \"eip158Block\": 0\n",
    "  },\n",
    "  \"nonce\": \"0x0000000000000055\",\n",
    "  \"timestamp\": \"0x0\",\n",
    "  \"parentHash\": \"0x0000000000000000000000000000000000000000000000000000000000000000\",\n",
    "  \"gasLimit\": \"0x8000000\",\n",
    "  \"difficulty\": \"0x100\",\n",
    "  \"mixhash\": \"0x0000000000000000000000000000000000000000000000000000000000000000\",\n",
    "  \"coinbase\": \"0x3333333333333333333333333333333333333335\",\n",
    "  \"alloc\": {}\n",
    "}"
   ]
  },
  {
   "cell_type": "code",
   "execution_count": 13,
   "id": "e5487483",
   "metadata": {},
   "outputs": [
    {
     "name": "stdout",
     "output_type": "stream",
     "text": [
      "Overwriting _geth_genesisTest.bat\n"
     ]
    }
   ],
   "source": [
    "%%writefile _geth_genesisTest.bat\n",
    "geth --datadir .\\tmp init _genesisTest.json"
   ]
  },
  {
   "cell_type": "markdown",
   "id": "34c208b8",
   "metadata": {},
   "source": [
    "# cmd에서 geth --datadir .\\새폴더 account new로 새 계정 생성"
   ]
  },
  {
   "cell_type": "code",
   "execution_count": 14,
   "id": "5636e67b",
   "metadata": {},
   "outputs": [
    {
     "name": "stdout",
     "output_type": "stream",
     "text": [
      "Overwriting _gethNowTest.bat\n"
     ]
    }
   ],
   "source": [
    "%%writefile _gethNowTest.bat\n",
    "geth --identity \"Jong\" --unlock 0 --datadir .\\tmp --rpc --rpcaddr \"localhost\" --rpcport \"8338\" --rpccorsdomain \"*\" --port \"38338\" --rpcapi \"admin, db, eth, debug, miner, net, shh, txpool, personal, web3\" --networkid 55 --ipcdisable"
   ]
  },
  {
   "cell_type": "markdown",
   "id": "b8a9bd0f",
   "metadata": {},
   "source": [
    "### e3_Ethereum_geth\n",
    "3-1. 사설망을 구성하고 접속하기\n",
    "1. genesis설정으로 블록체인을 초기화 해야한다.\n",
    "2. genesis.json 파일을 만들어서 초기화를함\n",
    "%%writefile _genesis.json\n",
    "{\n",
    "  \"config\": {\n",
    "    \"chainId\": 33,\n",
    "    \"homesteadBlock\": 0,\n",
    "    \"eip150Block\": 0,\n",
    "    \"eip155Block\": 0,\n",
    "    \"eip158Block\": 0\n",
    "  },\n",
    "  \"nonce\": \"0x0000000000000033\",\n",
    "  \"timestamp\": \"0x0\",\n",
    "  \"parentHash\": \"0x0000000000000000000000000000000000000000000000000000000000000000\",\n",
    "  \"gasLimit\": \"0x8000000\",\n",
    "  \"difficulty\": \"0x100\",\n",
    "  \"mixhash\": \"0x0000000000000000000000000000000000000000000000000000000000000000\",\n",
    "  \"coinbase\": \"0x3333333333333333333333333333333333333333\",\n",
    "  \"alloc\": {}\n",
    "}\n",
    "### genesis.json 생성시 chainid는 networkid와 같아야함\n",
    "### genesis.json 생성 후 geth_genesis.bat으로 사설망 생성\n",
    "### 그후 cmd에서 geth --datadir .\\새폴더 account new로 새 계정 생성\n",
    "### gethNow.bat 생성시 datadir, rpcport, port 변경하기 , (이때 networkid는 genesisjson의 chainid와 같아야함\n",
    "3. geth에 접속한 후 personal.newAccount(\"비밀번호\")로 생성\n",
    "4. geth 사설망 접속 (gethNow.bat 생성)\n",
    "geth --identity \"Hong\" --unlock 0 --datadir .\\eth --rpc --rpcaddr \"localhost\" --rpcport \"8445\" --rpccorsdomain \"*\" --port \"38445\" --rpcapi \"admin, db, eth, debug, miner, net, shh, txpool, personal, web3\" --networkid 33\n",
    "5. 충전(마이닝) --> miner.start(), miner.stop()\n",
    "6. "
   ]
  },
  {
   "cell_type": "markdown",
   "id": "4673445b",
   "metadata": {},
   "source": [
    "### e4_gethAccount\n",
    "4-1. 이더리움은 한 계정에 한 주소를 가짐. 주소 address는 20 바이트 코드\n",
    "주소 생성 절차 : 문자열 해싱 -> 개인키 (ECDSA) -> 공개키 (Keccak-256) -> 주소\n",
    "\n",
    "해싱 하는 과정은 4주차 과제 Q4에 나와있음\n",
    "\n",
    "주소파일은 C:\\Users\\Administrator\\Code\\학번\\eth\\keystore에 있음\n",
    "\n",
    "nonce는 eth.getTransactionCount(eht.accounts[0])으로 확인 가능\n",
    "\n"
   ]
  },
  {
   "cell_type": "markdown",
   "id": "ce463779",
   "metadata": {},
   "source": [
    "### 문제\n",
    "1907년 고종의 a plea for korea로 알려진 \"헤이그 만국 평화 회의에 고하는 글\"의 전문 중 \"일본인들은 대한제국 황제 폐하의 정식 허가 없이 행동하였다.\"라는 문장이 있다. 영문으로는 \"The Japanese acted without the consent of his Majesty the Emperor of Korea.\"이다. 이 문장의 without을 with로 일본측에서 위조했다고 하자. 즉:\n",
    "\n",
    "(원본) \"The Japanese acted without the consent of his Majesty the Emperor of Korea.\"\n",
    "(위조) \"The Japanese acted with the consent of his Majesty the Emperor of Korea.\"\n",
    "파이썬 프로그램으로:\n",
    "\n",
    "1) 원본을 해싱하고 출력\n",
    "2) 위조를 해싱하고 출력\n",
    "3) 원본은 위조보다 영어 3 글자가 많다. 원본과 위조에서 구한 해시의 바이트 수와 차이를 출력"
   ]
  },
  {
   "cell_type": "code",
   "execution_count": 56,
   "id": "86fc996c",
   "metadata": {},
   "outputs": [
    {
     "name": "stdout",
     "output_type": "stream",
     "text": [
      "1bb1de8e7722d2d8af05c6356c9f6f0846e7bc68d4ab1de49e4ffa994308769e\n",
      "bb2103f4a1230e5a1b198f845da9f32c7a82f8e730c88c220cebef677d7317a9\n",
      "32\n",
      "32\n"
     ]
    }
   ],
   "source": [
    "import hashlib\n",
    "Original=\"The Japanese acted without the consent of his Majesty the Emperor of Korea.\"\n",
    "Changed=\"The Japanese acted with the consent of his Majesty the Emperor of Korea.\"\n",
    "A=hashlib.sha256(Original.encode('utf-8'))\n",
    "B=hashlib.sha256(Changed.encode('utf-8'))\n",
    "print(A.hexdigest())\n",
    "print(B.hexdigest())\n",
    "print(A.digest_size)\n",
    "print(B.digest_size)"
   ]
  },
  {
   "cell_type": "markdown",
   "id": "c7ac6bf2",
   "metadata": {},
   "source": [
    "### e5_gethTrans\n",
    "### 문제\n",
    "geth서버를 포트번호 8446에 하나 더 띄우세요 (geth@8446이라고 명명). geth@8446의 chainid, nteworkid는 36번으로 설정한다. geth@8446에서 계정을 2개 만들고, 충전을 해 놓는다 (coinbase에 5 ether 이상). 아래 문제는 eth 스크립트로 작성하여 풀고, geth --exec 'loadScript()'로 실행한다. 스크립트는 하나 이상 작성해도 된다. 3개까지 허용되고, 4개 이상은 감점하게 됩니다.\n",
    "\n",
    "- 1-1. geth@8446에서 admin.nodeInfo 출력\n",
    "- 1-2. geth@8446에서 계정, ether 잔고 출력 (잔고가 5 ether 이상 있어야 함)\n",
    "- 1-3 geth@8446에서 블록번호를 출력\n",
    "- 1-3 geth@8446 coinbase에서 geth@8446 2번째 계정으로 1.1111 ether 계좌이체\n",
    "- 1-4 계좌이체의 hash값을 사용해 getTransactionReceipt 출력\n",
    "- 1-5 계좌이체가 성공했다면 geth@8446의 수신측 계정잔고, 수신측 잔고변화 ether, 블록번호를 출력하세요."
   ]
  },
  {
   "cell_type": "code",
   "execution_count": 12,
   "id": "db4fb039",
   "metadata": {},
   "outputs": [
    {
     "name": "stdout",
     "output_type": "stream",
     "text": [
      "Overwriting src/transact.js\n"
     ]
    }
   ],
   "source": [
    "%%writefile src/transact.js\n",
    "miner.setEtherbase(eth.accounts[0]);\n",
    "var bal1=eth.getBalance(eth.coinbase);\n",
    "var bal2=eth.getBalance(eth.accounts[1]);\n",
    "console.log('sender balance in ether: ', web3.fromWei(bal1,\"ether\"));\n",
    "console.log('receiver balance in ether: ', web3.fromWei(bal2,\"ether\"));\n",
    "console.log('- before blocknum: ',eth.blockNumber)\n",
    "var h=eth.sendTransaction({from:eth.coinbase, to:eth.accounts[1],value:10000});\n",
    "miner.start(1);admin.sleepBlocks(1);miner.stop();\n",
    "var bal1new=eth.getBalance(eth.coinbase);\n",
    "var bal2new=eth.getBalance(eth.accounts[1]);\n",
    "console.log('- New sender balance in ether: ', web3.fromWei(bal1new,\"ether\"));\n",
    "console.log('- New receiver balance in ether: ', web3.fromWei(bal2new,\"ether\"));\n",
    "console.log('- after blocknum: ',eth.blockNumber)\n",
    "console.log('- Used Gas:', eth.getTransactionReceipt(h).gasUsed);\n",
    "console.log('- REceipt:', JSON.stringify(eth.getTransactionReceipt(h)));"
   ]
  },
  {
   "cell_type": "code",
   "execution_count": 13,
   "id": "0556a8be",
   "metadata": {
    "scrolled": true
   },
   "outputs": [
    {
     "name": "stdout",
     "output_type": "stream",
     "text": [
      "sender balance in ether:  1334.99999999999966\n",
      "receiver balance in ether:  1800.00000000000033\n",
      "- before blocknum:  1214\n",
      "- New sender balance in ether:  1344.99999999999965\n",
      "- New receiver balance in ether:  1800.00000000000034\n",
      "- after blocknum:  1216\n",
      "- Used Gas: 21000\n",
      "- REceipt: {\"blockHash\":\"0x6578e5e8c7ec9b5f3095072a5a51fa2f98b7419f961f5294b882c12e4c7a2f15\",\"blockNumber\":1215,\"contractAddress\":null,\"cumulativeGasUsed\":21000,\"from\":\"0x85029c4088106a959727efdf3102d511bdcb4722\",\"gasUsed\":21000,\"logs\":[],\"logsBloom\":\"0x00000000000000000000000000000000000000000000000000000000000000000000000000000000000000000000000000000000000000000000000000000000000000000000000000000000000000000000000000000000000000000000000000000000000000000000000000000000000000000000000000000000000000000000000000000000000000000000000000000000000000000000000000000000000000000000000000000000000000000000000000000000000000000000000000000000000000000000000000000000000000000000000000000000000000000000000000000000000000000000000000000000000000000000000000000000\",\"root\":\"0xacad708125f59c6b9f21bf89f3cc17809a685d5a406cf32d1c9c76273d47b970\",\"to\":\"0x3aff7ed9675b21c2b1d95791254e3d471140cbb6\",\"transactionHash\":\"0x91aca436646ec90e187800ab689b5e6c697bc2ee53e67b4d0ae5119d92ccfa3d\",\"transactionIndex\":0}\n",
      "true\n"
     ]
    }
   ],
   "source": [
    "!geth --exec \"loadScript('/src/transact.js')\" attach http://localhost:8445"
   ]
  },
  {
   "cell_type": "markdown",
   "id": "d840d5ed",
   "metadata": {},
   "source": [
    "geth서버를 포트번호 8446에 하나 더 띄우세요 (geth@8446이라고 명명) 현재 8445 포트를 쓰고 있는 geth(geth@8445라고 명명)를 포함해서, 총 2개의 geth 서버가 실행된다. geth가 2개가 뜨지 않으면, geth 띄울 때 --ipcdisable 스위치를 추가한다. 아래 문제는 eth 스크립트로 작성하여 풀고, geth --exec 'loadScript()'로 실행한다. 스크립트는 하나 이상 작성해도 된다. 3개까지 는 허용되고, 4개 이상은 감점하게 됩니다.\n",
    "\n",
    "- 1-1 geth@8446 coinbase에서 geth@8445으로 coinbase로 1.11 ether 계좌이체\n",
    "- 1-2 계좌이체의 hash값을 사용해 getTransactionReceipt 출력\n",
    "- 1-3 계좌이체가 성공했는지, 실패했는지 적으세요. 성공했다면 수신측 geth@8445의 계정, 잔고 ether, 블록번호를 출력하고 실패했다면 그 이유를 적으세요."
   ]
  },
  {
   "cell_type": "code",
   "execution_count": 2,
   "id": "bcbcc8f1",
   "metadata": {},
   "outputs": [
    {
     "name": "stdout",
     "output_type": "stream",
     "text": [
      "Q1. Block Number:  34\n",
      "Q2. Enode:  enode://02a227dc87e41f2c6719ff05dc03ad769de4b72727ed9a7067ddf5fb8a1ad5090a1f795f03d189f7f9a03e47027be797909b729afa47b0e7881bc58e90233869@192.168.219.102:38338\n",
      "Q3. PeerCount:  0 Peers:  \n",
      "Q4. Accounts:  0x9f369589981f146f583000755b98d01d661b1fab,0xb5cc812231e330d53ef8b428dd3605ea7f48f880\n",
      "Q5_1. Account1's Balance:  170 eth\n",
      "Q5_1. Account2's Balance:  0 eth\n",
      "err: Error: invalid address\n",
      "false\n"
     ]
    }
   ],
   "source": [
    "!geth --exec \"loadScript('/src/exercise1.js')\" attach http://localhost:8338"
   ]
  },
  {
   "cell_type": "code",
   "execution_count": 16,
   "id": "9a71fa0a",
   "metadata": {},
   "outputs": [
    {
     "name": "stdout",
     "output_type": "stream",
     "text": [
      "Overwriting src/_______transact.js\n"
     ]
    }
   ],
   "source": [
    "%%writefile src/_______transact.js\n",
    "miner.setEtherbase(eth.accounts[0]);\n",
    "var bal1=eth.getBalance(eth.coinbase);\n",
    "var bal2=eth.getBalance(\"0x9a23e82edb2636f508a4e5c8216d9124f9eb2910\");\n",
    "console.log('sender balance in ether: ', web3.fromWei(bal1,\"ether\"));\n",
    "console.log('receiver balance in ether: ', web3.fromWei(bal2,\"ether\"));\n",
    "var h=eth.sendTransaction({from:eth.coinbase, to:\"0x9a23e82edb2636f508a4e5c8216d9124f9eb2910\",value:10000});\n",
    "miner.start(1);admin.sleepBlocks(1);miner.stop();\n",
    "var bal1new=eth.getBalance(eth.coinbase);\n",
    "var bal2new=eth.getBalance(\"0x9a23e82edb2636f508a4e5c8216d9124f9eb2910\");\n",
    "console.log('- New sender balance in ether: ', web3.fromWei(bal1new,\"ether\"));\n",
    "console.log('- New receiver balance in ether: ', web3.fromWei(bal2new,\"ether\"));\n",
    "console.log('- Used Gas:', eth.getTransactionReceipt(h).gasUsed);"
   ]
  },
  {
   "cell_type": "code",
   "execution_count": 17,
   "id": "0b4869a0",
   "metadata": {
    "scrolled": true
   },
   "outputs": [
    {
     "name": "stdout",
     "output_type": "stream",
     "text": [
      "sender balance in ether:  199.99999999999996\n",
      "receiver balance in ether:  0\n",
      "- New sender balance in ether:  204.99999999999995\n",
      "- New receiver balance in ether:  1e-14\n",
      "- Used Gas: 21000\n",
      "true\n"
     ]
    }
   ],
   "source": [
    "!geth --exec \"loadScript('src/_______transact.js')\" attach http://localhost:8338 "
   ]
  },
  {
   "cell_type": "code",
   "execution_count": 21,
   "id": "3223cbbe",
   "metadata": {},
   "outputs": [
    {
     "name": "stdout",
     "output_type": "stream",
     "text": [
      "0\n"
     ]
    }
   ],
   "source": [
    "!geth --exec eth.getBalance(eth.accounts[3]) attach http://localhost:8445"
   ]
  },
  {
   "cell_type": "code",
   "execution_count": 28,
   "id": "c4468c5e",
   "metadata": {
    "scrolled": true
   },
   "outputs": [
    {
     "name": "stdout",
     "output_type": "stream",
     "text": [
      "0\n"
     ]
    }
   ],
   "source": [
    "!geth --exec eth.getBalance('0x9a23e82edb2636f508a4e5c8216d9124f9eb2910') attach http://localhost:8445"
   ]
  },
  {
   "cell_type": "code",
   "execution_count": 29,
   "id": "5ec0edbb",
   "metadata": {
    "scrolled": true
   },
   "outputs": [
    {
     "name": "stdout",
     "output_type": "stream",
     "text": [
      "10000\n"
     ]
    }
   ],
   "source": [
    "!geth --exec eth.getBalance('0x9a23e82edb2636f508a4e5c8216d9124f9eb2910') attach http://localhost:8338"
   ]
  },
  {
   "cell_type": "markdown",
   "id": "9496b46a",
   "metadata": {},
   "source": [
    "## 자신의 chainid로 사설망인지 확인하기"
   ]
  },
  {
   "cell_type": "code",
   "execution_count": 4,
   "id": "96956ea5",
   "metadata": {},
   "outputs": [
    {
     "name": "stdout",
     "output_type": "stream",
     "text": [
      "Overwriting src/CheckPrivate.js\n"
     ]
    }
   ],
   "source": [
    "%%writefile src/CheckPrivate.js\n",
    "var id=admin.nodeInfo.protocols.eth.config.chainId;\n",
    "if (id>4){\n",
    "    console.log(\"Private Network\");\n",
    "}\n",
    "else{\n",
    "    console.log(\"Not Private Network\");\n",
    "}"
   ]
  },
  {
   "cell_type": "code",
   "execution_count": 6,
   "id": "1ea3a21e",
   "metadata": {
    "scrolled": true
   },
   "outputs": [
    {
     "name": "stdout",
     "output_type": "stream",
     "text": [
      "Private Network\n",
      "true\n"
     ]
    }
   ],
   "source": [
    "!geth --exec \"loadScript('src/CheckPrivate.js')\" attach http://localhost:8338 "
   ]
  },
  {
   "cell_type": "code",
   "execution_count": 10,
   "id": "45623be5",
   "metadata": {
    "scrolled": false
   },
   "outputs": [
    {
     "name": "stdout",
     "output_type": "stream",
     "text": [
      "\"192.168.219.102\"\n"
     ]
    }
   ],
   "source": [
    "!geth --exec admin.nodeInfo.ip attach http://localhost:8338"
   ]
  },
  {
   "cell_type": "code",
   "execution_count": 16,
   "id": "b8aa08c2",
   "metadata": {},
   "outputs": [
    {
     "name": "stdout",
     "output_type": "stream",
     "text": [
      "Overwriting src/___tmp.js\n"
     ]
    }
   ],
   "source": [
    "%%writefile src/___tmp.js\n",
    "console.log(JSON.stringify(admin.nodeInfo));\n",
    "console.log(\"\\n\");\n",
    "console.log(Object.keys(admin.nodeInfo));\n",
    "console.log(\"\\n\");\n",
    "var t=admin.nodeInfo;\n",
    "console.log(Object.keys(t.protocols.eth));"
   ]
  },
  {
   "cell_type": "code",
   "execution_count": 17,
   "id": "b1262989",
   "metadata": {
    "scrolled": false
   },
   "outputs": [
    {
     "name": "stdout",
     "output_type": "stream",
     "text": [
      "{\"enode\":\"enode://02a227dc87e41f2c6719ff05dc03ad769de4b72727ed9a7067ddf5fb8a1ad5090a1f795f03d189f7f9a03e47027be797909b729afa47b0e7881bc58e90233869@192.168.219.102:38338\",\"enr\":\"0xf89cb840f5edefabb3e480895f9c408a8511bc6884a0e2bcbbe6b5f24210ebb3cd3672e348996e5110c9aa7b26fd6e38fd52942ae882228901aec7c5ab8e3839e435bf760683636170ccc5836574683ec5836574683f82696482763482697084c0a8db6689736563703235366b31a10302a227dc87e41f2c6719ff05dc03ad769de4b72727ed9a7067ddf5fb8a1ad509837463708295c2837564708295c2\",\"id\":\"cc7a4229f12796b951dade9aed5723a5bf6ece351debbba2586805ac52e9addf\",\"ip\":\"192.168.219.102\",\"listenAddr\":\"[::]:38338\",\"name\":\"Geth/Jong/v1.8.20-stable-24d727b6/windows-amd64/go1.11.2\",\"ports\":{\"discovery\":38338,\"listener\":38338},\"protocols\":{\"eth\":{\"config\":{\"chainId\":55,\"eip150Block\":0,\"eip150Hash\":\"0x0000000000000000000000000000000000000000000000000000000000000000\",\"eip155Block\":0,\"eip158Block\":0,\"homesteadBlock\":0},\"difficulty\":5410305,\"genesis\":\"0x64c1fb1b93e8986713623a90c683fc2861420a0c19564671f52476d4a3e996ff\",\"head\":\"0x99a39dc4c748d43d423fa5e0a2f2d450b02b6496b9bd7907388aacb0a1ad26ed\",\"network\":55}}}\n",
      "\n",
      "\n",
      "name,enode,enr,ip,ports,listenAddr,protocols,id\n",
      "\n",
      "\n",
      "difficulty,genesis,config,head,network\n",
      "true\n"
     ]
    }
   ],
   "source": [
    "!geth --exec \"loadScript('src/___tmp.js')\" attach http://localhost:8338 "
   ]
  },
  {
   "cell_type": "markdown",
   "id": "20c7e1cc",
   "metadata": {},
   "source": [
    "# 간단한 계수기"
   ]
  },
  {
   "cell_type": "code",
   "execution_count": 47,
   "id": "12b737ee",
   "metadata": {},
   "outputs": [
    {
     "name": "stdout",
     "output_type": "stream",
     "text": [
      "Overwriting src/Counter.sol\n"
     ]
    }
   ],
   "source": [
    "%%writefile src/Counter.sol\n",
    "// SPDX-License-Identifier: GPL-3.0\n",
    "pragma solidity ^0.8.0;\n",
    "contract Counter {\n",
    "    uint256 counter = 0;\n",
    "    function add() public {\n",
    "        counter++;\n",
    "    }\n",
    "    function subtract() public {\n",
    "        counter--;\n",
    "    }\n",
    "    function getCounter() public view returns (uint256) {\n",
    "        return counter;\n",
    "    }\n",
    "}"
   ]
  },
  {
   "cell_type": "code",
   "execution_count": 48,
   "id": "d7bac178",
   "metadata": {},
   "outputs": [],
   "source": [
    "!solc --optimize --combined-json abi,bin src/Counter.sol > src/Counter.json"
   ]
  },
  {
   "cell_type": "code",
   "execution_count": 49,
   "id": "0205948f",
   "metadata": {},
   "outputs": [
    {
     "name": "stdout",
     "output_type": "stream",
     "text": [
      "{\"contracts\":{\"src/Timer.sol:Timer\":{\"abi\":\"[{\\\"constant\\\":true,\\\"inputs\\\":[],\\\"name\\\":\\\"timePassed\\\",\\\"outputs\\\":[{\\\"name\\\":\\\"\\\",\\\"type\\\":\\\"uint256\\\"}],\\\"payable\\\":false,\\\"stateMutability\\\":\\\"view\\\",\\\"type\\\":\\\"function\\\"},{\\\"constant\\\":true,\\\"inputs\\\":[],\\\"name\\\":\\\"getNow\\\",\\\"outputs\\\":[{\\\"name\\\":\\\"\\\",\\\"type\\\":\\\"uint256\\\"}],\\\"payable\\\":false,\\\"stateMutability\\\":\\\"view\\\",\\\"type\\\":\\\"function\\\"},{\\\"constant\\\":false,\\\"inputs\\\":[],\\\"name\\\":\\\"start\\\",\\\"outputs\\\":[],\\\"payable\\\":false,\\\"stateMutability\\\":\\\"nonpayable\\\",\\\"type\\\":\\\"function\\\"}]\",\"bin\":\"608060405234801561001057600080fd5b5060df8061001f6000396000f30060806040526004361060525763ffffffff7c0100000000000000000000000000000000000000000000000000000000600035041663b445425381146057578063bbe4fd5014607b578063be9a655514608d575b600080fd5b348015606257600080fd5b50606960a1565b60408051918252519081900360200190f35b348015608657600080fd5b50606960a9565b348015609857600080fd5b50609f60ad565b005b600054420390565b4290565b426000555600a165627a7a723058208109c0055e95a777463c79295d8fd4ff513be864c10d599e98fea6b6b9dd38a60029\"}},\"version\":\"0.4.25+commit.59dbf8f1.Windows.msvc\"}\n"
     ]
    }
   ],
   "source": [
    "!type src\\Timer.json"
   ]
  },
  {
   "cell_type": "code",
   "execution_count": 50,
   "id": "647bd4a5",
   "metadata": {},
   "outputs": [
    {
     "name": "stdout",
     "output_type": "stream",
     "text": [
      "- contract name:  [ 'src/Timer.sol:Timer' ]\n",
      "- ABI:  [{\"constant\":true,\"inputs\":[],\"name\":\"timePassed\",\"outputs\":[{\"name\":\"\",\"type\":\"uint256\"}],\"payable\":false,\"stateMutability\":\"view\",\"type\":\"function\"},{\"constant\":true,\"inputs\":[],\"name\":\"getNow\",\"outputs\":[{\"name\":\"\",\"type\":\"uint256\"}],\"payable\":false,\"stateMutability\":\"view\",\"type\":\"function\"},{\"constant\":false,\"inputs\":[],\"name\":\"start\",\"outputs\":[],\"payable\":false,\"stateMutability\":\"nonpayable\",\"type\":\"function\"}]\n",
      "- ABIArray:  [{\"constant\":true,\"inputs\":[],\"name\":\"timePassed\",\"outputs\":[{\"name\":\"\",\"type\":\"uint256\"}],\"payable\":false,\"stateMutability\":\"view\",\"type\":\"function\"},{\"constant\":true,\"inputs\":[],\"name\":\"getNow\",\"outputs\":[{\"name\":\"\",\"type\":\"uint256\"}],\"payable\":false,\"stateMutability\":\"view\",\"type\":\"function\"},{\"constant\":false,\"inputs\":[],\"name\":\"start\",\"outputs\":[],\"payable\":false,\"stateMutability\":\"nonpayable\",\"type\":\"function\"}]\n",
      "- Bytecode:  608060405234801561001057600080fd5b5060df8061001f6000396000f30060806040526004361060525763ffffffff7c0100000000000000000000000000000000000000000000000000000000600035041663b445425381146057578063bbe4fd5014607b578063be9a655514608d575b600080fd5b348015606257600080fd5b50606960a1565b60408051918252519081900360200190f35b348015608657600080fd5b50606960a9565b348015609857600080fd5b50609f60ad565b005b600054420390565b4290565b426000555600a165627a7a723058208109c0055e95a777463c79295d8fd4ff513be864c10d599e98fea6b6b9dd38a60029\n"
     ]
    }
   ],
   "source": [
    "!node src/TimerImportTest.js"
   ]
  },
  {
   "cell_type": "code",
   "execution_count": 52,
   "id": "1e9156c0",
   "metadata": {},
   "outputs": [
    {
     "name": "stdout",
     "output_type": "stream",
     "text": [
      "Overwriting src/CounterDeployAbiBinFromFile.js\n"
     ]
    }
   ],
   "source": [
    "%%writefile src/CounterDeployAbiBinFromFile.js\n",
    "var Web3 = require('web3');\n",
    "var _abiBinJson = require('./Counter.json');      //importing a javascript file\n",
    "\n",
    "var web3 = new Web3(new Web3.providers.HttpProvider(\"http://localhost:8345\"));\n",
    "\n",
    "contractName=Object.keys(_abiBinJson.contracts); // reading ['src/Counter.sol:Counter']\n",
    "console.log(\"- contract name: \", contractName);\n",
    "_abi=_abiBinJson.contracts[contractName].abi;\n",
    "_abiArray=JSON.parse(JSON.stringify(_abi));\n",
    "//_abiArray=JSON.parse(_abi);      //JSON parsing needed!!\n",
    "_bin=_abiBinJson.contracts[contractName].bin;\n",
    "\n",
    "console.log(\"- ABI: \" + JSON.stringify(_abiArray));\n",
    "console.log(\"- Bytecode: \" + _bin);\n",
    "\n",
    "async function deploy() {\n",
    "    const accounts = await web3.eth.getAccounts();\n",
    "    console.log(\"Deploying the contract from \" + accounts[0]);\n",
    "    var deployed = await new web3.eth.Contract(_abiArray)\n",
    "        .deploy({data: \"0x\"+_bin})\n",
    "        .send({from: accounts[0], gas: 364124}, function(err, transactionHash) {\n",
    "                if(!err) console.log(\"hash: \" + transactionHash); \n",
    "        })\n",
    "        //.then(function(newContractInstance){\n",
    "        //    console.log(newContractInstance)\n",
    "        //});\n",
    "    console.log(\"---> The contract deployed to: \" + deployed.options.address)\n",
    "}\n",
    "deploy()"
   ]
  },
  {
   "cell_type": "code",
   "execution_count": 53,
   "id": "28a57088",
   "metadata": {},
   "outputs": [
    {
     "name": "stdout",
     "output_type": "stream",
     "text": [
      "- contract name:  [ 'src/Counter.sol:Counter' ]\n",
      "- ABI: [{\"inputs\":[],\"name\":\"add\",\"outputs\":[],\"stateMutability\":\"nonpayable\",\"type\":\"function\"},{\"inputs\":[],\"name\":\"getCounter\",\"outputs\":[{\"internalType\":\"uint256\",\"name\":\"\",\"type\":\"uint256\"}],\"stateMutability\":\"view\",\"type\":\"function\"},{\"inputs\":[],\"name\":\"subtract\",\"outputs\":[],\"stateMutability\":\"nonpayable\",\"type\":\"function\"}]\n",
      "- Bytecode: 60806040526000805534801561001457600080fd5b50610111806100246000396000f3fe6080604052348015600f57600080fd5b5060043610603c5760003560e01c80634f2be91f1460415780636deebae31460495780638ada066e14604f575b600080fd5b60476069565b005b6047607d565b6055608a565b604051606091906090565b60405180910390f35b60008054908060768360ad565b9190505550565b6000805490806076836099565b60005490565b90815260200190565b60008160a55760a560c5565b506000190190565b600060001982141560be5760be60c5565b5060010190565b634e487b7160e01b600052601160045260246000fdfea2646970667358221220c46d82f5540b8c97d751d6dca783ee371ecb3e8fa930dcdbd77c3026015a215764736f6c63430008000033\n",
      "Deploying the contract from 0xD65FCC992D149e00352eD25e09341D04bfA30d7b\n",
      "hash: 0xc7038f382aaaa38ecd4d3dcb34d95de8686e010847986ff58262487bd5f6568c\n",
      "---> The contract deployed to: 0xC57179f7e77Fd5d1c94b018eC25e94a3FBF32b1c\n"
     ]
    }
   ],
   "source": [
    "!node src/CounterDeployAbiBinFromFile.js"
   ]
  },
  {
   "cell_type": "code",
   "execution_count": 56,
   "id": "ed26a263",
   "metadata": {},
   "outputs": [
    {
     "name": "stdout",
     "output_type": "stream",
     "text": [
      "Overwriting src/CounterUse.js\n"
     ]
    }
   ],
   "source": [
    "%%writefile src/CounterUse.js\n",
    "var Web3=require('web3');\n",
    "var _abiBinJson = require('./Counter.json');      //importing a javascript file\n",
    "\n",
    "var web3 = new Web3(new Web3.providers.HttpProvider(\"http://localhost:8345\"));\n",
    "contractName=Object.keys(_abiBinJson.contracts); // reading ['src/Counter.sol:Counter']\n",
    "//console.log(\"- contract name: \", contractName); //or console.log(contractName[0]);\n",
    "_abi=_abiBinJson.contracts[contractName].abi;\n",
    "_abiArray=JSON.parse(JSON.stringify(_abi));\n",
    "//_abiArray=JSON.parse(_abi);      //JSON parsing needed!!\n",
    "//_bin=_abiBinJson.contracts[contractName].bin;\n",
    "//console.log(\"- ABI: \" + _abiArray);\n",
    "//console.log(\"- Bytecode: \" + _bin);\n",
    "\n",
    "var counter = new web3.eth.Contract(_abiArray,\"0xC57179f7e77Fd5d1c94b018eC25e94a3FBF32b1c\");\n",
    "\n",
    "async function doIt() {\n",
    "    const accounts = await web3.eth.getAccounts();\n",
    "    console.log(\"Call from: \" + accounts[0]);\n",
    "    counter.methods.getCounter().call().then(function(str) {console.log(\"first : \"+str);});\n",
    "    await counter.methods.add().send({from:accounts[0],gas:100000});\n",
    "    await counter.methods.add().send({from:accounts[0],gas:100000});\n",
    "    counter.methods.getCounter().call().then(function(str) {console.log(\"second : \"+str);});\n",
    "}\n",
    "\n",
    "doIt()"
   ]
  },
  {
   "cell_type": "code",
   "execution_count": 57,
   "id": "e26b970c",
   "metadata": {
    "scrolled": true
   },
   "outputs": [
    {
     "name": "stdout",
     "output_type": "stream",
     "text": [
      "Call from: 0xD65FCC992D149e00352eD25e09341D04bfA30d7b\n",
      "first : 0\n",
      "second : 2\n"
     ]
    }
   ],
   "source": [
    "!node src/CounterUse.js"
   ]
  },
  {
   "cell_type": "code",
   "execution_count": 19,
   "id": "66a4cffd",
   "metadata": {},
   "outputs": [
    {
     "name": "stdout",
     "output_type": "stream",
     "text": [
      "Overwriting scripts/Counter.html\n"
     ]
    }
   ],
   "source": [
    "%%writefile scripts/Counter.html\n",
    "<!doctype>\n",
    "<html>\n",
    "<head>\n",
    "<script src=\"https://cdn.jsdelivr.net/npm/web3@1.2.5/dist/web3.min.js\"></script>\n",
    "<!-- script src=\"https://cdn.jsdelivr.net/npm/web3@0.20.5/dist/web3.min.js\"></script -->\n",
    "<script type=\"text/javascript\">\n",
    "    var web3 = new Web3(new Web3.providers.HttpProvider(\"http://localhost:8345\"));    \n",
    "    async function displayCounter() {\n",
    "        const accounts = await web3.eth.getAccounts();\n",
    "        var counter = new web3.eth.Contract([{\"constant\":false,\"inputs\":[],\"name\":\"add\",\"outputs\":[],\"payable\":false,\"stateMutability\":\"nonpayable\",\"type\":\"function\"},{\"constant\":false,\"inputs\":[],\"name\":\"subtract\",\"outputs\":[],\"payable\":false,\"stateMutability\":\"nonpayable\",\"type\":\"function\"},{\"constant\":true,\"inputs\":[],\"name\":\"getCounter\",\"outputs\":[{\"name\":\"\",\"type\":\"uint256\"}],\"payable\":false,\"stateMutability\":\"view\",\"type\":\"function\"}],\n",
    "                                            \"0xC08d2Be97f49E9C653f86FFaca40131faB77f546\"); \n",
    "        counter.methods.getCounter().call().then(function(str) {\n",
    "            document.getElementById('C1').innerText = \"Before : \" + str;\n",
    "        });\n",
    "        await counter.methods.add().send({from:accounts[0],gas:100000});\n",
    "        await counter.methods.add().send({from:accounts[0],gas:100000});\n",
    "        counter.methods.getCounter().call().then(function(str) {\n",
    "            document.getElementById('C2').innerText = \"After : \" + str;\n",
    "        });\n",
    "        \n",
    "    }\n",
    "</script>\n",
    "</head>\n",
    "<body>\n",
    "    <h1>Hello</h1>\n",
    "    <button type=\"button\" onClick=\"displayCounter();\">Display Counter</button>\n",
    "    <div></div>\n",
    "    <div id=\"C1\"></div>\n",
    "    <div id=\"C2\"></div>\n",
    "</body>\n",
    "</html>"
   ]
  },
  {
   "cell_type": "markdown",
   "id": "09d4986b",
   "metadata": {},
   "source": [
    "# 타이머와 계수기를 결합한 컨트랙\n",
    "\n",
    "timepassed도 나오게 하려면 주석처리 해제하고 sol 저장"
   ]
  },
  {
   "cell_type": "code",
   "execution_count": 60,
   "id": "08cadadd",
   "metadata": {},
   "outputs": [
    {
     "name": "stdout",
     "output_type": "stream",
     "text": [
      "Overwriting src/CountTimer.sol\n"
     ]
    }
   ],
   "source": [
    "%%writefile src/CountTimer.sol\n",
    "// SPDX-License-Identifier: GPL-3.0\n",
    "pragma solidity ^0.8.0;\n",
    "contract Counter {\n",
    "    uint256 counter = 0;\n",
    "    function add() public {\n",
    "        counter++;\n",
    "    }\n",
    "    function subtract() public {\n",
    "        counter--;\n",
    "    }\n",
    "    function getCounter() public view returns (uint256) {\n",
    "        return counter;\n",
    "    }\n",
    "    uint256 startTime;\n",
    "    function start() public {\n",
    "        //startTime=now; now is deprecated as of v0.7\n",
    "        startTime=block.timestamp;\n",
    "    }\n",
    "    function timePassed() public view returns(uint256) {\n",
    "        //return now-startTime;\n",
    "        return block.timestamp-startTime;\n",
    "    }\n",
    "    function getNow() view public returns(uint) {\n",
    "        //return now;\n",
    "        return block.timestamp;\n",
    "    }\n",
    "}"
   ]
  },
  {
   "cell_type": "code",
   "execution_count": 61,
   "id": "8c5fa336",
   "metadata": {},
   "outputs": [],
   "source": [
    "!solc --optimize --combined-json abi,bin src/CountTimer.sol > src/CountTimer.json"
   ]
  },
  {
   "cell_type": "code",
   "execution_count": 62,
   "id": "9befec2d",
   "metadata": {},
   "outputs": [
    {
     "name": "stdout",
     "output_type": "stream",
     "text": [
      "Overwriting src/CountTimerDeployAbiBinFromFile.js\n"
     ]
    }
   ],
   "source": [
    "%%writefile src/CountTimerDeployAbiBinFromFile.js\n",
    "var Web3 = require('web3');\n",
    "var _abiBinJson = require('./CountTimer.json');      //importing a javascript file\n",
    "\n",
    "var web3 = new Web3(new Web3.providers.HttpProvider(\"http://localhost:8345\"));\n",
    "\n",
    "contractName=Object.keys(_abiBinJson.contracts); // reading ['src/Counter.sol:Counter']\n",
    "console.log(\"- contract name: \", contractName);\n",
    "_abi=_abiBinJson.contracts[contractName].abi;\n",
    "_abiArray=JSON.parse(JSON.stringify(_abi));\n",
    "//_abiArray=JSON.parse(_abi);      //JSON parsing needed!!\n",
    "_bin=_abiBinJson.contracts[contractName].bin;\n",
    "\n",
    "console.log(\"- ABI: \" + JSON.stringify(_abiArray));\n",
    "console.log(\"- Bytecode: \" + _bin);\n",
    "\n",
    "async function deploy() {\n",
    "    const accounts = await web3.eth.getAccounts();\n",
    "    console.log(\"Deploying the contract from \" + accounts[0]);\n",
    "    var deployed = await new web3.eth.Contract(_abiArray)\n",
    "        .deploy({data: \"0x\"+_bin})\n",
    "        .send({from: accounts[0], gas: 364124}, function(err, transactionHash) {\n",
    "                if(!err) console.log(\"hash: \" + transactionHash); \n",
    "        })\n",
    "        //.then(function(newContractInstance){\n",
    "        //    console.log(newContractInstance)\n",
    "        //});\n",
    "    console.log(\"---> The contract deployed to: \" + deployed.options.address)\n",
    "}\n",
    "deploy()"
   ]
  },
  {
   "cell_type": "code",
   "execution_count": 63,
   "id": "9479be75",
   "metadata": {
    "scrolled": true
   },
   "outputs": [
    {
     "name": "stdout",
     "output_type": "stream",
     "text": [
      "- contract name:  [ 'src/CountTimer.sol:Counter' ]\n",
      "- ABI: [{\"inputs\":[],\"name\":\"add\",\"outputs\":[],\"stateMutability\":\"nonpayable\",\"type\":\"function\"},{\"inputs\":[],\"name\":\"getCounter\",\"outputs\":[{\"internalType\":\"uint256\",\"name\":\"\",\"type\":\"uint256\"}],\"stateMutability\":\"view\",\"type\":\"function\"},{\"inputs\":[],\"name\":\"getNow\",\"outputs\":[{\"internalType\":\"uint256\",\"name\":\"\",\"type\":\"uint256\"}],\"stateMutability\":\"view\",\"type\":\"function\"},{\"inputs\":[],\"name\":\"start\",\"outputs\":[],\"stateMutability\":\"nonpayable\",\"type\":\"function\"},{\"inputs\":[],\"name\":\"subtract\",\"outputs\":[],\"stateMutability\":\"nonpayable\",\"type\":\"function\"},{\"inputs\":[],\"name\":\"timePassed\",\"outputs\":[{\"internalType\":\"uint256\",\"name\":\"\",\"type\":\"uint256\"}],\"stateMutability\":\"view\",\"type\":\"function\"}]\n",
      "- Bytecode: 60806040526000805534801561001457600080fd5b50610197806100246000396000f3fe608060405234801561001057600080fd5b50600436106100625760003560e01c80634f2be91f146100675780636deebae3146100715780638ada066e14610079578063b445425314610097578063bbe4fd501461009f578063be9a6555146100a7575b600080fd5b61006f6100af565b005b61006f6100c5565b6100816100d4565b60405161008e91906100f9565b60405180910390f35b6100816100da565b6100816100ef565b61006f6100f3565b6000805490806100be83610130565b9190505550565b6000805490806100be83610119565b60005490565b6000600154426100ea9190610102565b905090565b4290565b42600155565b90815260200190565b6000828210156101145761011461014b565b500390565b6000816101285761012861014b565b506000190190565b60006000198214156101445761014461014b565b5060010190565b634e487b7160e01b600052601160045260246000fdfea2646970667358221220cee3fefec1e2f093d0e10f9da4bf554196de450545cac0a2cb7afc1a9a1dd59364736f6c63430008000033\n",
      "Deploying the contract from 0xD65FCC992D149e00352eD25e09341D04bfA30d7b\n",
      "hash: 0x53061cfcedc4348117b90443a8549cdfe4312deddc34e76603588ac87a9d003a\n",
      "---> The contract deployed to: 0x8C2B650D4FB597d263F6e46D54600a9755129d60\n"
     ]
    }
   ],
   "source": [
    "!node src/CountTimerDeployAbiBinFromFile.js"
   ]
  },
  {
   "cell_type": "code",
   "execution_count": 66,
   "id": "7995148c",
   "metadata": {},
   "outputs": [
    {
     "name": "stdout",
     "output_type": "stream",
     "text": [
      "Overwriting src/CounterUse.js\n"
     ]
    }
   ],
   "source": [
    "%%writefile src/CounterUse.js\n",
    "var Web3=require('web3');\n",
    "var _abiBinJson = require('./CountTimer.json');      //importing a javascript file\n",
    "\n",
    "var web3 = new Web3(new Web3.providers.HttpProvider(\"http://localhost:8345\"));\n",
    "contractName=Object.keys(_abiBinJson.contracts); // reading ['src/Counter.sol:Counter']\n",
    "//console.log(\"- contract name: \", contractName); //or console.log(contractName[0]);\n",
    "_abi=_abiBinJson.contracts[contractName].abi;\n",
    "_abiArray=JSON.parse(JSON.stringify(_abi));\n",
    "//_abiArray=JSON.parse(_abi);      //JSON parsing needed!!\n",
    "//_bin=_abiBinJson.contracts[contractName].bin;\n",
    "//console.log(\"- ABI: \" + _abiArray);\n",
    "//console.log(\"- Bytecode: \" + _bin);\n",
    "\n",
    "var counttimer = new web3.eth.Contract(_abiArray,\"0x8C2B650D4FB597d263F6e46D54600a9755129d60\");\n",
    "\n",
    "async function doIt() {\n",
    "    const accounts = await web3.eth.getAccounts();\n",
    "    console.log(\"Call from: \" + accounts[0]);\n",
    "    counttimer.methods.getNow().call().then(function(value) {console.log(\"Now: \"+ value);});\n",
    "    await counttimer.methods.start().send({from:accounts[0],gas:100000});\n",
    "    counttimer.methods.getCounter().call().then(function(str) {console.log(\"first : \"+str);});\n",
    "    await counttimer.methods.add().send({from:accounts[0],gas:100000});\n",
    "    await counttimer.methods.add().send({from:accounts[0],gas:100000});\n",
    "    await counttimer.methods.add().send({from:accounts[0],gas:100000});\n",
    "    counttimer.methods.getCounter().call().then(function(str) {console.log(\"second : \"+str);});\n",
    "    counttimer.methods.timePassed().call().then(function(value) {console.log(\"Passed: \"+ value);});\n",
    "    \n",
    "    \n",
    "    //const accounts = await web3.eth.getAccounts();\n",
    "    //var start =await counttimer.methods.getNow().call();\n",
    "    //console.log(\"start: \"+start);\n",
    "    //counttimer.methods.getCounter().call().then(function(str) {console.log(\"first : \"+str);});\n",
    "    //await counttimer.methods.add().send({from:accounts[0],gas:100000});\n",
    "    //await counttimer.methods.add().send({from:accounts[0],gas:100000});\n",
    "    //await counttimer.methods.add().send({from:accounts[0],gas:100000});\n",
    "    //counttimer.methods.getCounter().call().then(function(str) {console.log(\"second : \"+str);});\n",
    "    //var stop=await counttimer.methods.getNow().call();\n",
    "    //console.log(\"stop: \"+stop);\n",
    "    //var time=await stop-start;\n",
    "    //await 40000000000000000000000;\n",
    "    //console.log(\"used time \"+time);\n",
    "}\n",
    "\n",
    "doIt()"
   ]
  },
  {
   "cell_type": "code",
   "execution_count": 70,
   "id": "577d6c05",
   "metadata": {},
   "outputs": [
    {
     "name": "stdout",
     "output_type": "stream",
     "text": [
      "Call from: 0xD65FCC992D149e00352eD25e09341D04bfA30d7b\n",
      "Now: 1652596183\n",
      "first : 9\n",
      "second : 12\n",
      "Passed: 0\n"
     ]
    }
   ],
   "source": [
    "!node src/CounterUse.js"
   ]
  },
  {
   "cell_type": "markdown",
   "id": "c43723ef",
   "metadata": {},
   "source": [
    "# 7이 곱해져서 나오는 컨트랙"
   ]
  },
  {
   "cell_type": "code",
   "execution_count": 71,
   "id": "41075e6e",
   "metadata": {},
   "outputs": [
    {
     "name": "stdout",
     "output_type": "stream",
     "text": [
      "Overwriting src/Multiply7.sol\n"
     ]
    }
   ],
   "source": [
    "%%writefile src/Multiply7.sol\n",
    "// SPDX-License-Identifier: GPL-3.0\n",
    "pragma solidity ^0.8.0;\n",
    "\n",
    "contract Multiply7 {\n",
    "   function multiply(uint input) public pure returns (uint) {\n",
    "      return input * 7;\n",
    "   }\n",
    "}"
   ]
  },
  {
   "cell_type": "code",
   "execution_count": 72,
   "id": "d29b95c4",
   "metadata": {},
   "outputs": [],
   "source": [
    "!solc --optimize --combined-json abi,bin src/Multiply7.sol > src/Multiply7.json"
   ]
  },
  {
   "cell_type": "code",
   "execution_count": 74,
   "id": "529a2c46",
   "metadata": {},
   "outputs": [
    {
     "name": "stdout",
     "output_type": "stream",
     "text": [
      "Overwriting src/Multiply7DeployAbiBinFromFile.js\n"
     ]
    }
   ],
   "source": [
    "%%writefile src/Multiply7DeployAbiBinFromFile.js\n",
    "var Web3 = require('web3');\n",
    "var _abiBinJson = require('./Multiply7.json');      //importing a javascript file\n",
    "\n",
    "var web3 = new Web3(new Web3.providers.HttpProvider(\"http://localhost:8345\"));\n",
    "\n",
    "contractName=Object.keys(_abiBinJson.contracts); // reading ['src/Multiply7.sol:Multiply7']\n",
    "console.log(\"- contract name: \", contractName);\n",
    "_abi=_abiBinJson.contracts[contractName].abi;\n",
    "_abiArray=JSON.parse(JSON.stringify(_abi));\n",
    "//_abiArray=JSON.parse(_abi);      //JSON parsing needed!!\n",
    "_bin=_abiBinJson.contracts[contractName].bin;\n",
    "\n",
    "console.log(\"- ABI: \" + JSON.stringify(_abiArray));\n",
    "console.log(\"- Bytecode: \" + _bin);\n",
    "\n",
    "async function deploy() {\n",
    "    const accounts = await web3.eth.getAccounts();\n",
    "    console.log(\"Deploying the contract from \" + accounts[0]);\n",
    "    var deployed = await new web3.eth.Contract(_abiArray)\n",
    "        .deploy({data: \"0x\"+_bin})\n",
    "        .send({from: accounts[0], gas: 364124}, function(err, transactionHash) {\n",
    "                if(!err) console.log(\"hash: \" + transactionHash); \n",
    "        })\n",
    "        //.then(function(newContractInstance){\n",
    "        //    console.log(newContractInstance)\n",
    "        //});\n",
    "    console.log(\"---> The contract deployed to: \" + deployed.options.address)\n",
    "}\n",
    "deploy()"
   ]
  },
  {
   "cell_type": "code",
   "execution_count": 75,
   "id": "5a739d39",
   "metadata": {},
   "outputs": [
    {
     "name": "stdout",
     "output_type": "stream",
     "text": [
      "- contract name:  [ 'src/Multiply7.sol:Multiply7' ]\n",
      "- ABI: [{\"inputs\":[{\"internalType\":\"uint256\",\"name\":\"input\",\"type\":\"uint256\"}],\"name\":\"multiply\",\"outputs\":[{\"internalType\":\"uint256\",\"name\":\"\",\"type\":\"uint256\"}],\"stateMutability\":\"pure\",\"type\":\"function\"}]\n",
      "- Bytecode: 608060405234801561001057600080fd5b5060e18061001f6000396000f3fe6080604052348015600f57600080fd5b506004361060285760003560e01c8063c6888fa114602d575b600080fd5b603c60383660046061565b6050565b604051604791906078565b60405180910390f35b6000605b8260076081565b92915050565b6000602082840312156071578081fd5b5035919050565b90815260200190565b600081600019048311821515161560a657634e487b7160e01b81526011600452602481fd5b50029056fea26469706673582212203590feb7a8c4eed70e861efe22c6d34ccefa53ad542f6dfb8f4cded55b9b6d5d64736f6c63430008000033\n",
      "Deploying the contract from 0xD65FCC992D149e00352eD25e09341D04bfA30d7b\n",
      "hash: 0x3255ee0bb9bf197f7df4c3ae57926472553d7a837096c0e304946cd8d67d36aa\n",
      "---> The contract deployed to: 0xF37Dd7FE1e99e9Ce14bABFc5303638382AAfA52e\n"
     ]
    }
   ],
   "source": [
    "!node src/Multiply7DeployAbiBinFromFile.js"
   ]
  },
  {
   "cell_type": "code",
   "execution_count": 76,
   "id": "9ce852e1",
   "metadata": {},
   "outputs": [
    {
     "name": "stdout",
     "output_type": "stream",
     "text": [
      "Overwriting src/Multiply7Use.js\n"
     ]
    }
   ],
   "source": [
    "%%writefile src/Multiply7Use.js\n",
    "var Web3=require('web3');\n",
    "var _abiBinJson = require('./Multiply7.json');      //importing a javascript file\n",
    "\n",
    "var web3 = new Web3(new Web3.providers.HttpProvider(\"http://localhost:8345\"));\n",
    "contractName=Object.keys(_abiBinJson.contracts); // reading ['src/Multiply7.sol:Multiply7']\n",
    "//console.log(\"- contract name: \", contractName); //or console.log(contractName[0]);\n",
    "_abi=_abiBinJson.contracts[contractName].abi;\n",
    "_abiArray=JSON.parse(JSON.stringify(_abi));\n",
    "//_abiArray=JSON.parse(_abi);      //JSON parsing needed!!\n",
    "//_bin=_abiBinJson.contracts[contractName].bin;\n",
    "//console.log(\"- ABI: \" + _abiArray);\n",
    "//console.log(\"- Bytecode: \" + _bin);\n",
    "\n",
    "var M7 = new web3.eth.Contract(_abiArray,\"0xF37Dd7FE1e99e9Ce14bABFc5303638382AAfA52e\");\n",
    "M7.methods.multiply(7).call().then(function(str) {console.log(str);});"
   ]
  },
  {
   "cell_type": "code",
   "execution_count": 77,
   "id": "fdb0051f",
   "metadata": {
    "scrolled": false
   },
   "outputs": [
    {
     "name": "stderr",
     "output_type": "stream",
     "text": [
      "undefined:1\n",
      "[object Object]\n",
      " ^\n",
      "\n",
      "SyntaxError: Unexpected token o in JSON at position 1\n",
      "    at JSON.parse (<anonymous>)\n",
      "    at Object.<anonymous> (C:\\Users\\Administrator\\Code\\201810825\\src\\Multiply7Use.js:9:16)\n",
      "    at Module._compile (node:internal/modules/cjs/loader:1103:14)\n",
      "    at Object.Module._extensions..js (node:internal/modules/cjs/loader:1157:10)\n",
      "    at Module.load (node:internal/modules/cjs/loader:981:32)\n",
      "    at Function.Module._load (node:internal/modules/cjs/loader:822:12)\n",
      "    at Function.executeUserEntryPoint [as runMain] (node:internal/modules/run_main:77:12)\n",
      "    at node:internal/main/run_main_module:17:47\n"
     ]
    }
   ],
   "source": [
    "!node src/Multiply7Use.js"
   ]
  },
  {
   "cell_type": "code",
   "execution_count": 43,
   "id": "6c493b19",
   "metadata": {},
   "outputs": [
    {
     "name": "stdout",
     "output_type": "stream",
     "text": [
      "Overwriting scripts/Multiply7.html\n"
     ]
    }
   ],
   "source": [
    "%%writefile scripts/Multiply7.html\n",
    "<!doctype>\n",
    "<html>\n",
    "<head>\n",
    "<script src=\"https://cdn.jsdelivr.net/npm/web3@1.2.5/dist/web3.min.js\"></script>\n",
    "<script type=\"text/javascript\">\n",
    "    var web3 = new Web3(new Web3.providers.HttpProvider(\"http://localhost:8345\"));    \n",
    "    function displayMultiply() {\n",
    "        var Multiply7 = new web3.eth.Contract([{\"constant\":true,\"inputs\":[{\"name\":\"input\",\"type\":\"uint256\"}],\"name\":\"multiply\",\"outputs\":[{\"name\":\"\",\"type\":\"uint256\"}],\"payable\":false,\"stateMutability\":\"pure\",\"type\":\"function\"}],\n",
    "                                            \"0xC7AD8a72Eba115ed7a53AF738aAEe42f7A804A5e\"); \n",
    "        Multiply7.methods.multiply(8).call().then(function(str) {\n",
    "            document.getElementById('Multi').innerText = \"result: \"+ str;\n",
    "        });\n",
    "        \n",
    "        \n",
    "    }\n",
    "</script>\n",
    "</head>\n",
    "<body>\n",
    "    <h1>Hello</h1>\n",
    "    <button type=\"button\" onClick=\"displayMultiply();\">Display Multiply</button>\n",
    "    <div></div>\n",
    "    <div id=\"Multi\"></div>\n",
    "</body>\n",
    "</html>"
   ]
  },
  {
   "cell_type": "markdown",
   "id": "7970454b",
   "metadata": {},
   "source": [
    "# 짝수 홀수 판별"
   ]
  },
  {
   "cell_type": "code",
   "execution_count": 35,
   "id": "a9b46891",
   "metadata": {},
   "outputs": [
    {
     "name": "stdout",
     "output_type": "stream",
     "text": [
      "Overwriting src/Even.sol\n"
     ]
    }
   ],
   "source": [
    "%%writefile src/Even.sol\n",
    "// SPDX-License-Identifier: GPL-3.0\n",
    "pragma solidity ^0.8.0;\n",
    "\n",
    "contract Even {\n",
    "    \n",
    "    uint256 counter = 0;\n",
    "    function add() public {\n",
    "        counter++;\n",
    "    }\n",
    "    function subtract() public {\n",
    "        counter--;\n",
    "    }\n",
    "    function getCounter() public view returns (uint256) {\n",
    "        return counter;\n",
    "    }\n",
    "    function isEven() public view returns (string memory) {\n",
    "        if (counter%2==0) return \"Even\";\n",
    "        else return \"Odd\";\n",
    "    }\n",
    "    \n",
    "}"
   ]
  },
  {
   "cell_type": "code",
   "execution_count": 36,
   "id": "adbc9723",
   "metadata": {},
   "outputs": [],
   "source": [
    "!solc --optimize --combined-json abi,bin src/Even.sol > src/Even.json"
   ]
  },
  {
   "cell_type": "code",
   "execution_count": 43,
   "id": "0074f80e",
   "metadata": {},
   "outputs": [
    {
     "name": "stdout",
     "output_type": "stream",
     "text": [
      "Overwriting src/EvenDeployAbiBinFromFile.js\n"
     ]
    }
   ],
   "source": [
    "%%writefile src/EvenDeployAbiBinFromFile.js\n",
    "var Web3 = require('web3');\n",
    "var _abiBinJson = require('./Even.json');\n",
    "\n",
    "var web3 = new Web3(new Web3.providers.HttpProvider(\"http://localhost:8345\"));\n",
    "\n",
    "contractName=Object.keys(_abiBinJson.contracts);\n",
    "console.log(\"- contract name: \", JSON.stringify(contractName));\n",
    "_abi=_abiBinJson.contracts[contractName].abi;\n",
    "_abiArray=JSON.parse(JSON.stringify(_abi));\n",
    "//_abiArray=JSON.parse(_abi);      //JSON parsing needed!!\n",
    "_bin=_abiBinJson.contracts[contractName].bin;\n",
    "\n",
    "console.log(\"- ABI: \" + JSON.stringify(_abiArray));\n",
    "console.log(\"- Bytecode: \" + _bin);\n",
    "\n",
    "async function deploy() {\n",
    "    const accounts = await web3.eth.getAccounts();\n",
    "    console.log(\"Deploying the contract from \" + accounts[0]);\n",
    "    var deployed = await new web3.eth.Contract(_abiArray)\n",
    "        .deploy({data: \"0x\"+_bin})\n",
    "        .send({from: accounts[0], gas: 364124}, function(err, transactionHash) {\n",
    "                if(!err) console.log(\"hash: \" + transactionHash); \n",
    "        })\n",
    "        //.then(function(newContractInstance){\n",
    "        //    console.log(newContractInstance)\n",
    "        //});\n",
    "    console.log(\"---> The contract deployed to: \" + deployed.options.address)\n",
    "}\n",
    "deploy()"
   ]
  },
  {
   "cell_type": "code",
   "execution_count": 44,
   "id": "e250964f",
   "metadata": {},
   "outputs": [
    {
     "name": "stdout",
     "output_type": "stream",
     "text": [
      "- contract name:  [\"src/Even.sol:Even\"]\n",
      "- ABI: [{\"inputs\":[],\"name\":\"add\",\"outputs\":[],\"stateMutability\":\"nonpayable\",\"type\":\"function\"},{\"inputs\":[],\"name\":\"getCounter\",\"outputs\":[{\"internalType\":\"uint256\",\"name\":\"\",\"type\":\"uint256\"}],\"stateMutability\":\"view\",\"type\":\"function\"},{\"inputs\":[],\"name\":\"isEven\",\"outputs\":[{\"internalType\":\"string\",\"name\":\"\",\"type\":\"string\"}],\"stateMutability\":\"view\",\"type\":\"function\"},{\"inputs\":[],\"name\":\"subtract\",\"outputs\":[],\"stateMutability\":\"nonpayable\",\"type\":\"function\"}]\n",
      "- Bytecode: 60806040526000805534801561001457600080fd5b50610210806100246000396000f3fe608060405234801561001057600080fd5b506004361061004c5760003560e01c806336b166ba146100515780634f2be91f1461006f5780636deebae3146100795780638ada066e14610081575b600080fd5b610059610096565b6040516100669190610116565b60405180910390f35b6100776100eb565b005b610077610101565b610089610110565b6040516100669190610169565b606060026000546100a791906101a4565b6100cc575060408051808201909152600481526322bb32b760e11b60208201526100e8565b5060408051808201909152600381526213d91960ea1b60208201525b90565b6000805490806100fa83610189565b9190505550565b6000805490806100fa83610172565b60005490565b6000602080835283518082850152825b8181101561014257858101830151858201604001528201610126565b818111156101535783604083870101525b50601f01601f1916929092016040019392505050565b90815260200190565b600081610181576101816101c4565b506000190190565b600060001982141561019d5761019d6101c4565b5060010190565b6000826101bf57634e487b7160e01b81526012600452602481fd5b500690565b634e487b7160e01b600052601160045260246000fdfea264697066735822122071eeb41e3fcae7b30453fd3c521e4fcb7bb9580fbc837193a10cdf386056425964736f6c63430008000033\n",
      "Deploying the contract from 0xD65FCC992D149e00352eD25e09341D04bfA30d7b\n",
      "hash: 0x4ef63577da46b06e48d5fda6d9ef25c6385fc2f286330d3146219590a9d91b97\n",
      "---> The contract deployed to: 0xC09491F38c9825EB51007AE00e29A88BEAfE173d\n"
     ]
    }
   ],
   "source": [
    "!node src/EvenDeployAbiBinFromFile.js"
   ]
  },
  {
   "cell_type": "code",
   "execution_count": 67,
   "id": "f54a851c",
   "metadata": {},
   "outputs": [
    {
     "name": "stdout",
     "output_type": "stream",
     "text": [
      "Overwriting src/EvenUse.js\n"
     ]
    }
   ],
   "source": [
    "%%writefile src/EvenUse.js\n",
    "var Web3=require('web3');\n",
    "var _abiBinJson = require('./Even.json');      //importing a javascript file\n",
    "\n",
    "var web3 = new Web3(new Web3.providers.HttpProvider(\"http://localhost:8345\"));\n",
    "contractName=Object.keys(_abiBinJson.contracts); \n",
    "//console.log(\"- contract name: \", contractName); //or console.log(contractName[0]);\n",
    "_abi=_abiBinJson.contracts[contractName].abi;\n",
    "//_abiArray=JSON.parse(JSON.stringify(_abi));\n",
    "_abiArray=JSON.parse(_abi);      //JSON parsing needed!!\n",
    "//_bin=_abiBinJson.contracts[contractName].bin;\n",
    "//console.log(\"- ABI: \" + _abiArray);\n",
    "//console.log(\"- Bytecode: \" + _bin);\n",
    "\n",
    "var even = new web3.eth.Contract(_abiArray,\"0x4F543ab9971711354D3Fd774E52F6FF9e78F32Be\");\n",
    "\n",
    "async function doIt() {\n",
    "    const accounts = await web3.eth.getAccounts();\n",
    "    console.log(\"Call from: \" + accounts[0]);\n",
    "    even.methods.getCounter().call().then(function(str) {console.log(\"1 -->: \"+str);});\n",
    "    await even.methods.add().send({from:accounts[0],gas:100000});\n",
    "    even.methods.getCounter().call().then(function(str) {console.log(\"2 -->: \"+str);});\n",
    "    await even.methods.add().send({from:accounts[0],gas:100000});\n",
    "    even.methods.getCounter().call().then(function(str) {console.log(\"3 -->: \"+str);});\n",
    "    await even.methods.add().send({from:accounts[0],gas:100000});\n",
    "    even.methods.getCounter().call().then(function(str) {console.log(\"4 -->: \"+str);});\n",
    "    await even.methods.add().send({from:accounts[0],gas:100000});\n",
    "    even.methods.getCounter().call().then(function(str) {console.log(\"5 -->: \"+str);});\n",
    "    await even.methods.isEven().call().then(function(str) {console.log(\"isEven?? -->: \"+str);});\n",
    "}\n",
    "\n",
    "doIt()"
   ]
  },
  {
   "cell_type": "code",
   "execution_count": 68,
   "id": "41612294",
   "metadata": {},
   "outputs": [
    {
     "name": "stdout",
     "output_type": "stream",
     "text": [
      "Call from: 0xDd00021fe5bdcb197D998bEBfDEbe6bC445d0863\n",
      "1 -->: 11\n",
      "2 -->: 12\n",
      "3 -->: 13\n",
      "4 -->: 14\n",
      "5 -->: 15\n",
      "isEven?? -->: Odd\n"
     ]
    }
   ],
   "source": [
    "!node src/EvenUse.js"
   ]
  },
  {
   "cell_type": "code",
   "execution_count": 70,
   "id": "0b7b8283",
   "metadata": {},
   "outputs": [
    {
     "name": "stdout",
     "output_type": "stream",
     "text": [
      "Overwriting scripts/Even.html\n"
     ]
    }
   ],
   "source": [
    "%%writefile scripts/Even.html\n",
    "<!doctype>\n",
    "<html>\n",
    "<head>\n",
    "<script src=\"https://cdn.jsdelivr.net/npm/web3@1.2.5/dist/web3.min.js\"></script>\n",
    "<!-- script src=\"https://cdn.jsdelivr.net/npm/web3@0.20.5/dist/web3.min.js\"></script -->\n",
    "<script type=\"text/javascript\">\n",
    "    var web3 = new Web3(new Web3.providers.HttpProvider(\"http://localhost:8345\"));    \n",
    "    async function Even() {\n",
    "        const accounts = await web3.eth.getAccounts();\n",
    "        var even = new web3.eth.Contract([{\"constant\":true,\"inputs\":[],\"name\":\"isEven\",\"outputs\":[{\"name\":\"\",\"type\":\"string\"}],\"payable\":false,\"stateMutability\":\"view\",\"type\":\"function\"},{\"constant\":false,\"inputs\":[],\"name\":\"add\",\"outputs\":[],\"payable\":false,\"stateMutability\":\"nonpayable\",\"type\":\"function\"},{\"constant\":false,\"inputs\":[],\"name\":\"subtract\",\"outputs\":[],\"payable\":false,\"stateMutability\":\"nonpayable\",\"type\":\"function\"},{\"constant\":true,\"inputs\":[],\"name\":\"getCounter\",\"outputs\":[{\"name\":\"\",\"type\":\"uint256\"}],\"payable\":false,\"stateMutability\":\"view\",\"type\":\"function\"}],\n",
    "                                            \"0x4F543ab9971711354D3Fd774E52F6FF9e78F32Be\"); \n",
    "        even.methods.getCounter().call().then(function(str) {\n",
    "            document.getElementById('C1').innerText = \"Before : \" + str;\n",
    "        });\n",
    "        await even.methods.add().send({from:accounts[0],gas:100000});\n",
    "        await even.methods.add().send({from:accounts[0],gas:100000});\n",
    "        await even.methods.add().send({from:accounts[0],gas:100000});\n",
    "        await even.methods.add().send({from:accounts[0],gas:100000});\n",
    "        await even.methods.add().send({from:accounts[0],gas:100000});\n",
    "        even.methods.getCounter().call().then(function(str) {\n",
    "            document.getElementById('C2').innerText = \"After : \" + str;\n",
    "        });\n",
    "        even.methods.isEven().call().then(function(str) {\n",
    "            document.getElementById('C3').innerText = \"isEven?? : \" + str;\n",
    "        });\n",
    "        \n",
    "    }\n",
    "</script>\n",
    "</head>\n",
    "<body>\n",
    "    <h1>Hello</h1>\n",
    "    <button type=\"button\" onClick=\"Even();\">isEven??</button>\n",
    "    <div></div>\n",
    "    <div id=\"C1\"></div>\n",
    "    <div id=\"C2\"></div>\n",
    "    <div id=\"C3\"></div>\n",
    "</body>\n",
    "</html>"
   ]
  }
 ],
 "metadata": {
  "kernelspec": {
   "display_name": "Python 3 (ipykernel)",
   "language": "python",
   "name": "python3"
  },
  "language_info": {
   "codemirror_mode": {
    "name": "ipython",
    "version": 3
   },
   "file_extension": ".py",
   "mimetype": "text/x-python",
   "name": "python",
   "nbconvert_exporter": "python",
   "pygments_lexer": "ipython3",
   "version": "3.10.3"
  }
 },
 "nbformat": 4,
 "nbformat_minor": 5
}
