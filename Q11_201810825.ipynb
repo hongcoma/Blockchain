{
 "cells": [
  {
   "cell_type": "markdown",
   "id": "58179bf2",
   "metadata": {},
   "source": [
    "# 블록체인프로그래밍 11주차 과제 201810825 홍종현\n",
    "은행 컨트랙을 프로그램하여 아래 기능을 실행하도록 하세요.\n",
    "\n",
    "* 입금액을 매개변수로 넣어서 입금하세요. amount가 실제 입금액과 일치하지 않으면 오류.\n",
    "\tfunction deposit(uint amount)\n",
    "* 전액 인출 함수를 구현하세요. 인출 금액을 정하지 않아도 되므로 함수의 인자가 없다.\n",
    "\tfunction widthdrawAll()\n",
    "* 컨트랙 잔고확인 함수 (this를 이용한 잔고, 상태변수 잔고 (this 잔고가 맞는지 확인하는 용도)\n",
    "\tfunction getBalance() public view returns(uint, uint)\n",
    "* 다른 계정으로 계좌이체 함수\n",
    "\tfunction forwardTo(address payable _receiver) public payable\n",
    "* fallback()을 입금가능하도록 구현하세요. fallback이 호출되면 이벤트가 발생하여 전송자와 금액을 출력하세요.\n",
    "이벤트 함수명은 PrintLog(address from, uint amount)\n",
    "주피터 노트북에서 컴파일, 배포한 후, 아래 기능을 실행하여 그 결과를 출력하세요.\n",
    "ganache 8335 띄우고, 노드로 하세요.\n",
    "- 입금 11111 wei, 222 wei를 하고 컨트랙잔고 11333 wei 출력\n",
    "- 자신의 2번째 계정으로 계좌이체 333 wei하고 컨트랙잔고 11000 wei 출력, 자신의 2번째 계정 잔고 증가분 (+333 wei) 출력\n",
    "- 전액 인출하고 11000 wei, 자신의 잔고 증가분 출력 (+11000 wei)\n",
    "- 컨트랙으로 111 송금하고, deposit()이 아니라 fallback으로 입금하세요. 컨트랙잔고 111 wei 출력."
   ]
  },
  {
   "cell_type": "code",
   "execution_count": 7,
   "id": "90c60115",
   "metadata": {},
   "outputs": [
    {
     "name": "stdout",
     "output_type": "stream",
     "text": [
      "Overwriting src/Q11.sol\n"
     ]
    }
   ],
   "source": [
    "%%writefile src/Q11.sol\n",
    "//SPDX-License-Identifier: GPL-3.0-or-later\n",
    "pragma solidity ^0.8.0; //^0.5.0;\n",
    "\n",
    "contract Q11 {\n",
    "    address owner;\n",
    "    uint balance;\n",
    "    event PrintLog (address from, uint amount);\n",
    "    constructor() { //constructor() public {\n",
    "        owner = msg.sender;\n",
    "        balance = 0;\n",
    "    }\n",
    "    fallback() external payable{ // v0.5.0 function() external {\n",
    "        balance += msg.value;\n",
    "        emit PrintLog(msg.sender, msg.value);\n",
    "    }\n",
    "    receive() external payable{\n",
    "        \n",
    "    }\n",
    "    function forwardTo(address payable _receiver) public payable onlyOwner {\n",
    "        _receiver.transfer(msg.value);\n",
    "    }\n",
    "    function getBalance() public view returns(uint, uint) {\n",
    "        return (balance, address(this).balance);\n",
    "    }\n",
    "    function deposit(uint amount) public payable  {\n",
    "        require(msg.value == amount);\n",
    "        balance += amount;\n",
    "    }\n",
    "    function withdrawAll() public onlyOwner minBalance {\n",
    "        balance -= address(this).balance;\n",
    "        payable(msg.sender).transfer(address(this).balance); \n",
    "    }\n",
    "    modifier onlyOwner {\n",
    "        require(msg.sender == owner);\n",
    "        _;\n",
    "    }\n",
    "    modifier minBalance {\n",
    "        require(address(this).balance>101 wei);\n",
    "        _;\n",
    "    }\n",
    "}"
   ]
  },
  {
   "cell_type": "code",
   "execution_count": 8,
   "id": "5edbea15",
   "metadata": {},
   "outputs": [],
   "source": [
    "!solc-windows.exe --optimize --combined-json abi,bin src/Q11.sol > src/Q11.json"
   ]
  },
  {
   "cell_type": "code",
   "execution_count": 9,
   "id": "2bf51452",
   "metadata": {},
   "outputs": [
    {
     "name": "stdout",
     "output_type": "stream",
     "text": [
      "Overwriting src/Q11Deploy.js\n"
     ]
    }
   ],
   "source": [
    "%%writefile src/Q11Deploy.js\n",
    "var Web3 = require('web3');\n",
    "var _abiBinJson = require('./Q11.json');      //importing a javascript file\n",
    "\n",
    "var web3 = new Web3(new Web3.providers.HttpProvider(\"http://localhost:8345\"));\n",
    "//var web3 = new Web3(new Web3.providers.WebsocketProvider(\"ws://localhost:8345\"));\n",
    "\n",
    "contractName=Object.keys(_abiBinJson.contracts); // reading ['src/Q11.sol:Q11']\n",
    "console.log(\"- contract name: \", contractName);\n",
    "_abi=_abiBinJson.contracts[contractName].abi;\n",
    "_abiArray=JSON.parse(JSON.stringify(_abi));\n",
    "//_abiArray=JSON.parse(_abi);      //JSON parsing needed!! //SyntaxError: Unexpected token o in JSON at position 1\n",
    "_bin=_abiBinJson.contracts[contractName].bin;\n",
    "\n",
    "//console.log(\"- ABI: \" + _abiArray);\n",
    "//console.log(\"- Bytecode: \" + _bin);\n",
    "\n",
    "async function deploy() {\n",
    "    const accounts = await web3.eth.getAccounts();\n",
    "    console.log(\"Deploying the contract from \" + accounts[0]);\n",
    "    var deployed = await new web3.eth.Contract(_abiArray)\n",
    "        .deploy({data: \"0x\"+_bin})\n",
    "        .send({from: accounts[0], gas: 2590210}, function(err, transactionHash) {\n",
    "                if(!err) console.log(\"hash: \" + transactionHash); \n",
    "        })\n",
    "        //.then(function(newContractInstance){\n",
    "        //    console.log(newContractInstance)\n",
    "        //});\n",
    "    console.log(\"---> The contract deployed to: \" + deployed.options.address)\n",
    "}\n",
    "deploy()"
   ]
  },
  {
   "cell_type": "code",
   "execution_count": 10,
   "id": "915b7dcf",
   "metadata": {},
   "outputs": [
    {
     "name": "stdout",
     "output_type": "stream",
     "text": [
      "- contract name:  [ 'src/Q11.sol:Q11' ]\n",
      "Deploying the contract from 0x185805bDDC6762ec152b47EF8d351b413825BbE7\n",
      "hash: 0x583042fa26a097ae7a4ab405c68eca7d488051711172e81c048d9451ee8d2c9a\n",
      "---> The contract deployed to: 0xC899B43F09d9Cb5985C7677FcD62FFe68F129838\n"
     ]
    }
   ],
   "source": [
    "!node src/Q11Deploy.js"
   ]
  },
  {
   "cell_type": "code",
   "execution_count": 11,
   "id": "539af845",
   "metadata": {},
   "outputs": [
    {
     "name": "stdout",
     "output_type": "stream",
     "text": [
      "Overwriting src/Q11Use.js\n"
     ]
    }
   ],
   "source": [
    "%%writefile src/Q11Use.js\n",
    "var Web3=require('web3');\n",
    "var _abiBinJson = require('./Q11.json');      //importing a javascript file\n",
    "\n",
    "//var web3 = new Web3(new Web3.providers.HttpProvider(\"http://localhost:8345\"));\n",
    "var web3 = new Web3(new Web3.providers.WebsocketProvider(\"ws://localhost:8345\"));\n",
    "\n",
    "contractName=Object.keys(_abiBinJson.contracts); // reading ['src/BankV3.sol:BankV3']\n",
    "//console.log(\"- contract name: \", contractName); //or console.log(contractName[0]);\n",
    "_abiArray=_abiBinJson.contracts[contractName].abi; //use just as read from file\n",
    "//_abiArray=JSON.parse(JSON.stringify(_abi));\n",
    "//_abiArray=JSON.parse(_abi);      //JSON parsing needed!!\n",
    "//_bin=_abiBinJson.contracts[contractName].bin;\n",
    "console.log(\"- ABI: \" + _abiArray);\n",
    "//console.log(\"- Bytecode: \" + _bin);\n",
    "var Q11 = new web3.eth.Contract(_abiArray,\"0xC899B43F09d9Cb5985C7677FcD62FFe68F129838\");\n",
    "var event = Q11.events.PrintLog(function (error, result) {\n",
    "  if (!error)\n",
    "    console.log(\"Event fired: \"+ JSON.stringify(result.returnValues));\n",
    "});\n",
    "//console.log(bank.sendTo(0x778ea91cb0d0879c22ca20c5aea6fbf8cbeed480, 100,{from:web3.eth.accounts[0],gas:100000}));\n",
    "\n",
    "async function doIt() {\n",
    "    const accounts = await web3.eth.getAccounts();\n",
    "    const B1_Before = await web3.eth.getBalance(accounts[0]);\n",
    "    const B2_Before = await web3.eth.getBalance(accounts[1]);\n",
    "\n",
    "    console.log(\"\\n1.Deposit 11111wei, 222wei and Output contract balance 11333wei\");\n",
    "    await Q11.methods.getBalance().call().then(console.log);\n",
    "    await Q11.methods.deposit(11111).send({from: accounts[0], value:11111});\n",
    "    await Q11.methods.getBalance().call().then(console.log);\n",
    "    await Q11.methods.deposit(222).send({from: accounts[0], value:222});\n",
    "    await Q11.methods.getBalance().call().then(console.log);\n",
    "    \n",
    "    console.log(\"\\n2.Transfer 333wei to my 2nd account and Output contract balance, increment 2nd account\");\n",
    "    await Q11.methods.forwardTo(accounts[1]).send({from: accounts[0], value:333});\n",
    "    await Q11.methods.getBalance().call().then(console.log);\n",
    "    const B2_After = await web3.eth.getBalance(accounts[1]);\n",
    "    console.log(\"Balance2 Before: \" + B2_Before);\n",
    "    console.log(\"Balance2 After: \" + B2_After);\n",
    "    console.log(\"B2: \" + (B2_After-B2_Before));\n",
    "\n",
    "    console.log(\"\\n3.WithdrawAll and Output 11000wei, increment of my balance\");\n",
    "    await Q11.methods.withdrawAll().send({from: accounts[0]});\n",
    "    const B1_After = await web3.eth.getBalance(accounts[0]);\n",
    "    await Q11.methods.getBalance().call().then(console.log);\n",
    "    console.log(\"Balance1 Before: \" + B1_Before);\n",
    "    console.log(\"Balance1 After: \" + B1_After);\n",
    "    console.log(\"B1: \" + (B1_After-B1_Before));\n",
    "    \n",
    "    console.log(\"\\n4.Send 111 to contract and deposit with fallback, not deposit(), Output contract balance 111wei\");\n",
    "    await web3.eth.sendTransaction({from:accounts[0], to: \"0xC899B43F09d9Cb5985C7677FcD62FFe68F129838\",data: \"0x1111\",value:111});\n",
    "    await Q11.methods.getBalance().call().then(console.log);\n",
    "    process.exit(1);\n",
    "}\n",
    "doIt()"
   ]
  },
  {
   "cell_type": "code",
   "execution_count": 12,
   "id": "74c5fe61",
   "metadata": {
    "scrolled": false
   },
   "outputs": [
    {
     "name": "stdout",
     "output_type": "stream",
     "text": [
      "- ABI: [object Object],[object Object],[object Object],[object Object],[object Object],[object Object],[object Object],[object Object]\n",
      "\n",
      "1.Deposit 11111wei, 222wei and Output contract balance 11333wei\n",
      "Result { '0': '0', '1': '0' }\n",
      "Result { '0': '11111', '1': '11111' }\n",
      "Result { '0': '11333', '1': '11333' }\n",
      "\n",
      "2.Transfer 333wei to my 2nd account and Output contract balance, increment 2nd account\n",
      "Result { '0': '11333', '1': '11333' }\n",
      "Balance2 Before: 1000000000000000000000\n",
      "Balance2 After: 1000000000000000000333\n",
      "B2: 0\n",
      "\n",
      "3.WithdrawAll and Output 11000wei, increment of my balance\n",
      "Result { '0': '0', '1': '0' }\n",
      "Balance1 Before: 999999530888000000000\n",
      "Balance1 After: 999999262803999999667\n",
      "B1: -268084000063488\n",
      "\n",
      "4.Send 111 to contract and deposit with fallback, not deposit(), Output contract balance 111wei\n",
      "Event fired: {\"0\":\"0x185805bDDC6762ec152b47EF8d351b413825BbE7\",\"1\":\"111\",\"from\":\"0x185805bDDC6762ec152b47EF8d351b413825BbE7\",\"amount\":\"111\"}\n",
      "Result { '0': '111', '1': '111' }\n"
     ]
    }
   ],
   "source": [
    "!node src/Q11Use.js"
   ]
  },
  {
   "cell_type": "markdown",
   "id": "2e058ef7",
   "metadata": {},
   "source": [
    "### 1. 계좌의 증가분및 차익을 계산하는 과정에서 숫자가 너무 커서 0으로 표기되지만 before와 after값을 비교하면 결과로 나와야하는 값만큼의 차이가 있음을 확인할 수 있음\n",
    "\n",
    "### 2. 전액 인출후에 차익을 보았을때 11000만큼의 차이가 안나는데 이는 인출과정에서 소모되는 gas가 있기 때문에 정확한 금액이 출력되지 않음"
   ]
  }
 ],
 "metadata": {
  "kernelspec": {
   "display_name": "Python 3 (ipykernel)",
   "language": "python",
   "name": "python3"
  },
  "language_info": {
   "codemirror_mode": {
    "name": "ipython",
    "version": 3
   },
   "file_extension": ".py",
   "mimetype": "text/x-python",
   "name": "python",
   "nbconvert_exporter": "python",
   "pygments_lexer": "ipython3",
   "version": "3.10.3"
  }
 },
 "nbformat": 4,
 "nbformat_minor": 5
}
