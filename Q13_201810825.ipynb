{
 "cells": [
  {
   "cell_type": "markdown",
   "id": "d9ff8c50",
   "metadata": {},
   "source": [
    "# 블록체인프로그래밍 13주차 과제 201810825 홍종현\n",
    "A, B 2인의 가위바위보 후 내기금액을 이긴 사람에게 지급하는 게임을 블록체인에 개발하세요.\n",
    "\n",
    "게임 컨트랙은 Rsp, 구현할 함수는 다음과 같다. 그 외 필요로 하는 함수는 추가할 수 있다.\n",
    "함수 | 설명\n",
    "-----|-----\n",
    "- setA | 직접 입력하지 않고, 가위, 바위, 보를 무작위로 생성하여 내고 ```1000 wei```를 베팅한다.\n",
    "- setB | 게임 플레이어가 직접 입력하고, ```1000 wei```를 베팅한다.\n",
    "- play | setA, setB 입력이 끝나고 컴퓨터가 실행하는 것으로 하고, 승패가 결정짓는다.\n",
    "- distributeBetAmount | 승패에 따라 분배한다. 승자가 패자의 내기 금액 ```1000 wei```를 가지게 된다.\n",
    "- getMatchResult() | 누가 이겼는지 A, B 승자를 포함한 문자열 \"A wins\", \"B wins\", \"tie\" 결과를 출력한다.\n",
    "\n",
    "노드에서 게임을 다음과 같이 진행하세요.\n",
    "\n",
    "- 게임 전의 A잔고, B잔고, 컨트랙 잔고 출력 (컨트랙 상의 잔고를 말한다)\n",
    "- setA() 실행. 플레이어 A는 컴퓨터가 대행하는 것으로 하고, 내기금액 걸고 가위바위보 중 하나를 무작위로 선택\n",
    "- setB() 실행. B는 자신이 직접 내기금액 걸고, 가위바위보 중 하나를 선택하여 입력\n",
    "- play() 실행해서, 승부를 결정\n",
    "- getMatchResult() 실행해서, 승부의 결과를 출력\n",
    "- 게임 끝나고 A잔고, B잔고, 컨트랙 잔고 출력 (컨트랙 상의 잔고를 말한다)"
   ]
  },
  {
   "cell_type": "code",
   "execution_count": 31,
   "id": "0807c7b1",
   "metadata": {},
   "outputs": [
    {
     "name": "stdout",
     "output_type": "stream",
     "text": [
      "Overwriting src/RSP.sol\n"
     ]
    }
   ],
   "source": [
    "%%writefile src/RSP.sol\n",
    "//SPDX-License-Identifier: GPL-3.0-or-later\n",
    "pragma solidity ^0.8.0;\n",
    "\n",
    "contract RSP {\n",
    "    address addA;\n",
    "    address addB;\n",
    "    address private owner;\n",
    "    uint balanceOfA=0;\n",
    "    uint balanceOfB=0;\n",
    "    int result=-1;\n",
    "\n",
    "    struct playRSP{\n",
    "        string player;\n",
    "        uint batting;\n",
    "        uint whatRSP;\n",
    "    }\n",
    "\n",
    "    playRSP playerA;\n",
    "    playRSP playerB;\n",
    "\n",
    "    constructor(){\n",
    "        owner = msg.sender;\n",
    "    }\n",
    "\n",
    "    mapping (address => uint) balanceOf;\n",
    "\n",
    "    function initAddress(address receiver) public{\n",
    "        addA = address(this);\n",
    "        addB = receiver;\n",
    "    }\n",
    "\n",
    "    function deposit(uint amount) payable public onlyOwner { \n",
    "        require(msg.value == amount);\n",
    "        balanceOf[addA]+=amount;\n",
    "        balanceOf[addB]+=amount;\n",
    "    }\n",
    "\n",
    "    function setA() public{\n",
    "        uint autoRSP = uint8(uint256(keccak256(abi.encodePacked(block.timestamp, block.difficulty)))%3);\n",
    "        playerA= playRSP(\"player A\", 1000,autoRSP);\n",
    "    }\n",
    "\n",
    "    function setB(uint BattingMoney, uint _humanRSP) public{\n",
    "        playerB= playRSP(\"player B\", BattingMoney, _humanRSP);\n",
    "    }\n",
    "\n",
    "    function play() public {\n",
    "        uint RSP_A = playerA.whatRSP;\n",
    "        uint RSP_B = playerB.whatRSP;\n",
    "\n",
    "        //가위:0 바위:1 보:2\n",
    "        //tie\n",
    "        if(RSP_A==RSP_B){\n",
    "            result=0;\n",
    "        }\n",
    "        //Awin\n",
    "        else if((RSP_A==0 && RSP_B ==2)||(RSP_A==1 && RSP_B==0)||(RSP_A ==2 && RSP_B==1)){\n",
    "            result=1;\n",
    "        }\n",
    "        //Bwin\n",
    "        else{\n",
    "            result=2;\n",
    "        }\n",
    "    }\n",
    "\n",
    "    function distributeBetAmount() public {\n",
    "        \n",
    "        uint A_batting = playerA.batting;\n",
    "        uint B_batting = playerB.batting;\n",
    "        if (result==1){ //Awin\n",
    "            balanceOf[addA]+=B_batting;\n",
    "            balanceOf[addB]-=B_batting;\n",
    "        }\n",
    "\n",
    "        else if (result==2){ //Bwin\n",
    "            balanceOf[addA]-=A_batting;\n",
    "            balanceOf[addB]+=A_batting;\n",
    "        }\n",
    "        \n",
    "    }\n",
    "\n",
    "    function getMatchResult() public view returns (string memory){\n",
    "        if(result==0){\n",
    "            return(\"tie\");\n",
    "        }\n",
    "        else if(result==1){\n",
    "            return(\"A wins\");\n",
    "        }\n",
    "        else{\n",
    "            return(\"B wins\");\n",
    "        }\n",
    "    }\n",
    "\n",
    "    function getBalance() public view returns(uint, uint, uint) {\n",
    "        return ( balanceOf[addA], balanceOf[addB], balanceOf[address(this)]);\n",
    "    }\n",
    "\n",
    "    modifier onlyOwner {\n",
    "        require(msg.sender == owner);\n",
    "        _;\n",
    "    }\n",
    "\n",
    "}"
   ]
  },
  {
   "cell_type": "code",
   "execution_count": 32,
   "id": "e39f8679",
   "metadata": {},
   "outputs": [],
   "source": [
    "!solc-windows.exe --optimize --combined-json abi,bin src/RSP.sol > src/RSP.json"
   ]
  },
  {
   "cell_type": "code",
   "execution_count": 33,
   "id": "18bc251c",
   "metadata": {},
   "outputs": [
    {
     "name": "stdout",
     "output_type": "stream",
     "text": [
      "Overwriting src/RSPDeploy.js\n"
     ]
    }
   ],
   "source": [
    "%%writefile src/RSPDeploy.js\n",
    "var Web3 = require('web3');\n",
    "var _abiBinJson = require('./RSP.json');      //importing a javascript file\n",
    "\n",
    "var web3 = new Web3(new Web3.providers.HttpProvider(\"http://localhost:8345\"));\n",
    "\n",
    "contractName=Object.keys(_abiBinJson.contracts); // reading ['src/OrderEvent.sol:OrderEvent']\n",
    "console.log(\"- contract name: \", contractName);\n",
    "_abiArray=_abiBinJson.contracts[contractName].abi;\n",
    "//_abiArray=JSON.parse(JSON.stringify(_abi));\n",
    "//_abiArray=JSON.parse(_abi);      //JSON parsing needed!! //SyntaxError: Unexpected token o in JSON at position 1\n",
    "_bin=_abiBinJson.contracts[contractName].bin;\n",
    "\n",
    "//console.log(\"- ABI: \" + _abiArray);\n",
    "//console.log(\"- Bytecode: \" + _bin);\n",
    "\n",
    "async function deploy() {\n",
    "    const accounts = await web3.eth.getAccounts();\n",
    "    console.log(\"Deploying the contract from \" + accounts[0]);\n",
    "    var deployed = await new web3.eth.Contract(_abiArray)\n",
    "        .deploy({data: \"0x\"+_bin})\n",
    "        .send({from: accounts[0], gas: 2590210}, function(err, transactionHash) {\n",
    "                if(!err) console.log(\"hash: \" + transactionHash); \n",
    "        })\n",
    "        //.then(function(newContractInstance){\n",
    "        //    console.log(newContractInstance)\n",
    "        //});\n",
    "    console.log(\"---> The contract deployed to: \" + deployed.options.address)\n",
    "}\n",
    "deploy()"
   ]
  },
  {
   "cell_type": "code",
   "execution_count": 34,
   "id": "a5edb28d",
   "metadata": {},
   "outputs": [
    {
     "name": "stdout",
     "output_type": "stream",
     "text": [
      "- contract name:  [ 'src/RSP.sol:RSP' ]\n",
      "Deploying the contract from 0x0Eac479132655543874d97E4AaE7928cA6C8b055\n",
      "hash: 0x33b49bb4ffbc718c32561c00b96a8389d7ae987994906da4b2f592d2e02e8220\n",
      "---> The contract deployed to: 0xfb882EFa9EE8ab0E534ccFCb72eA749b3a49c273\n"
     ]
    }
   ],
   "source": [
    "!node src/RSPDeploy.js"
   ]
  },
  {
   "cell_type": "code",
   "execution_count": 35,
   "id": "9689452c",
   "metadata": {},
   "outputs": [
    {
     "name": "stdout",
     "output_type": "stream",
     "text": [
      "Overwriting src/RSPUse.js\n"
     ]
    }
   ],
   "source": [
    "%%writefile src/RSPUse.js\n",
    "var Web3=require('web3');\n",
    "var _abiBinJson = require('./RSP.json');      //importing a javascript file\n",
    "\n",
    "var web3 = new Web3(new Web3.providers.HttpProvider(\"http://localhost:8345\"));\n",
    "//var web3 = new Web3(new Web3.providers.WebsocketProvider(\"ws://localhost:8345\"));\n",
    "\n",
    "contractName=Object.keys(_abiBinJson.contracts); // reading ['src/BankV3.sol:BankV3']\n",
    "//console.log(\"- contract name: \", contractName); //or console.log(contractName[0]);\n",
    "_abiArray=_abiBinJson.contracts[contractName].abi; //use just as read from file\n",
    "//_abiArray=JSON.parse(JSON.stringify(_abi));\n",
    "//_abiArray=JSON.parse(_abi);      //JSON parsing needed!!\n",
    "//_bin=_abiBinJson.contracts[contractName].bin;\n",
    "//console.log(\"- ABI: \" + _abiArray);\n",
    "//console.log(\"- Bytecode: \" + _bin);\n",
    "var RSP = new web3.eth.Contract(_abiArray,\"0xfb882EFa9EE8ab0E534ccFCb72eA749b3a49c273\");\n",
    "\n",
    "\n",
    "async function doIt() {\n",
    "    const accounts = await web3.eth.getAccounts();\n",
    "    \n",
    "    //초기 주소 설정\n",
    "    await RSP.methods.initAddress(accounts[1]).send({from: accounts[0], gas: 2590210});\n",
    "    \n",
    "    //player 계좌 충전 (10000wei씩)\n",
    "    await RSP.methods.deposit(10000).send({from: accounts[0], gas: 2590210, value : 10000});\n",
    "    \n",
    "    //잔액 출력\n",
    "    console.log(\"\\nbefore Start Game --> BalanceOf A, BalanceOf B, BalanceOf Contract\");\n",
    "    RSP.methods.getBalance().call().then(console.log);\n",
    "    \n",
    "    //A 설정\n",
    "    await RSP.methods.setA().send({from: accounts[0], gas: 2590210});\n",
    "    \n",
    "    //B 설정\n",
    "    await RSP.methods.setB(1000,1).send({from: accounts[0], gas: 2590210});\n",
    "    \n",
    "    //play\n",
    "    await RSP.methods.play().send({from: accounts[0], gas: 2590210});\n",
    "    \n",
    "    //결과 출력\n",
    "    console.log(\"\\nShow Result Game --> Who is Winner?\");\n",
    "    RSP.methods.getMatchResult().call().then(console.log);\n",
    "    \n",
    "    //배팅금액 전송\n",
    "    await RSP.methods.distributeBetAmount().send({from: accounts[0], gas: 2590210});\n",
    "    \n",
    "    //잔액 출력\n",
    "    console.log(\"\\nAfter Start Game --> BalanceOf A, BalanceOf B, BalanceOf Contract\");\n",
    "    RSP.methods.getBalance().call().then(console.log);\n",
    "    \n",
    "}\n",
    "doIt()"
   ]
  },
  {
   "cell_type": "code",
   "execution_count": 36,
   "id": "cb89df8f",
   "metadata": {},
   "outputs": [
    {
     "name": "stdout",
     "output_type": "stream",
     "text": [
      "\n",
      "before Start Game --> BalanceOf A, BalanceOf B, BalanceOf Contract\n",
      "Result { '0': '10000', '1': '10000', '2': '10000' }\n",
      "\n",
      "Show Result Game --> Who is Winner?\n",
      "B wins\n",
      "\n",
      "After Start Game --> BalanceOf A, BalanceOf B, BalanceOf Contract\n",
      "Result { '0': '9000', '1': '11000', '2': '9000' }\n"
     ]
    }
   ],
   "source": [
    "!node src/RSPUse.js"
   ]
  }
 ],
 "metadata": {
  "kernelspec": {
   "display_name": "Python 3 (ipykernel)",
   "language": "python",
   "name": "python3"
  },
  "language_info": {
   "codemirror_mode": {
    "name": "ipython",
    "version": 3
   },
   "file_extension": ".py",
   "mimetype": "text/x-python",
   "name": "python",
   "nbconvert_exporter": "python",
   "pygments_lexer": "ipython3",
   "version": "3.10.3"
  }
 },
 "nbformat": 4,
 "nbformat_minor": 5
}
