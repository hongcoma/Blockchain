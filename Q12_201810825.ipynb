{
 "cells": [
  {
   "cell_type": "markdown",
   "id": "58179bf2",
   "metadata": {},
   "source": [
    "# 블록체인프로그래밍 12주차 과제 201810825 홍종현\n",
    "블록체인에서 주문을 하고, 그 주문내역을 로컬 파일에 작성하세요.\n",
    "블록체인으로 주문이 전송되면 이벤트가 발생하도록 프로그램하고, 주문내역은 로컬파일에 저장됩니다.\n",
    "* 강의자료 OrderEvent.sol을 참조해서 구현하세요.\n",
    "\t* order(상품항목, 주문개수, 단가, 배송지) 함수를 작성. '개수 x 단가'로 주문금액을 계산하고 이 금액만큼 입금되지 않으면 예외발생.\n",
    "\t* getBalance() 함수를 작성. 최초 프로그램 생성자 owner만 읽을 수 있게 modfier isOwner 작성.\n",
    "\n",
    "1. REMIX에서 주문하고, 이벤트 발생하는지 보이도록 콘솔 출력 붙여넣으세요.\n",
    "2. 파일로 컴파일 하세요.\n",
    "3. ganache에서 배포하세요.\n",
    "4. 주문을 3건만 하고, 이벤트를 통해 다음과 같이 출력하세요.\n",
    "\n",
    "항목은 차례대로 주소, 상품항목번호, 주문개수, 단가, 배송지.\n",
    "\n",
    "전송자주소, 1111, 3, 100, 20 2-gil Hongji-dong Jongro-gu Seoul\n",
    "\n",
    "전송자주소, 1111, 5, 100, 20 2-gil Hongji-dong Jongro-gu Seoul\n",
    "\n",
    "전송자주소, 1111, 20, 100, 20 2-gil Hongji-dong Jongro-gu Seoul\n",
    "\n",
    "5. 파일에 저장된 파일내역을 출력하세요 (주피터 노트북에서 !type src/OrderEvent.txt)"
   ]
  },
  {
   "cell_type": "markdown",
   "id": "bfbcc39e",
   "metadata": {},
   "source": [
    "# 1. REMIX에서 주문하고, 이벤트 발생하는지 보이도록 콘솔 출력 붙여넣으세요."
   ]
  },
  {
   "cell_type": "code",
   "execution_count": 1,
   "id": "038d178b",
   "metadata": {},
   "outputs": [],
   "source": [
    "from IPython.display import Image"
   ]
  },
  {
   "cell_type": "markdown",
   "id": "37f7344c",
   "metadata": {},
   "source": [
    "### 1-1. 1111, 3, 100, 20 2-gil Hongji-dong Jongro-gu Seoul\n",
    "![Q12_1](img/Q12_1.png)\n",
    "{\n",
    "        \"from\": \"0xd9145CCE52D386f254917e481eB44e9943F39138\",\n",
    "\t\t\"topic\": \"0x538006ae16981d84b66e084c148f73553be69e4290d2c7bbb61abec6284186c1\",\n",
    "\t\t\"event\": \"OrderLog\",\n",
    "\t\t\"args\": {\n",
    "\t\t\t\"0\": \"0x5B38Da6a701c568545dCfcB03FcB875f56beddC4\",\n",
    "\t\t\t\"1\": \"0x1111\",\n",
    "\t\t\t\"2\": \"3\",\n",
    "\t\t\t\"3\": \"100\",\n",
    "\t\t\t\"4\": \"20 gil Hongji-dong Jongro-gu Seoul\",\n",
    "\t\t\t\"_from\": \"0x5B38Da6a701c568545dCfcB03FcB875f56beddC4\",\n",
    "\t\t\t\"_itemId\": \"0x1111\",\n",
    "\t\t\t\"_value\": \"3\",\n",
    "\t\t\t\"_unitPrice\": \"100\",\n",
    "\t\t\t\"_shipping\": \"20 gil Hongji-dong Jongro-gu Seoul\"\n",
    "\t\t}\n",
    "    }\n",
    "    \n",
    "### 1-2. 1111, 5, 100, 20 2-gil Hongji-dong Jongro-gu Seoul\n",
    "![Q12_2](img/Q12_2.png)\n",
    "{\n",
    "\t\t\"from\": \"0xd9145CCE52D386f254917e481eB44e9943F39138\",\n",
    "\t\t\"topic\": \"0x538006ae16981d84b66e084c148f73553be69e4290d2c7bbb61abec6284186c1\",\n",
    "\t\t\"event\": \"OrderLog\",\n",
    "\t\t\"args\": {\n",
    "\t\t\t\"0\": \"0x5B38Da6a701c568545dCfcB03FcB875f56beddC4\",\n",
    "\t\t\t\"1\": \"0x1111\",\n",
    "\t\t\t\"2\": \"5\",\n",
    "\t\t\t\"3\": \"100\",\n",
    "\t\t\t\"4\": \"20 gil Hongji-dong Jongro-gu Seoul\",\n",
    "\t\t\t\"_from\": \"0x5B38Da6a701c568545dCfcB03FcB875f56beddC4\",\n",
    "\t\t\t\"_itemId\": \"0x1111\",\n",
    "\t\t\t\"_value\": \"5\",\n",
    "\t\t\t\"_unitPrice\": \"100\",\n",
    "\t\t\t\"_shipping\": \"20 gil Hongji-dong Jongro-gu Seoul\"\n",
    "\t\t}\n",
    "\t}\n",
    "\n",
    "### 1-3. 1111, 20, 100, 20 2-gil Hongji-dong Jongro-gu Seoul\n",
    "![Q12_3](img/Q12_3.png)\n",
    "{\n",
    "\t\t\"from\": \"0xd9145CCE52D386f254917e481eB44e9943F39138\",\n",
    "\t\t\"topic\": \"0x538006ae16981d84b66e084c148f73553be69e4290d2c7bbb61abec6284186c1\",\n",
    "\t\t\"event\": \"OrderLog\",\n",
    "\t\t\"args\": {\n",
    "\t\t\t\"0\": \"0x5B38Da6a701c568545dCfcB03FcB875f56beddC4\",\n",
    "\t\t\t\"1\": \"0x1111\",\n",
    "\t\t\t\"2\": \"20\",\n",
    "\t\t\t\"3\": \"100\",\n",
    "\t\t\t\"4\": \"20 gil Hongji-dong Jongro-gu Seoul\",\n",
    "\t\t\t\"_from\": \"0x5B38Da6a701c568545dCfcB03FcB875f56beddC4\",\n",
    "\t\t\t\"_itemId\": \"0x1111\",\n",
    "\t\t\t\"_value\": \"20\",\n",
    "\t\t\t\"_unitPrice\": \"100\",\n",
    "\t\t\t\"_shipping\": \"20 gil Hongji-dong Jongro-gu Seoul\"\n",
    "\t\t}\n",
    "\t}"
   ]
  },
  {
   "cell_type": "markdown",
   "id": "5d483107",
   "metadata": {},
   "source": [
    "# 2. 파일로 컴파일 하세요."
   ]
  },
  {
   "cell_type": "code",
   "execution_count": 1,
   "id": "6abbb49c",
   "metadata": {},
   "outputs": [
    {
     "name": "stdout",
     "output_type": "stream",
     "text": [
      "Overwriting src/OrderEvent.sol\n"
     ]
    }
   ],
   "source": [
    "%%writefile src/OrderEvent.sol\n",
    "//SPDX-License-Identifier: GPL-3.0-or-later\n",
    "pragma solidity ^0.8.0;\n",
    "\n",
    "contract OrderEvent {\n",
    "    address private owner;\n",
    "    event OrderLog(address indexed _from, bytes2 _itemId, uint indexed _value,uint indexed _unitPrice, string _shipping);\n",
    "    \n",
    "    constructor(){\n",
    "        owner = msg.sender;\n",
    "    }\n",
    "    \n",
    "    function order(bytes2 _itemId, uint quantity, uint unitPrice, string memory where) public payable {\n",
    "        uint256 orderAmount = quantity * unitPrice;\n",
    "        string memory _shipping = where;\n",
    "        require(msg.value == orderAmount);\n",
    "        emit OrderLog(msg.sender, _itemId, quantity, unitPrice, _shipping);\n",
    "    }\n",
    "\n",
    "    function getBalance()view public isOwner returns(uint){\n",
    "        return address(this).balance;\n",
    "    }\n",
    "    modifier isOwner(){\n",
    "        if(msg.sender == owner){\n",
    "            revert();\n",
    "        }\n",
    "        _;\n",
    "    }\n",
    "}"
   ]
  },
  {
   "cell_type": "code",
   "execution_count": 2,
   "id": "90c2aee0",
   "metadata": {},
   "outputs": [],
   "source": [
    "!solc-windows.exe --optimize --combined-json abi,bin src/OrderEvent.sol > src/OrderEvent.json"
   ]
  },
  {
   "cell_type": "code",
   "execution_count": 3,
   "id": "bc8e9662",
   "metadata": {},
   "outputs": [
    {
     "name": "stdout",
     "output_type": "stream",
     "text": [
      "Overwriting src/OrderEventDeploy.js\n"
     ]
    }
   ],
   "source": [
    "%%writefile src/OrderEventDeploy.js\n",
    "var Web3 = require('web3');\n",
    "var _abiBinJson = require('./OrderEvent.json');      //importing a javascript file\n",
    "\n",
    "var web3 = new Web3(new Web3.providers.HttpProvider(\"http://localhost:8345\"));\n",
    "\n",
    "contractName=Object.keys(_abiBinJson.contracts); // reading ['src/OrderEvent.sol:OrderEvent']\n",
    "console.log(\"- contract name: \", contractName);\n",
    "_abiArray=_abiBinJson.contracts[contractName].abi;\n",
    "//_abiArray=JSON.parse(JSON.stringify(_abi));\n",
    "//_abiArray=JSON.parse(_abi);      //JSON parsing needed!! //SyntaxError: Unexpected token o in JSON at position 1\n",
    "_bin=_abiBinJson.contracts[contractName].bin;\n",
    "\n",
    "//console.log(\"- ABI: \" + _abiArray);\n",
    "//console.log(\"- Bytecode: \" + _bin);\n",
    "\n",
    "async function deploy() {\n",
    "    const accounts = await web3.eth.getAccounts();\n",
    "    console.log(\"Deploying the contract from \" + accounts[0]);\n",
    "    var deployed = await new web3.eth.Contract(_abiArray)\n",
    "        .deploy({data: \"0x\"+_bin})\n",
    "        .send({from: accounts[0], gas: 259210}, function(err, transactionHash) {\n",
    "                if(!err) console.log(\"hash: \" + transactionHash); \n",
    "        })\n",
    "        //.then(function(newContractInstance){\n",
    "        //    console.log(newContractInstance)\n",
    "        //});\n",
    "    console.log(\"---> The contract deployed to: \" + deployed.options.address)\n",
    "}\n",
    "deploy()"
   ]
  },
  {
   "cell_type": "code",
   "execution_count": 4,
   "id": "2c431a69",
   "metadata": {},
   "outputs": [
    {
     "name": "stdout",
     "output_type": "stream",
     "text": [
      "- contract name:  [ 'src/OrderEvent.sol:OrderEvent' ]\n",
      "Deploying the contract from 0xeE8D5733E7a447B5823E43385B1C833749f67d65\n",
      "hash: 0xef7ef7adbc926176265de42192de122aa813c231ac1b6b0fbe51d36a86c4e595\n",
      "---> The contract deployed to: 0xcafa95228450D9F11c17252fBA3Cb27ec7719Ea0\n"
     ]
    }
   ],
   "source": [
    "!node src/OrderEventDeploy.js"
   ]
  },
  {
   "cell_type": "markdown",
   "id": "66400446",
   "metadata": {},
   "source": [
    "# 3. ganache에서 배포하세요."
   ]
  },
  {
   "cell_type": "code",
   "execution_count": 5,
   "id": "ea593416",
   "metadata": {},
   "outputs": [
    {
     "name": "stdout",
     "output_type": "stream",
     "text": [
      "Overwriting src/OrderEventUse.js\n"
     ]
    }
   ],
   "source": [
    "%%writefile src/OrderEventUse.js\n",
    "var Web3=require('web3');\n",
    "var fs = require('fs');\n",
    "var _abiBinJson = require('./OrderEvent.json');      //importing a javascript file\n",
    "\n",
    "//var web3 = new Web3(new Web3.providers.HttpProvider(\"http://localhost:8345\"));\n",
    "//var web3 = new Web3(new Web3.providers.WebsocketProvider(\"http://localhost:8345\"));\n",
    "var web3 = new Web3(new Web3.providers.WebsocketProvider(\"ws://localhost:8345\"));\n",
    "contractName=Object.keys(_abiBinJson.contracts); // reading ['src/OrderEvent.sol:OrderEvent']\n",
    "//console.log(\"- contract name: \", contractName); //or console.log(contractName[0]);\n",
    "_abiArray=_abiBinJson.contracts[contractName].abi; //use just as read from file\n",
    "//_abiArray=JSON.parse(JSON.stringify(_abi));\n",
    "//_abiArray=JSON.parse(_abi);      //JSON parsing needed!!\n",
    "//_bin=_abiBinJson.contracts[contractName].bin;\n",
    "console.log(\"- ABI: \" + _abiArray);\n",
    "//console.log(\"- Bytecode: \" + _bin);\n",
    "//var _test = new web3.eth.Contract(_abiArray,\"0xcafa95228450D9F11c17252fBA3Cb27ec7719Ea0\");\n",
    "//var event = _test.events.MyLog({fromBlock: 0}, function (error, result) {\n",
    "//    if (!error) {\n",
    "//        console.log(\"Event fired: \" + JSON.stringify(result.returnValues));\n",
    "//    }\n",
    "//});\n",
    "\n",
    "async function doIt() {\n",
    "   var _order = new web3.eth.Contract(_abiArray, '0xcafa95228450D9F11c17252fBA3Cb27ec7719Ea0');\n",
    "   var event = _order.events.OrderLog({fromBlock: 0}, function (error, result) {\n",
    "    if (!error) {\n",
    "        log = JSON.stringify(result.returnValues);\n",
    "        console.log(\"Event fired: \" + log);\n",
    "        fs.appendFile(\"src/OrderEvent.txt\", log, \"utf-8\", function(e) {\n",
    "            if(!e) {\n",
    "                console.log(\">> Writing to file\");\n",
    "            }\n",
    "        });\n",
    "    }\n",
    "});\n",
    "    \n",
    "    const accounts = await web3.eth.getAccounts();\n",
    "    console.log(\"Account: \" + accounts[0]);\n",
    "   \n",
    "    var value;\n",
    "    // this will fire an event\n",
    "    my = await _order.methods.order(\"0x1111\", 3, 100, \"20 gil Hongji-dong Jongro-gu Seoul\")\n",
    "        .send({from: accounts[0], gas: 100000, value:300})\n",
    "        //.then(function(my) {console.log(\"---> MyFunction called \" + JSON.stringify(my.events.OrderLog.returnValues));});\n",
    "    //console.log(\"---> MyFunction called \" + JSON.stringify(my.events.OrderLog.returnValues));\n",
    "    // this will fire another event\n",
    "    \n",
    "    my = await _order.methods.order(\"0x1111\", 5, 100, \"20 gil Hongji-dong Jongro-gu Seoul\")\n",
    "        .send({from: accounts[0], gas: 100000, value:500})\n",
    "    \n",
    "    my = await _order.methods.order(\"0x1111\", 20, 100, \"20 gil Hongji-dong Jongro-gu Seoul\")\n",
    "        .send({from: accounts[0], gas: 100000, value:2000})\n",
    "\n",
    "    process.exit(1); //force exit to disconnect websocket\n",
    "}\n",
    "\n",
    "doIt()"
   ]
  },
  {
   "cell_type": "markdown",
   "id": "e31875cd",
   "metadata": {},
   "source": [
    "# 4. 주문을 3건만 하고, 이벤트를 통해 다음과 같이 출력하세요."
   ]
  },
  {
   "cell_type": "code",
   "execution_count": 6,
   "id": "39f078b0",
   "metadata": {
    "scrolled": true
   },
   "outputs": [
    {
     "name": "stdout",
     "output_type": "stream",
     "text": [
      "- ABI: [object Object],[object Object],[object Object],[object Object]\n",
      "Account: 0xeE8D5733E7a447B5823E43385B1C833749f67d65\n",
      "Event fired: {\"0\":\"0xeE8D5733E7a447B5823E43385B1C833749f67d65\",\"1\":\"0x1111\",\"2\":\"3\",\"3\":\"100\",\"4\":\"20 gil Hongji-dong Jongro-gu Seoul\",\"_from\":\"0xeE8D5733E7a447B5823E43385B1C833749f67d65\",\"_itemId\":\"0x1111\",\"_value\":\"3\",\"_unitPrice\":\"100\",\"_shipping\":\"20 gil Hongji-dong Jongro-gu Seoul\"}\n",
      ">> Writing to file\n",
      "Event fired: {\"0\":\"0xeE8D5733E7a447B5823E43385B1C833749f67d65\",\"1\":\"0x1111\",\"2\":\"5\",\"3\":\"100\",\"4\":\"20 gil Hongji-dong Jongro-gu Seoul\",\"_from\":\"0xeE8D5733E7a447B5823E43385B1C833749f67d65\",\"_itemId\":\"0x1111\",\"_value\":\"5\",\"_unitPrice\":\"100\",\"_shipping\":\"20 gil Hongji-dong Jongro-gu Seoul\"}\n",
      ">> Writing to file\n",
      "Event fired: {\"0\":\"0xeE8D5733E7a447B5823E43385B1C833749f67d65\",\"1\":\"0x1111\",\"2\":\"20\",\"3\":\"100\",\"4\":\"20 gil Hongji-dong Jongro-gu Seoul\",\"_from\":\"0xeE8D5733E7a447B5823E43385B1C833749f67d65\",\"_itemId\":\"0x1111\",\"_value\":\"20\",\"_unitPrice\":\"100\",\"_shipping\":\"20 gil Hongji-dong Jongro-gu Seoul\"}\n",
      ">> Writing to file\n"
     ]
    }
   ],
   "source": [
    "!node src/OrderEventUse.js"
   ]
  },
  {
   "cell_type": "markdown",
   "id": "f804e125",
   "metadata": {},
   "source": [
    "# 5. 파일에 저장된 파일내역을 출력하세요 \n",
    "(주피터 노트북에서 !type src/OrderEvent.txt)"
   ]
  },
  {
   "cell_type": "code",
   "execution_count": 7,
   "id": "29852e16",
   "metadata": {},
   "outputs": [
    {
     "name": "stdout",
     "output_type": "stream",
     "text": [
      "{\"0\":\"0xeE8D5733E7a447B5823E43385B1C833749f67d65\",\"1\":\"0x1111\",\"2\":\"3\",\"3\":\"100\",\"4\":\"20 gil Hongji-dong Jongro-gu Seoul\",\"_from\":\"0xeE8D5733E7a447B5823E43385B1C833749f67d65\",\"_itemId\":\"0x1111\",\"_value\":\"3\",\"_unitPrice\":\"100\",\"_shipping\":\"20 gil Hongji-dong Jongro-gu Seoul\"}{\"0\":\"0xeE8D5733E7a447B5823E43385B1C833749f67d65\",\"1\":\"0x1111\",\"2\":\"5\",\"3\":\"100\",\"4\":\"20 gil Hongji-dong Jongro-gu Seoul\",\"_from\":\"0xeE8D5733E7a447B5823E43385B1C833749f67d65\",\"_itemId\":\"0x1111\",\"_value\":\"5\",\"_unitPrice\":\"100\",\"_shipping\":\"20 gil Hongji-dong Jongro-gu Seoul\"}{\"0\":\"0xeE8D5733E7a447B5823E43385B1C833749f67d65\",\"1\":\"0x1111\",\"2\":\"20\",\"3\":\"100\",\"4\":\"20 gil Hongji-dong Jongro-gu Seoul\",\"_from\":\"0xeE8D5733E7a447B5823E43385B1C833749f67d65\",\"_itemId\":\"0x1111\",\"_value\":\"20\",\"_unitPrice\":\"100\",\"_shipping\":\"20 gil Hongji-dong Jongro-gu Seoul\"}\n"
     ]
    }
   ],
   "source": [
    "!type src\\OrderEvent.txt"
   ]
  }
 ],
 "metadata": {
  "kernelspec": {
   "display_name": "Python 3 (ipykernel)",
   "language": "python",
   "name": "python3"
  },
  "language_info": {
   "codemirror_mode": {
    "name": "ipython",
    "version": 3
   },
   "file_extension": ".py",
   "mimetype": "text/x-python",
   "name": "python",
   "nbconvert_exporter": "python",
   "pygments_lexer": "ipython3",
   "version": "3.10.3"
  }
 },
 "nbformat": 4,
 "nbformat_minor": 5
}
