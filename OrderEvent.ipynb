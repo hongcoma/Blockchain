{
 "cells": [
  {
   "cell_type": "code",
   "execution_count": 13,
   "id": "8edf4a30",
   "metadata": {},
   "outputs": [
    {
     "name": "stdout",
     "output_type": "stream",
     "text": [
      "Overwriting src/OrderEvent.sol\n"
     ]
    }
   ],
   "source": [
    "%%writefile src/OrderEvent.sol\n",
    "//SPDX-License-Identifier: GPL-3.0-or-later\n",
    "pragma solidity ^0.8.0;\n",
    "\n",
    "contract OrderEvent {\n",
    "    uint unitPrice = 10;\n",
    "    //event OrderLog(string);\n",
    "    address private owner;\n",
    "    //event OrderLog(bytes2 _itemId, uint _value);\n",
    "    //event OrderLog(uint256 timestamp);\n",
    "    event OrderLog(address indexed _from, bytes2 _itemId, uint indexed _value, string _shipping);\n",
    "\n",
    "    function order(bytes2 _itemId, uint quantity, string memory where) public payable {\n",
    "        //uint256 orderTime = now;\n",
    "        //uint256 orderTime = block.timestamp;\n",
    "        uint256 orderAmount = quantity * unitPrice;\n",
    "        string memory _shipping = where;\n",
    "        require(msg.value == orderAmount);\n",
    "        //emit OrderLog(\"Ordered\");\n",
    "        //emit OrderLog(orderTime);\n",
    "        emit OrderLog(msg.sender, _itemId, msg.value, _shipping);\n",
    "    }\n",
    "\n",
    "    function getBalance()view public isOwner returns(uint){\n",
    "        return address(this).balance;\n",
    "    }\n",
    "    modifier isOwner(){\n",
    "        if(msg.sender == owner){\n",
    "            revert();\n",
    "        }\n",
    "        _;\n",
    "    }\n",
    "}"
   ]
  },
  {
   "cell_type": "code",
   "execution_count": 14,
   "id": "9a50c3a4",
   "metadata": {},
   "outputs": [],
   "source": [
    "!solc-windows.exe --optimize --combined-json abi,bin src/OrderEvent.sol > src/OrderEvent.json"
   ]
  },
  {
   "cell_type": "code",
   "execution_count": 15,
   "id": "4572da81",
   "metadata": {},
   "outputs": [
    {
     "name": "stdout",
     "output_type": "stream",
     "text": [
      "Overwriting src/OrderEventDeploy.js\n"
     ]
    }
   ],
   "source": [
    "%%writefile src/OrderEventDeploy.js\n",
    "var Web3 = require('web3');\n",
    "var _abiBinJson = require('./OrderEvent.json');      //importing a javascript file\n",
    "\n",
    "var web3 = new Web3(new Web3.providers.HttpProvider(\"http://localhost:8345\"));\n",
    "\n",
    "contractName=Object.keys(_abiBinJson.contracts); // reading ['src/OrderEvent.sol:OrderEvent']\n",
    "console.log(\"- contract name: \", contractName);\n",
    "_abiArray=_abiBinJson.contracts[contractName].abi;\n",
    "//_abiArray=JSON.parse(JSON.stringify(_abi));\n",
    "//_abiArray=JSON.parse(_abi);      //JSON parsing needed!! //SyntaxError: Unexpected token o in JSON at position 1\n",
    "_bin=_abiBinJson.contracts[contractName].bin;\n",
    "\n",
    "//console.log(\"- ABI: \" + _abiArray);\n",
    "//console.log(\"- Bytecode: \" + _bin);\n",
    "\n",
    "async function deploy() {\n",
    "    const accounts = await web3.eth.getAccounts();\n",
    "    console.log(\"Deploying the contract from \" + accounts[0]);\n",
    "    var deployed = await new web3.eth.Contract(_abiArray)\n",
    "        .deploy({data: \"0x\"+_bin})\n",
    "        .send({from: accounts[0], gas: 259210}, function(err, transactionHash) {\n",
    "                if(!err) console.log(\"hash: \" + transactionHash); \n",
    "        })\n",
    "        //.then(function(newContractInstance){\n",
    "        //    console.log(newContractInstance)\n",
    "        //});\n",
    "    console.log(\"---> The contract deployed to: \" + deployed.options.address)\n",
    "}\n",
    "deploy()"
   ]
  },
  {
   "cell_type": "code",
   "execution_count": 16,
   "id": "967469a9",
   "metadata": {},
   "outputs": [
    {
     "name": "stdout",
     "output_type": "stream",
     "text": [
      "- contract name:  [ 'src/OrderEvent.sol:OrderEvent' ]\n",
      "Deploying the contract from 0xd7C2230AF5F017D7F5F5df5535EC2Dbeec199C01\n",
      "hash: 0x3742455df4b6a8d192e02ec9165579f57bbfb110b8bdf6309deb30e2f1cedbf2\n",
      "---> The contract deployed to: 0x4F02875aC9f24fC80A9Bf113Cf66d67D3Ec5505c\n"
     ]
    }
   ],
   "source": [
    "!node src/OrderEventDeploy.js"
   ]
  },
  {
   "cell_type": "code",
   "execution_count": 5,
   "id": "64d88d48",
   "metadata": {},
   "outputs": [
    {
     "name": "stdout",
     "output_type": "stream",
     "text": [
      "Overwriting src/OrderEventUse.js\n"
     ]
    }
   ],
   "source": [
    "%%writefile src/OrderEventUse.js\n",
    "var Web3=require('web3');\n",
    "var fs = require('fs');\n",
    "var _abiBinJson = require('./OrderEvent.json');      //importing a javascript file\n",
    "\n",
    "//var web3 = new Web3(new Web3.providers.HttpProvider(\"http://localhost:8345\"));\n",
    "//var web3 = new Web3(new Web3.providers.WebsocketProvider(\"http://localhost:8345\"));\n",
    "var web3 = new Web3(new Web3.providers.WebsocketProvider(\"ws://localhost:8345\"));\n",
    "contractName=Object.keys(_abiBinJson.contracts); // reading ['src/OrderEvent.sol:OrderEvent']\n",
    "//console.log(\"- contract name: \", contractName); //or console.log(contractName[0]);\n",
    "_abiArray=_abiBinJson.contracts[contractName].abi; //use just as read from file\n",
    "//_abiArray=JSON.parse(JSON.stringify(_abi));\n",
    "//_abiArray=JSON.parse(_abi);      //JSON parsing needed!!\n",
    "//_bin=_abiBinJson.contracts[contractName].bin;\n",
    "console.log(\"- ABI: \" + _abiArray);\n",
    "//console.log(\"- Bytecode: \" + _bin);\n",
    "//var _test = new web3.eth.Contract(_abiArray,\"0x4F02875aC9f24fC80A9Bf113Cf66d67D3Ec5505c\");\n",
    "//var event = _test.events.MyLog({fromBlock: 0}, function (error, result) {\n",
    "//    if (!error) {\n",
    "//        console.log(\"Event fired: \" + JSON.stringify(result.returnValues));\n",
    "//    }\n",
    "//});\n",
    "\n",
    "async function doIt() {\n",
    "   var _order = new web3.eth.Contract(_abiArray, '0x4F02875aC9f24fC80A9Bf113Cf66d67D3Ec5505c');\n",
    "   var event = _order.events.OrderLog({fromBlock: 0}, function (error, result) {\n",
    "    if (!error) {\n",
    "        log = JSON.stringify(result.returnValues);\n",
    "        console.log(\"Event fired: \" + log);\n",
    "        fs.appendFile(\"src/OrderEvent.txt\", log, \"utf-8\", function(e) {\n",
    "            if(!e) {\n",
    "                console.log(\">> Writing to file\");\n",
    "            }\n",
    "        });\n",
    "    }\n",
    "});\n",
    "    \n",
    "    const accounts = await web3.eth.getAccounts();\n",
    "    console.log(\"Account: \" + accounts[0]);\n",
    "   \n",
    "    var value;\n",
    "    // this will fire an event\n",
    "    my = await _order.methods.order(\"0x1111\", 3, \"20 gil Hongji-dong Jongro-gu Seoul\")\n",
    "        .send({from: accounts[0], gas: 100000, value:30})\n",
    "        //.then(function(my) {console.log(\"---> MyFunction called \" + JSON.stringify(my.events.OrderLog.returnValues));});\n",
    "    //console.log(\"---> MyFunction called \" + JSON.stringify(my.events.OrderLog.returnValues));\n",
    "    // this will fire another event\n",
    "    \n",
    "    my = await _order.methods.order(\"0x1111\", 5, \"20 gil Hongji-dong Jongro-gu Seoul\")\n",
    "        .send({from: accounts[0], gas: 100000, value:50})\n",
    "    \n",
    "    my = await _order.methods.order(\"0x1111\", 20, \"20 gil Hongji-dong Jongro-gu Seoul\")\n",
    "        .send({from: accounts[0], gas: 100000, value:200})\n",
    "\n",
    "    process.exit(1); //force exit to disconnect websocket\n",
    "}\n",
    "\n",
    "doIt()"
   ]
  },
  {
   "cell_type": "code",
   "execution_count": 6,
   "id": "f981f552",
   "metadata": {
    "scrolled": false
   },
   "outputs": [
    {
     "name": "stdout",
     "output_type": "stream",
     "text": [
      "- ABI: [object Object],[object Object],[object Object]"
     ]
    },
    {
     "name": "stderr",
     "output_type": "stream",
     "text": [
      "C:\\Users\\Administrator\\Code\\201810825\\node_modules\\web3-core-helpers\\src\\errors.js:32\n",
      "        return new Error('Invalid number of parameters for \"'+ method +'\". Got '+ got +' expected '+ expected +'!');\n",
      "               ^\n",
      "\n",
      "Error: Invalid number of parameters for \"order\". Got 3 expected 4!\n",
      "    at Object.InvalidNumberOfParams (C:\\Users\\Administrator\\Code\\201810825\\node_modules\\web3-core-helpers\\src\\errors.js:32:16)\n",
      "    at Object._createTxObject (C:\\Users\\Administrator\\Code\\201810825\\node_modules\\web3-eth-contract\\src\\index.js:791:22)\n",
      "    at doIt (C:\\Users\\Administrator\\Code\\201810825\\src\\OrderEventUse.js:42:31)\n",
      "    at processTicksAndRejections (node:internal/process/task_queues:96:5)\n"
     ]
    },
    {
     "name": "stdout",
     "output_type": "stream",
     "text": [
      "\n",
      "Account: 0x35cB93f50fe90B71d42f4509b1057030f8Ad65ec\n"
     ]
    }
   ],
   "source": [
    "!node src/OrderEventUse.js"
   ]
  },
  {
   "cell_type": "code",
   "execution_count": 19,
   "id": "6d1b0de4",
   "metadata": {},
   "outputs": [
    {
     "name": "stdout",
     "output_type": "stream",
     "text": [
      "{\"0\":\"0xd7C2230AF5F017D7F5F5df5535EC2Dbeec199C01\",\"1\":\"0x1111\",\"2\":\"30\",\"3\":\"20 gil Hongji-dong Jongro-gu Seoul\",\"_from\":\"0xd7C2230AF5F017D7F5F5df5535EC2Dbeec199C01\",\"_itemId\":\"0x1111\",\"_value\":\"30\",\"_shipping\":\"20 gil Hongji-dong Jongro-gu Seoul\"}{\"0\":\"0xd7C2230AF5F017D7F5F5df5535EC2Dbeec199C01\",\"1\":\"0x1111\",\"2\":\"50\",\"3\":\"20 gil Hongji-dong Jongro-gu Seoul\",\"_from\":\"0xd7C2230AF5F017D7F5F5df5535EC2Dbeec199C01\",\"_itemId\":\"0x1111\",\"_value\":\"50\",\"_shipping\":\"20 gil Hongji-dong Jongro-gu Seoul\"}{\"0\":\"0xd7C2230AF5F017D7F5F5df5535EC2Dbeec199C01\",\"1\":\"0x1111\",\"2\":\"200\",\"3\":\"20 gil Hongji-dong Jongro-gu Seoul\",\"_from\":\"0xd7C2230AF5F017D7F5F5df5535EC2Dbeec199C01\",\"_itemId\":\"0x1111\",\"_value\":\"200\",\"_shipping\":\"20 gil Hongji-dong Jongro-gu Seoul\"}\n"
     ]
    }
   ],
   "source": [
    "!type src\\OrderEvent.txt"
   ]
  }
 ],
 "metadata": {
  "kernelspec": {
   "display_name": "Python 3 (ipykernel)",
   "language": "python",
   "name": "python3"
  },
  "language_info": {
   "codemirror_mode": {
    "name": "ipython",
    "version": 3
   },
   "file_extension": ".py",
   "mimetype": "text/x-python",
   "name": "python",
   "nbconvert_exporter": "python",
   "pygments_lexer": "ipython3",
   "version": "3.10.3"
  }
 },
 "nbformat": 4,
 "nbformat_minor": 5
}
