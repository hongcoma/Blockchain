{
 "cells": [
  {
   "cell_type": "markdown",
   "id": "4e119534",
   "metadata": {},
   "source": [
    "# 블록체인프로그래밍 9주차 과제 201810825 홍종현\n",
    "Hello 컨트랙을 수정하여, 인사하는 대상을 지정해보자.\n",
    "\n",
    "* 멤버변수에는 toWhom을 지정한다.\n",
    "\n",
    "* 멤버함수에는 아래 함수를 구현한다. 일부러 함수의 입출력 인자는 생략하니 자신이 생각해서 구현한다.\n",
    "\n",
    "```\n",
    "\n",
    "function sayHello() view public returns() 입력: 없다, 출력: Hello smu (bytes 또는 string로 출력)\n",
    "\n",
    "function setWhom() public 입력: 인사하는 대상 (toWhom을 지정, bytes 또는 string로 입력)\n",
    "\n",
    "function getWhom() view public returns() 출력: 인사하는 대상 (toWhom을 읽음, bytes 또는 string로 출력)\n",
    "\n",
    "```\n",
    "\n",
    "\n",
    "\n",
    "문자열 합성을 하려면, 이전에는 abi.encodePacked()를 함수를 사용했으나 버전 0.8.10부터 bytes.concat() 또는 string.concat() 함수를 사용하면 된다.\n",
    "\n",
    "\n",
    "\n",
    "각 각 2개의 컨트랙을 구현한다 - HelloInString.sol, HelloInBytes.sol.\n",
    "\n",
    "* (1) REMIX에서 실행하고, 각 함수의 로그 결과를 붙여넣기한다 (입력, 출력, gas가 보이도록).\n",
    "\n",
    "* (2) HelloInString과 HelloInBytes의 배포할 때와 sayHello() 함수의 gas를 비교하세요."
   ]
  },
  {
   "cell_type": "code",
   "execution_count": 6,
   "id": "59ad920d",
   "metadata": {},
   "outputs": [
    {
     "name": "stdout",
     "output_type": "stream",
     "text": [
      "Overwriting src/HellolnString.sol\n"
     ]
    }
   ],
   "source": [
    "%%writefile src/HellolnString.sol\n",
    "//SPDX-License-Identifier: MIT\n",
    "pragma solidity ^0.4.25;\n",
    "contract HellolnString{\n",
    "    string toWhom=\" \";\n",
    "    string Smu=\"Hello, Smu\";\n",
    "    function sayHello() view public returns(string memory) {\n",
    "        return Smu;\n",
    "    }\n",
    "    \n",
    "    function setWhom(string w) public{\n",
    "        toWhom=w;\n",
    "    } \n",
    "    \n",
    "    function getWhom() view public returns(string w){\n",
    "        return toWhom;\n",
    "    }\n",
    "}\n"
   ]
  },
  {
   "cell_type": "code",
   "execution_count": 7,
   "id": "fda7f51d",
   "metadata": {},
   "outputs": [
    {
     "name": "stdout",
     "output_type": "stream",
     "text": [
      "Writing src/HelloInBytes.sol\n"
     ]
    }
   ],
   "source": [
    "%%writefile src/HelloInBytes.sol\n",
    "//SPDX-License-Identifier: MIT\n",
    "pragma solidity ^0.4.25;\n",
    "contract HelloInBytes{\n",
    "    bytes toWhom=\"\";\n",
    "    bytes smu=\"Hello, Smu\";\n",
    "    function sayHello() view public returns(bytes memory) {\n",
    "        return smu;\n",
    "    }\n",
    "    \n",
    "    function setWhom(bytes w) public{\n",
    "        toWhom=w;\n",
    "    } \n",
    "    \n",
    "    function getWhom() view public returns(bytes w){\n",
    "        return toWhom;\n",
    "    }\n",
    "}"
   ]
  },
  {
   "cell_type": "markdown",
   "id": "d42af17c",
   "metadata": {},
   "source": [
    "# 1-1. HelloInString.sol 함수의 로그결과"
   ]
  },
  {
   "cell_type": "markdown",
   "id": "116d1fc7",
   "metadata": {},
   "source": [
    "#### sayHello 로그결과\n",
    "[vm]from: 0x5B3...eddC4to: HelloInString.(constructor)value: 0 weidata: 0x608...70029logs: 0hash: 0xdd4...2ccaa\n",
    "call to HelloInString.sayHello\n",
    "CALL\n",
    "[call]from: 0x5B38Da6a701c568545dCfcB03FcB875f56beddC4to: HelloInString.sayHello()data: 0xef5...fb05b\n",
    "from\t0x5B38Da6a701c568545dCfcB03FcB875f56beddC4\n",
    "to\tHelloInString.sayHello() 0xd9145CCE52D386f254917e481eB44e9943F39138\n",
    "execution cost\t24234 gas (Cost only applies when called by a contract)\n",
    "input\t0xef5...fb05b\n",
    "decoded input\t{}\n",
    "decoded output\t{\n",
    "\t\"0\": \"string: Hello, Smu\"\n",
    "}\n",
    "logs\t[]\n",
    "\n",
    "#### setWhom 로그결과\n",
    "[vm]from: 0x5B3...eddC4to: HelloInString.setWhom(string) 0xd91...39138value: 0 weidata: 0x1c8...00000logs: 0hash: 0x18a...3de5a\n",
    "status\ttrue Transaction mined and execution succeed\n",
    "transaction hash\t0x18ad584c88baf1aaddde104b38f1a5b10c0e632b2896882482907e53da43de5a\n",
    "from\t0x5B38Da6a701c568545dCfcB03FcB875f56beddC4\n",
    "to\tHelloInString.setWhom(string) 0xd9145CCE52D386f254917e481eB44e9943F39138\n",
    "gas\t33976 gas\n",
    "transaction cost\t29544 gas \n",
    "execution cost\t29544 gas \n",
    "input\t0x1c8...00000\n",
    "decoded input\t{\n",
    "\t\"string w\": \"StringHJH\"\n",
    "}\n",
    "decoded output\t{}\n",
    "logs\t[]\n",
    "val\t0 wei\n",
    "\n",
    "#### getWhom 로그결과\n",
    "CALL\n",
    "[call]from: 0x5B38Da6a701c568545dCfcB03FcB875f56beddC4to: HelloInString.getWhom()data: 0x3c5...00c0e\n",
    "from\t0x5B38Da6a701c568545dCfcB03FcB875f56beddC4\n",
    "to\tHelloInString.getWhom() 0xd9145CCE52D386f254917e481eB44e9943F39138\n",
    "execution cost\t24212 gas (Cost only applies when called by a contract)\n",
    "input\t0x3c5...00c0e\n",
    "decoded input\t{}\n",
    "decoded output\t{\n",
    "\t\"0\": \"string: w StringHJH\"\n",
    "}\n",
    "logs\t[]"
   ]
  },
  {
   "cell_type": "markdown",
   "id": "e6f33793",
   "metadata": {},
   "source": [
    "# 1-2. HelloInBytes.sol 함수의 로그결과"
   ]
  },
  {
   "cell_type": "markdown",
   "id": "e9a4eee2",
   "metadata": {},
   "source": [
    "#### sayHello 로그결과\n",
    "[vm]from: 0x5B3...eddC4to: HelloInBytes.(constructor)value: 0 weidata: 0x608...b0029logs: 0hash: 0x212...22226\n",
    "call to HelloInBytes.sayHello\n",
    "CALL\n",
    "[call]from: 0x5B38Da6a701c568545dCfcB03FcB875f56beddC4to: HelloInBytes.sayHello()data: 0xef5...fb05b\n",
    "from\t0x5B38Da6a701c568545dCfcB03FcB875f56beddC4\n",
    "to\tHelloInBytes.sayHello() 0x0fC5025C764cE34df352757e82f7B5c4Df39A836\n",
    "execution cost\t24234 gas (Cost only applies when called by a contract)\n",
    "input\t0xef5...fb05b\n",
    "decoded input\t{}\n",
    "decoded output\t{\n",
    "\t\"0\": \"bytes: 0x48656c6c6f2c20536d75\"\n",
    "}\n",
    "logs\t[]\n",
    "\n",
    "#### setWhom 로그결과\n",
    "[vm]from: 0x5B3...eddC4to: HelloInBytes.setWhom(bytes) 0x0fC...9A836value: 0 weidata: 0x820...00000logs: 0hash: 0x3f5...65bee\n",
    "status\ttrue Transaction mined and execution succeed\n",
    "transaction hash\t0x3f546779ff8921ddb0c49e5e7d1021cdf18fc52a0026cb818efe097016c65bee\n",
    "from\t0x5B38Da6a701c568545dCfcB03FcB875f56beddC4\n",
    "to\tHelloInBytes.setWhom(bytes) 0x0fC5025C764cE34df352757e82f7B5c4Df39A836\n",
    "gas\t51057 gas\n",
    "transaction cost\t44397 gas \n",
    "execution cost\t44397 gas \n",
    "input\t0x820...00000\n",
    "decoded input\t{\n",
    "\t\"bytes w\": \"0x4279746573484a48\"\n",
    "}\n",
    "decoded output\t{}\n",
    "logs\t[]\n",
    "val\t0 wei\n",
    "\n",
    "#### getWhom 로그결과\n",
    "CALL\n",
    "[call]from: 0x5B38Da6a701c568545dCfcB03FcB875f56beddC4to: HelloInBytes.getWhom()data: 0x3c5...00c0e\n",
    "from\t0x5B38Da6a701c568545dCfcB03FcB875f56beddC4\n",
    "to\tHelloInBytes.getWhom() 0x0fC5025C764cE34df352757e82f7B5c4Df39A836\n",
    "execution cost\t24190 gas (Cost only applies when called by a contract)\n",
    "input\t0x3c5...00c0e\n",
    "decoded input\t{}\n",
    "decoded output\t{\n",
    "\t\"0\": \"bytes: w 0x4279746573484a48\"\n",
    "}\n",
    "logs\t[]"
   ]
  },
  {
   "cell_type": "markdown",
   "id": "6698882b",
   "metadata": {},
   "source": [
    "# 2. HelloInString과 HelloInBytes의 배포할 때와 sayHello() 함수의 gas비교"
   ]
  },
  {
   "cell_type": "markdown",
   "id": "b4c6f1c4",
   "metadata": {},
   "source": [
    "### HelloInString에서의 gas\n",
    "#### sayHello() : 24234 gas\n",
    "#### setWhom() : 33976 gas (transaction cost, execution cost : 29544 gas)\n",
    "#### getWhom() : 24212 gas\n",
    "\n",
    "### HelloInBytes에서의 gas\n",
    "#### sayHello() : 24234 gas\n",
    "#### setWhom() : 51057 gas (transaction cost, execution cost : 44397 gas)\n",
    "#### getWhom() : 24190 gas"
   ]
  }
 ],
 "metadata": {
  "kernelspec": {
   "display_name": "Python 3 (ipykernel)",
   "language": "python",
   "name": "python3"
  },
  "language_info": {
   "codemirror_mode": {
    "name": "ipython",
    "version": 3
   },
   "file_extension": ".py",
   "mimetype": "text/x-python",
   "name": "python",
   "nbconvert_exporter": "python",
   "pygments_lexer": "ipython3",
   "version": "3.10.3"
  }
 },
 "nbformat": 4,
 "nbformat_minor": 5
}
