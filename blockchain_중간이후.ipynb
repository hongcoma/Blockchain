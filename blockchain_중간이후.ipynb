{
 "cells": [
  {
   "cell_type": "code",
   "execution_count": 1,
   "id": "8b07cc08",
   "metadata": {},
   "outputs": [
    {
     "name": "stdout",
     "output_type": "stream",
     "text": [
      "Overwriting src/SimpleChild.sol\n"
     ]
    }
   ],
   "source": [
    "%%writefile src/SimpleChild.sol\n",
    "//SPDX-License-Identifier: GPL-3.0-or-later\n",
    "pragma solidity ^0.8.0;\n",
    "\n",
    "contract Parent {\n",
    "    //state variables\n",
    "    address owner; //as of 0.8.0 no need to be address payable owner;\n",
    "    uint private counter;\n",
    "    \n",
    "    //constructor. no need for constructor to be public as of 0.7.0\n",
    "    constructor() {\n",
    "        owner = msg.sender;\n",
    "        counter = 0;\n",
    "    }\n",
    "    //functions\n",
    "    function add() public { counter++; }\n",
    "    function getCounter() public view returns(uint) { return counter; }\n",
    "}\n",
    "\n",
    "contract SimpleChild is Parent {\n",
    "    //state variables\n",
    "    string nickName;\n",
    "    mapping(address => uint) private balances;\n",
    "    //event\n",
    "    event PrintLog(address, uint);\n",
    "    \n",
    "    //constructor\n",
    "    constructor() {}  // no public as in constructor() public {}  \n",
    "    //functions\n",
    "    function setNickName(string memory s) public { nickName = s; }\n",
    "    function getNickName() public view returns(string memory) { return nickName; }\n",
    "    function deposit() public payable {\n",
    "        balances[msg.sender] += msg.value;\n",
    "        emit PrintLog(msg.sender, msg.value);\n",
    "    }\n",
    "    function queryBalance() public view returns (uint) {\n",
    "        return balances[msg.sender];\n",
    "    }\n",
    "    //access non-private members of the parent\n",
    "    function kill() public {\n",
    "        if (msg.sender == owner) selfdestruct(payable(owner)); //0.6.x selfdestruct(owner)\n",
    "    }\n",
    "}"
   ]
  },
  {
   "cell_type": "code",
   "execution_count": 2,
   "id": "61eb1f3b",
   "metadata": {},
   "outputs": [
    {
     "name": "stderr",
     "output_type": "stream",
     "text": [
      "Compiler run successful, no output requested.\n"
     ]
    }
   ],
   "source": [
    "!solc-windows.exe src/SimpleChild.sol"
   ]
  },
  {
   "cell_type": "code",
   "execution_count": 3,
   "id": "04bbab7e",
   "metadata": {},
   "outputs": [
    {
     "name": "stdout",
     "output_type": "stream",
     "text": [
      "Overwriting src/IntBool.sol\n"
     ]
    }
   ],
   "source": [
    "%%writefile src/IntBool.sol\n",
    "//SPDX-License-Identifier: GPL-3.0-or-later\n",
    "pragma solidity ^0.8.0;\n",
    "\n",
    "contract IntBoolTest {\n",
    "    bool married = true;\n",
    "    uint256 xAge = 22;\n",
    "    uint256 yAge = 25;\n",
    "    //fixed phi; // = 3.14;\n",
    "    function update() public {\n",
    "        xAge = yAge;\n",
    "        yAge = 33;\n",
    "    }\n",
    "    function setXAge(int age) public {\n",
    "        xAge = uint(age);  //type conversion\n",
    "    }\n",
    "    function getXAge() public view returns(uint) {\n",
    "        return xAge;\n",
    "    }\n",
    "    function getYAge() public view returns(uint) {\n",
    "        return yAge;\n",
    "    }\n",
    "    function testInt() public view returns(bool) {\n",
    "        assert(xAge>=20 && yAge>=20);\n",
    "        return true;\n",
    "    }\n",
    "    function isMarried() public view returns(bool) {\n",
    "        return married;\n",
    "    }\n",
    "}"
   ]
  },
  {
   "cell_type": "code",
   "execution_count": 4,
   "id": "e396d188",
   "metadata": {},
   "outputs": [
    {
     "name": "stderr",
     "output_type": "stream",
     "text": [
      "Compiler run successful, no output requested.\n"
     ]
    }
   ],
   "source": [
    "!solc-windows.exe src/IntBool.sol"
   ]
  },
  {
   "cell_type": "code",
   "execution_count": 5,
   "id": "fa9116be",
   "metadata": {},
   "outputs": [
    {
     "name": "stdout",
     "output_type": "stream",
     "text": [
      "Overwriting src/ByteStringTest.sol\n"
     ]
    }
   ],
   "source": [
    "%%writefile src/ByteStringTest.sol\n",
    "//SPDX-License-Identifier: GPL-3.0-or-later\n",
    "pragma solidity ^0.8.0;\n",
    "\n",
    "contract ByteStringTest {\n",
    "    //byte b = 0xFF; //use bytes1 as of 0.8.0\n",
    "    bytes1 b1 = 0xFF;\n",
    "    bytes2 b2 = 0xFFAA;\n",
    "    bytes8 place8 = \"7 hongji\"; //8 characters long\n",
    "    bytes23 place23 = \"7 hongji-dong jongro-gu\";\n",
    "    bytes place = \"7 hongji-dong jongro-gu Seoul\"; //variable length\n",
    "    bytes myBytes = new bytes(3);  //0x000000\n",
    "    string constant name = \"jsl\"; //utf-8 string \"jsl\"\n",
    "    function getB1() public view returns(bytes1) {\n",
    "        return b1;  //bytes1, so no casting required\n",
    "    }\n",
    "    function getB2() public view returns(bytes2) {\n",
    "        return b2;\n",
    "    }\n",
    "    function getB23() public view returns(bytes23) {\n",
    "        return place23;  //fixed size, value type (no memory)\n",
    "    }\n",
    "    /**@return hex bytes. reference type should be set as memory*/\n",
    "    function getBytes() public view returns(bytes memory) {\n",
    "        return myBytes;  //smu in hex 0x736d75\n",
    "    }\n",
    "    function getLengOfBytes23 () view public returns(uint) {\n",
    "        return place23.length;  // returns 23\n",
    "    }\n",
    "    function getLenOfBytes() pure public returns(uint) {\n",
    "        bytes memory bm = \"7 hongji-dong jongro-gu\";\n",
    "        return bm.length;        // returns 23\n",
    "    }\n",
    "    //need the arg in hex e.g. bytes1 0x61 bytes2 0x6161\n",
    "    //a 61, b 62, ... , y 79\n",
    "    //try invalid type, e.g. bytes2 0x61 or 0x616161\n",
    "    function setB2(bytes2 _b2) public {\n",
    "        b2 = _b2;\n",
    "    }\n",
    "    function setBytes() public {\n",
    "        myBytes = \"smu\";\n",
    "    }\n",
    "    function getLenOfString() pure public returns(uint) {\n",
    "        string memory nameLocal = \"jslLocal\";\n",
    "        //return nameLocal.length;  //error, casting required\n",
    "        return bytes(nameLocal).length;\n",
    "    }\n",
    "    function getString() pure public returns(string memory) {\n",
    "    //function getString() pure public returns(bytes memory) {\n",
    "        string memory s = \"\\xec\\x95\\x88\\xeb\\x85\\x95\"; //\"한글\";\n",
    "        //bytes memory s = \"\\xec\\x95\\x88\\xeb\\x85\\x95\"; //\"한글\";\n",
    "        return s;\n",
    "    }\n",
    "}"
   ]
  },
  {
   "cell_type": "code",
   "execution_count": 6,
   "id": "47a0d837",
   "metadata": {},
   "outputs": [
    {
     "name": "stderr",
     "output_type": "stream",
     "text": [
      "Compiler run successful, no output requested.\n"
     ]
    }
   ],
   "source": [
    "!solc-windows.exe src/IntBool.sol"
   ]
  },
  {
   "cell_type": "code",
   "execution_count": 7,
   "id": "40f547fa",
   "metadata": {},
   "outputs": [
    {
     "name": "stdout",
     "output_type": "stream",
     "text": [
      "Overwriting src/StructTest.sol\n"
     ]
    }
   ],
   "source": [
    "%%writefile src/StructTest.sol\n",
    "//SPDX-License-Identifier: GPL-3.0-or-later\n",
    "pragma solidity ^0.8.0;\n",
    "\n",
    "contract StructTest {\n",
    "    struct Student {\n",
    "        uint num;\n",
    "        string name;\n",
    "        bool isEnrolled;\n",
    "    }\n",
    "    Student s1=Student(201911111,\"jslim\",true);\n",
    "    Student s2;\n",
    "    //memory only for string type\n",
    "    //201711111,\"kim\",false\n",
    "    function setStudent2(uint n, string memory sn, bool e) public {\n",
    "        s2.num = n;\n",
    "        s2.name = sn;\n",
    "        s2.isEnrolled = e;\n",
    "    }\n",
    "   function getStudent1() public view returns(uint, string memory, bool){\n",
    "       return (s1.num, s1.name, s1.isEnrolled);\n",
    "   }\n",
    "   function getStudent2() public view returns(uint, string memory, bool){\n",
    "       return (s2.num, s2.name, s2.isEnrolled);\n",
    "   }\n",
    "   function getStudentName() pure public returns(string memory) {\n",
    "       //the right is locally created, so memory (not storage) is declared\n",
    "       Student memory s3 = Student(201911112, \"jsl3\", true);\n",
    "       return s3.name;\n",
    "   }\n",
    "}"
   ]
  },
  {
   "cell_type": "code",
   "execution_count": 8,
   "id": "f9e32b69",
   "metadata": {},
   "outputs": [
    {
     "name": "stdout",
     "output_type": "stream",
     "text": [
      "\n",
      "======= src/StructTest.sol:StructTest =======\n",
      "Binary:\n",
      "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\n"
     ]
    }
   ],
   "source": [
    "!solc-windows.exe --bin src/StructTest.sol"
   ]
  },
  {
   "cell_type": "code",
   "execution_count": 9,
   "id": "d58d3dcd",
   "metadata": {},
   "outputs": [
    {
     "name": "stdout",
     "output_type": "stream",
     "text": [
      "\n",
      "======= src/StructTest.sol:StructTest =======\n",
      "Gas estimation:\n",
      "construction:\n",
      "   infinite + 363800 = infinite\n",
      "external:\n",
      "   getStudent1():\tinfinite\n",
      "   getStudent2():\tinfinite\n",
      "   getStudentName():\tinfinite\n",
      "   setStudent2(uint256,string,bool):\tinfinite\n",
      "Binary:\n",
      "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\n",
      "Contract JSON ABI\n",
      "[{\"inputs\":[],\"name\":\"getStudent1\",\"outputs\":[{\"internalType\":\"uint256\",\"name\":\"\",\"type\":\"uint256\"},{\"internalType\":\"string\",\"name\":\"\",\"type\":\"string\"},{\"internalType\":\"bool\",\"name\":\"\",\"type\":\"bool\"}],\"stateMutability\":\"view\",\"type\":\"function\"},{\"inputs\":[],\"name\":\"getStudent2\",\"outputs\":[{\"internalType\":\"uint256\",\"name\":\"\",\"type\":\"uint256\"},{\"internalType\":\"string\",\"name\":\"\",\"type\":\"string\"},{\"internalType\":\"bool\",\"name\":\"\",\"type\":\"bool\"}],\"stateMutability\":\"view\",\"type\":\"function\"},{\"inputs\":[],\"name\":\"getStudentName\",\"outputs\":[{\"internalType\":\"string\",\"name\":\"\",\"type\":\"string\"}],\"stateMutability\":\"pure\",\"type\":\"function\"},{\"inputs\":[{\"internalType\":\"uint256\",\"name\":\"n\",\"type\":\"uint256\"},{\"internalType\":\"string\",\"name\":\"sn\",\"type\":\"string\"},{\"internalType\":\"bool\",\"name\":\"e\",\"type\":\"bool\"}],\"name\":\"setStudent2\",\"outputs\":[],\"stateMutability\":\"nonpayable\",\"type\":\"function\"}]\n"
     ]
    }
   ],
   "source": [
    "!solc --abi --bin --gas src/StructTest.sol"
   ]
  },
  {
   "cell_type": "code",
   "execution_count": 10,
   "id": "f3623c24",
   "metadata": {},
   "outputs": [
    {
     "name": "stdout",
     "output_type": "stream",
     "text": [
      "Overwriting src/EnumTest.sol\n"
     ]
    }
   ],
   "source": [
    "%%writefile src/EnumTest.sol\n",
    "//SPDX-License-Identifier: GPL-3.0-or-later\n",
    "pragma solidity ^0.8.0;\n",
    "\n",
    "contract EnumTest {\n",
    "    enum Day {MONDAY,TUESDAY,WEDNESDAY,THURSDAY,FRIDAY,SATURDAY,SUNDAY}\n",
    "    Day myDay = Day.FRIDAY; //index int4\n",
    "    \n",
    "    /* @return Day  returning index*/\n",
    "    function getMyDay() public view returns(Day) {\n",
    "        return myDay;   //index\n",
    "    }\n",
    "    /* @param d  ok to pass an integer (uint8)*/\n",
    "    function setMyDay(Day d) public {\n",
    "        myDay = d;\n",
    "    }\n",
    "    //uint is converted to uint8, which is default\n",
    "    function setMyDayInt(uint d) public {\n",
    "        myDay = Day(d);\n",
    "    }\n",
    "}"
   ]
  },
  {
   "cell_type": "code",
   "execution_count": 11,
   "id": "b923a104",
   "metadata": {},
   "outputs": [
    {
     "name": "stdout",
     "output_type": "stream",
     "text": [
      "Overwriting src/ArrayTest.sol\n"
     ]
    }
   ],
   "source": [
    "%%writefile src/ArrayTest.sol\n",
    "//SPDX-License-Identifier: GPL-3.0-or-later\n",
    "pragma solidity ^0.8.0;\n",
    "\n",
    "contract ArrayTest {\n",
    "    uint[3] ages = [15, 25, 35];\n",
    "    int[] marks; //dynamic ArrayTest\n",
    "    \n",
    "    /* @param index  array index\n",
    "       @param val    value at the index*/\n",
    "    function updateAges(uint index, uint val) public {\n",
    "        if(index>=0 && index <=2)\n",
    "            ages[index] = val;\n",
    "    }\n",
    "    function initMarks() public {\n",
    "        marks = new int[](5);   // default 0\n",
    "    }\n",
    "    function appendMark(int mark) public {\n",
    "        marks.push(mark);\n",
    "    }\n",
    "    function popMark() public {\n",
    "        marks.pop();\n",
    "    }\n",
    "    /* @return dynamic array, so memory is used*/\n",
    "    function getMarks() public view returns(int[] memory) {\n",
    "        return marks;\n",
    "    }\n",
    "    /* @return fixed array, so memory is used*/\n",
    "    function getAges() public view returns(uint[3] memory) {\n",
    "        return ages;\n",
    "    }\n",
    "    function getLenOfArr() pure public returns(uint) {\n",
    "        //memory is used because locally created array is assigned\n",
    "        uint8[3] memory intArr = [0, 1, 2];\n",
    "        return intArr.length;\n",
    "    }\n",
    "}"
   ]
  },
  {
   "cell_type": "markdown",
   "id": "b2cbf767",
   "metadata": {},
   "source": [
    "송금시 3가지 단어를 모두 기억해야함 send(), transfer(), call.value()\n",
    "### send, transfer, call.value 순으로\n",
    "### gas 수정가능 : No, No, Yes\n",
    "### gas 한도 : 2300, 2300, 모든가용 gas를 넘겨주거나 일정gas를 정할 수 있음\n",
    "### 실패시(송금실패) : false, throw 예외 발생, false\n",
    "\n",
    "#### transfer\n",
    "- gas 수정불가능, gas한도 2300, 송금실패시 throw 예외 발생\n",
    "- transfer 함수로 송금시 수신자 측에서 receive, fallback함수를 통해 수신됨\n",
    "- 수신자주소.transfer(금액) --> 수신자주소로 금액만큼 송금\n",
    "\n",
    "#### send\n",
    "- gas 수정불가능, gas한도 2300, 송금실패시 false 반환\n",
    "- send 함수로 송금시 수신자 측에서 receive, fallback함수를 통해 수신됨\n",
    "- require(수신자주소.send(금액)) --> 수신자주소로 금액만큼 송금\n",
    "\n",
    "#### call\n",
    "- gas 수정가능, gas한도 수정가능, 송금 실패시 false 반환\n",
    "- transfer와 send는 수신자측에 gas부담을 시키는 공격이 가능하여 call이 더 안전하다는 주장도 있음\n",
    "- (bool success, ) = <address>.call{value:20}(\"\"); //20 Wei를 송금한다. 괄호가 없으면 값을 설정했다는 의미, 소괄호 안에 비어있으므로 수신함수가 없음\n",
    "- (bool success, ) = <address>.call{gas:2, value:11111}(\"\"); //처럼 가스를 명시할 수 도 있음"
   ]
  },
  {
   "cell_type": "code",
   "execution_count": 13,
   "id": "eb969340",
   "metadata": {},
   "outputs": [
    {
     "name": "stdout",
     "output_type": "stream",
     "text": [
      "Overwriting src/AddressTest.sol\n"
     ]
    }
   ],
   "source": [
    "%%writefile src/AddressTest.sol\n",
    "//SPDX-License-Identifier: GPL-3.0-or-later\n",
    "pragma solidity ^0.8.0;\n",
    "\n",
    "contract AddressTest {\n",
    "    address owner;\n",
    "    address payable receiver; //address receiver;\n",
    "    uint balanceOfOwner;\n",
    "    constructor() { // NO! constructor() public {\n",
    "        owner=msg.sender;\n",
    "        //myBalance = msg.sender.balance;\n",
    "        balanceOfOwner = owner.balance;\n",
    "    }\n",
    "    function deposit() payable public {\n",
    "    }\n",
    "    /* @param addr  set as payable because it will get some gwei*/\n",
    "    function setReceiver(address payable addr) public {\n",
    "        receiver=addr;\n",
    "    }\n",
    "    function getReceiver() view public returns(address) {\n",
    "        return receiver;\n",
    "    }\n",
    "    function getBalanceOfThis() public view returns(uint) {\n",
    "        return address(this).balance;  //balance of contract\n",
    "    }\n",
    "    function getBalanceOfOwner() public view returns(uint) {\n",
    "        return owner.balance;\n",
    "    }\n",
    "    function getBalanceOfReceiver() public view returns(uint) {\n",
    "        return receiver.balance;\n",
    "    }\n",
    "    function send() public payable {\n",
    "        require(receiver.send(111)); //send 111 gwei to xAddress\n",
    "    }\n",
    "    function transfer() public payable {\n",
    "        //if !(receiver.transfer(address(this).balance))\n",
    "        receiver.transfer(11111);\n",
    "    }\n",
    "    function callValue() public payable {\n",
    "        //receiver.call.value(11111)(\"\"); //deprecated\n",
    "        //receiver.call{value: 11111}(\"\");  //Warning: Return value of low-level calls not used.\n",
    "        //(bool success, bytes memory data) = receiver.call{value: 11111}(\"\"); //waring persists\n",
    "        (bool success, ) = receiver.call{value: 11111}(\"\");\n",
    "        require(success, \"transfer call failed.\");\n",
    "        //receiver.call.gas(10).value(11111)(\"\");  //warning\n",
    "        //receiver.call{gas: 10, value: 11111}(\"\"); //warning\n",
    "        (success, ) = receiver.call{gas: 10, value: 11111}(\"\");\n",
    "        require(success, \"transfer call failed.\");\n",
    "    }\n",
    "}\n",
    "    "
   ]
  },
  {
   "cell_type": "markdown",
   "id": "2f0ebbdc",
   "metadata": {},
   "source": [
    "### Mybank.sol 실행시"
   ]
  },
  {
   "cell_type": "code",
   "execution_count": 14,
   "id": "69129c46",
   "metadata": {},
   "outputs": [
    {
     "name": "stdout",
     "output_type": "stream",
     "text": [
      "Overwriting src/MyBank.sol\n"
     ]
    }
   ],
   "source": [
    "%%writefile src/MyBank.sol\n",
    "//SPDX-License-Identifier: GPL-3.0-or-later\n",
    "pragma solidity ^0.8.0;\n",
    "\n",
    "contract MyBank {\n",
    "    address owner; //address payable owner;\n",
    "    uint balance;\n",
    "    constructor() { //constructor() public {\n",
    "        owner = msg.sender;\n",
    "        balance = address(this).balance;\n",
    "    }\n",
    "    function deposit(uint amount) public payable {\n",
    "        require(msg.value == amount);\n",
    "        balance += amount;\n",
    "    }\n",
    "    function withdraw(uint amount) public payable {\n",
    "        balance -= amount;   // deduct before transfer\n",
    "        payable(owner).transfer(amount); //owner.transfer(amount);\n",
    "    }\n",
    "    function transferTo(address payable receiver, uint amount) public payable {\n",
    "        balance -= amount;   // deduct before transfer\n",
    "        receiver.transfer(amount);\n",
    "    }\n",
    "    function getBalance() public view returns (uint) {\n",
    "        return balance;\n",
    "    }\n",
    "    function getBalanceOfThis() public view returns (uint) {\n",
    "        return address(this).balance;\n",
    "    }\n",
    "    function getBalanceOfOwner() public view returns (uint) {\n",
    "        return owner.balance;\n",
    "    }\n",
    "}"
   ]
  },
  {
   "cell_type": "code",
   "execution_count": 17,
   "id": "38bd6db2",
   "metadata": {},
   "outputs": [
    {
     "name": "stdout",
     "output_type": "stream",
     "text": [
      "Overwriting src/FuctionTest.sol\n"
     ]
    }
   ],
   "source": [
    "%%writefile src/FuctionTest.sol\n",
    "//SPDX-License-Identifier: GPL-3.0-or-later\n",
    "pragma solidity ^0.8.0;\n",
    "\n",
    "contract FunctionTest {\n",
    "    int x;\n",
    "    //constructor\n",
    "    constructor() { //constructor() public {\n",
    "        x = 0;\n",
    "    }\n",
    "    // updating state var x\n",
    "    function incrementX() public {\n",
    "        x += 1;\n",
    "    }\n",
    "    // call when x = 0\n",
    "    function doubleX() public {\n",
    "        X2();\n",
    "    }\n",
    "    // float not supported. try 0, 1/3...\n",
    "    function divideBy(int by) view public returns(int) {\n",
    "        return x/by;\n",
    "    }\n",
    "    // actually NONE returned\n",
    "    function getX_() view public returns(int) {\n",
    "        return x;        \n",
    "    }\n",
    "    // try pure\n",
    "    function getX() view public returns(int) {\n",
    "        return x;\n",
    "    }\n",
    "    function getBalance() view public returns(uint) {\n",
    "        return(address(this).balance);\n",
    "    }\n",
    "    // 'payable' means that msg.value can be deposited\n",
    "    function deposit() public payable {\n",
    "    }\n",
    "    // can not be used in public\n",
    "    function X2() internal {\n",
    "        x *= 2;\n",
    "    }\n",
    "    function getBlockNumber() view public returns(uint) {\n",
    "        return block.number;\n",
    "    }\n",
    "}"
   ]
  },
  {
   "cell_type": "code",
   "execution_count": 18,
   "id": "f28600d4",
   "metadata": {},
   "outputs": [
    {
     "name": "stdout",
     "output_type": "stream",
     "text": [
      "Overwriting src/UnderscoreTest.sol\n"
     ]
    }
   ],
   "source": [
    "%%writefile src/UnderscoreTest.sol\n",
    "//SPDX-License-Identifier: GPL-3.0-or-later\n",
    "pragma solidity ^0.8.0;\n",
    "\n",
    "contract UnderscoreTest {\n",
    "    string season = \"\";\n",
    "    function getSeason() view public returns(string memory) {\n",
    "        return season;\n",
    "    }\n",
    "    function setWinter() public setSummerAfter {\n",
    "        season = \"winter\";\n",
    "    }\n",
    "    function setSpring() public setSummerBefore {\n",
    "        season = \"spring\";\n",
    "    }\n",
    "    modifier setSummerAfter() {\n",
    "        season = \"summer\";\n",
    "        _;\n",
    "    }\n",
    "    modifier setSummerBefore() {\n",
    "        _;\n",
    "        season = \"summer\";\n",
    "    }\n",
    "}"
   ]
  },
  {
   "cell_type": "code",
   "execution_count": 19,
   "id": "cc9922c9",
   "metadata": {},
   "outputs": [
    {
     "name": "stdout",
     "output_type": "stream",
     "text": [
      "Writing src/webSocketTest.js\n"
     ]
    }
   ],
   "source": [
    "%%writefile src/webSocketTest.js\n",
    "var Web3 = require('web3');\n",
    "const myProvider = new Web3.providers.WebsocketProvider(\"ws://localhost:8345\", {\n",
    "    clientConfig: {\n",
    "        keepalive:true, keepaliveInterval:10000\n",
    "    } \n",
    "  });\n",
    "var web3 = new Web3(myProvider);\n",
    "console.log(\"(1) websocket url: \", myProvider.connection.url); //web3.currentProvider.connection.url\n",
    "myProvider.on('connect', function() {\n",
    "    console.log(\"(2) connecting websocket: \"+web3.currentProvider.connected);\n",
    "    //myProvider.disconnect();\n",
    "    web3.currentProvider.connection.close();\n",
    "    console.log(\"(3) disconnecting Websocket: \"+web3.currentProvider.connected);\n",
    "});\n",
    "myProvider.on('close', function() { console.log(\"--> Websocket closed\"); });\n",
    "myProvider.on('end', function() { console.log(\"--> Websocket ended\"); });\n",
    "myProvider.on('error', function(error) { console.error(error); });"
   ]
  },
  {
   "cell_type": "code",
   "execution_count": 20,
   "id": "b030e50e",
   "metadata": {},
   "outputs": [
    {
     "name": "stdout",
     "output_type": "stream",
     "text": [
      "(1) websocket url:  ws://localhost:8345\n",
      "(2) connecting websocket: true\n",
      "(3) disconnecting Websocket: false\n",
      "--> Websocket ended\n"
     ]
    }
   ],
   "source": [
    "!node src/webSocketTest.js"
   ]
  },
  {
   "cell_type": "markdown",
   "id": "ba97090b",
   "metadata": {},
   "source": [
    "# Event 이벤트 발생"
   ]
  },
  {
   "cell_type": "code",
   "execution_count": 35,
   "id": "58be6cbc",
   "metadata": {},
   "outputs": [
    {
     "name": "stdout",
     "output_type": "stream",
     "text": [
      "Overwriting src/EventTest.sol\n"
     ]
    }
   ],
   "source": [
    "%%writefile src/EventTest.sol\n",
    "//SPDX-License-Identifier: GPL-3.0-or-later\n",
    "pragma solidity ^0.8.0;\n",
    "\n",
    "contract EventTest {\n",
    "    event MyLog(string my);\n",
    "    function myFunction() public {\n",
    "        emit MyLog(\"Hello World!\");\n",
    "    }\n",
    "}"
   ]
  },
  {
   "cell_type": "code",
   "execution_count": 11,
   "id": "1b3b1eb8",
   "metadata": {},
   "outputs": [],
   "source": [
    "!solc-windows.exe --optimize --combined-json abi,bin src/EventTest.sol > src/EventTest.json"
   ]
  },
  {
   "cell_type": "markdown",
   "id": "95fe1b62",
   "metadata": {},
   "source": [
    "!solc-windows.exe --optimize --combined-json abi,bin src/EventTest.sol > src/EventTest.json 은 0.8.0의 exe이름을 solc-windows.exe로 하였을때의 경우"
   ]
  },
  {
   "cell_type": "code",
   "execution_count": 143,
   "id": "539f45e7",
   "metadata": {},
   "outputs": [
    {
     "name": "stdout",
     "output_type": "stream",
     "text": [
      "Overwriting src/EventTestDeployFromFile.js\n"
     ]
    }
   ],
   "source": [
    "%%writefile src/EventTestDeployFromFile.js\n",
    "var Web3 = require('web3');\n",
    "var _abiBinJson = require('./EventTest.json');      //importing a javascript file\n",
    "\n",
    "var web3 = new Web3(new Web3.providers.HttpProvider(\"http://localhost:8345\"));\n",
    "\n",
    "contractName=Object.keys(_abiBinJson.contracts); // reading ['src/EventTest.sol:EventTest']\n",
    "console.log(\"- contract name: \", contractName);\n",
    "_abi=_abiBinJson.contracts[contractName].abi;\n",
    "_abiArray=JSON.parse(JSON.stringify(_abi));\n",
    "//_abiArray=JSON.parse(_abi);      //JSON parsing needed!! //SyntaxError: Unexpected token o in JSON at position 1\n",
    "_bin=_abiBinJson.contracts[contractName].bin;\n",
    "\n",
    "console.log(\"- ABI: \" + JSON.stringify(_abi));\n",
    "console.log(\"- Bytecode: \" + _bin);\n",
    "\n",
    "async function deploy() {\n",
    "    const accounts = await web3.eth.getAccounts();\n",
    "    console.log(\"Deploying the contract from \" + accounts[0]);\n",
    "    var deployed = await new web3.eth.Contract(_abiArray)\n",
    "        .deploy({data: \"0x\"+_bin})\n",
    "        .send({from: accounts[0], gas: 259210}, function(err, transactionHash) {\n",
    "                if(!err) console.log(\"hash: \" + transactionHash); \n",
    "        })\n",
    "        //.then(function(newContractInstance){\n",
    "        //    console.log(newContractInstance)\n",
    "        //});\n",
    "    console.log(\"---> The contract deployed to: \" + deployed.options.address)\n",
    "}\n",
    "deploy()"
   ]
  },
  {
   "cell_type": "code",
   "execution_count": 144,
   "id": "914e53fb",
   "metadata": {
    "scrolled": false
   },
   "outputs": [
    {
     "name": "stdout",
     "output_type": "stream",
     "text": [
      "- contract name:  [ 'src/EventTest.sol:EventTest' ]\n",
      "- ABI: [{\"anonymous\":false,\"inputs\":[{\"indexed\":false,\"internalType\":\"string\",\"name\":\"my\",\"type\":\"string\"}],\"name\":\"MyLog\",\"type\":\"event\"},{\"inputs\":[],\"name\":\"myFunction\",\"outputs\":[],\"stateMutability\":\"nonpayable\",\"type\":\"function\"}]\n",
      "- Bytecode: 6080604052348015600f57600080fd5b5060c68061001e6000396000f3fe6080604052348015600f57600080fd5b506004361060285760003560e01c8063c3780a3a14602d575b600080fd5b60336035565b005b7f5186edd9beca61d795526ca1f274260b3fc74be3e10e1f02e1be1552e14f1373604051606090606a565b60405180910390a1565b6020808252600c908201526b48656c6c6f20576f726c642160a01b60408201526060019056fea2646970667358221220dfbd40787b99f786bcf3d200eba556a0b7bf3364be90dae7e4aca9c614c9583964736f6c63430008000033\n",
      "Deploying the contract from 0xB52ed7C04e5F6E1aD9f381b3e8CC6Eb1D867e6fD\n",
      "hash: 0x59c03517cc3759b1ced635637a360952e1d15276a2f76bdf047b397571fba076\n",
      "---> The contract deployed to: 0xC7C680Df4AAe44430B85bda2B3509315CF3E46AE\n"
     ]
    }
   ],
   "source": [
    "!node src/EventTestDeployFromFile.js"
   ]
  },
  {
   "cell_type": "code",
   "execution_count": 145,
   "id": "5eaaafcf",
   "metadata": {},
   "outputs": [
    {
     "name": "stdout",
     "output_type": "stream",
     "text": [
      "Overwriting src/EventTestHttpNoEventFiredUse.js\n"
     ]
    }
   ],
   "source": [
    "%%writefile src/EventTestHttpNoEventFiredUse.js\n",
    "var Web3=require('web3');\n",
    "var _abiBinJson = require('./EventTest.json');      //importing a javascript file\n",
    "\n",
    "var web3 = new Web3(new Web3.providers.HttpProvider(\"http://localhost:8345\"));\n",
    "contractName=Object.keys(_abiBinJson.contracts); // reading ['src/EventTest.sol:EventTest']\n",
    "//console.log(\"- contract name: \", contractName); //or console.log(contractName[0]);\n",
    "_abiArray=_abiBinJson.contracts[contractName].abi; //use just as read from file\n",
    "//_abiArray=JSON.parse(JSON.stringify(_abi));\n",
    "//_abiArray=JSON.parse(_abi);      //JSON parsing needed!!\n",
    "//_bin=_abiBinJson.contracts[contractName].bin;\n",
    "console.log(\"- ABI: \" + _abiArray);\n",
    "//console.log(\"- Bytecode: \" + _bin);\n",
    "var _test = new web3.eth.Contract(_abiArray,\"0xC7C680Df4AAe44430B85bda2B3509315CF3E46AE\");\n",
    "var event = _test.events.MyLog({fromBlock: 0}, function (error, result) {\n",
    "    if (!error) {\n",
    "        console.log(\"Event fired: \" + JSON.stringify(result.returnValues));\n",
    "    }\n",
    "});\n",
    "\n",
    "async function doIt() {\n",
    "    const accounts = await web3.eth.getAccounts();\n",
    "    console.log(\"Account: \" + accounts[0]);\n",
    "    const balanceBefore = await web3.eth.getBalance(accounts[0]);\n",
    "    console.log(\"Balance before: \" + balanceBefore);\n",
    "    const value = await _test.methods.myFunction()\n",
    "        .send({from: accounts[0], gas: 364124, gasPrice: '1000000000'})\n",
    "        //.then(function(value) {console.log(\"---> myFunction called \" + JSON.stringify(value.events.MyLog.returnValues));});\n",
    "    console.log(\"---> myFunction called \" + JSON.stringify(value.events.MyLog.returnValues));\n",
    "    const balanceAfter = await web3.eth.getBalance(accounts[0]);\n",
    "    console.log(\"Balance after: \" + balanceAfter);\n",
    "    console.log(\"Balance diff: \" + (balanceBefore - balanceAfter));\n",
    "}\n",
    "doIt()"
   ]
  },
  {
   "cell_type": "code",
   "execution_count": 146,
   "id": "d9872501",
   "metadata": {},
   "outputs": [
    {
     "name": "stdout",
     "output_type": "stream",
     "text": [
      "- ABI: [object Object],[object Object]\n",
      "Account: 0xB52ed7C04e5F6E1aD9f381b3e8CC6Eb1D867e6fD\n",
      "Balance before: 999996230379000000000\n",
      "---> myFunction called {\"0\":\"Hello World!\",\"my\":\"Hello World!\"}\n",
      "Balance after: 999996207552000000000\n",
      "Balance diff: 22827000004608\n"
     ]
    }
   ],
   "source": [
    "!node src/EventTestHttpNoEventFiredUse.js"
   ]
  },
  {
   "cell_type": "code",
   "execution_count": 159,
   "id": "5124ba86",
   "metadata": {},
   "outputs": [
    {
     "name": "stdout",
     "output_type": "stream",
     "text": [
      "Overwriting src/EventTestWsUse.js\n"
     ]
    }
   ],
   "source": [
    "%%writefile src/EventTestWsUse.js\n",
    "var Web3=require('web3');\n",
    "var fs = require('fs');\n",
    "var _abiBinJson = require('./EventTest.json');      //importing a javascript file\n",
    "\n",
    "//var web3 = new Web3(new Web3.providers.HttpProvider(\"http://localhost:8345\"));\n",
    "//var web3 = new Web3(new Web3.providers.WebsocketProvider(\"http://localhost:8345\"));\n",
    "var web3 = new Web3(new Web3.providers.WebsocketProvider(\"ws://localhost:8345\"));\n",
    "contractName=Object.keys(_abiBinJson.contracts); // reading ['src/EventTest.sol:EventTest']\n",
    "//console.log(\"- contract name: \", contractName); //or console.log(contractName[0]);\n",
    "_abiArray=_abiBinJson.contracts[contractName].abi; //use just as read from file\n",
    "//_abiArray=JSON.parse(JSON.stringify(_abi));\n",
    "//_abiArray=JSON.parse(_abi);      //JSON parsing needed!!\n",
    "//_bin=_abiBinJson.contracts[contractName].bin;\n",
    "console.log(\"- ABI: \" + _abiArray);\n",
    "//console.log(\"- Bytecode: \" + _bin);\n",
    "//var _test = new web3.eth.Contract(_abiArray,\"0xC7C680Df4AAe44430B85bda2B3509315CF3E46AE\");\n",
    "//var event = _test.events.MyLog({fromBlock: 0}, function (error, result) {\n",
    "//    if (!error) {\n",
    "//        console.log(\"Event fired: \" + JSON.stringify(result.returnValues));\n",
    "//    }\n",
    "//});\n",
    "\n",
    "async function doIt() {\n",
    "    var _test = new web3.eth.Contract(_abiArray, '0xC7C680Df4AAe44430B85bda2B3509315CF3E46AE');\n",
    "    var event = _test.events.MyLog({fromBlock: 0}, function (error, result) {\n",
    "        if (!error) {\n",
    "            log = JSON.stringify(result.returnValues);\n",
    "            console.log(\"Event fired: \" + log);\n",
    "            //fs.writeFile(\"src/EventTestLog.txt\", log, \"utf-8\", function(e) {\n",
    "            fs.appendFile(\"src/EventTestLog.txt\", log, \"utf-8\", function(e) {\n",
    "                if(!e) {\n",
    "                    console.log(\">> Writing to file\");\n",
    "                }\n",
    "            });\n",
    "        }\n",
    "    });\n",
    "    const accounts = await web3.eth.getAccounts();\n",
    "    console.log(\"Account: \" + accounts[0]);\n",
    "    const balanceBefore = await web3.eth.getBalance(accounts[0]);\n",
    "    console.log(\"Balance before: \" + balanceBefore);\n",
    "    const value = await _test.methods.myFunction()\n",
    "        .send({from: accounts[0], gas: 364124, gasPrice: '1000000000'})\n",
    "        //.then(function(value) {console.log(\"---> myFunction called \" + JSON.stringify(value.events.MyLog.returnValues));});\n",
    "    console.log(\"---> myFunction called \" + JSON.stringify(value.events.MyLog.returnValues));\n",
    "    const balanceAfter = await web3.eth.getBalance(accounts[0]);\n",
    "    console.log(\"Balance after: \" + balanceAfter);\n",
    "    console.log(\"Balance diff: \" + (balanceBefore - balanceAfter));\n",
    "    process.exit(1); //force exit to disconnect websocket\n",
    "}\n",
    "\n",
    "doIt()"
   ]
  },
  {
   "cell_type": "code",
   "execution_count": 160,
   "id": "16cb9bd1",
   "metadata": {},
   "outputs": [
    {
     "name": "stdout",
     "output_type": "stream",
     "text": [
      "- ABI: [object Object],[object Object]\n",
      "Event fired: {\"0\":\"Hello World!\",\"my\":\"Hello World!\"}\n",
      "Account: 0xB52ed7C04e5F6E1aD9f381b3e8CC6Eb1D867e6fD\n",
      ">> Writing to file\n",
      "Balance before: 999996116244000000000\n",
      "Event fired: {\"0\":\"Hello World!\",\"my\":\"Hello World!\"}\n",
      ">> Writing to file\n",
      "---> myFunction called {\"0\":\"Hello World!\",\"my\":\"Hello World!\"}\n",
      "Balance after: 999996093417000000000\n",
      "Balance diff: 22827000004608\n"
     ]
    }
   ],
   "source": [
    "!node src/EventTestWsUse.js"
   ]
  },
  {
   "cell_type": "markdown",
   "id": "fe256ef3",
   "metadata": {},
   "source": [
    "# solc 두가지 버전도 사용가능 solc.exe (0.4.25), solc-windows.exe (0.8.0)"
   ]
  },
  {
   "cell_type": "markdown",
   "id": "592f22cc",
   "metadata": {},
   "source": [
    "# fallback"
   ]
  },
  {
   "cell_type": "code",
   "execution_count": 161,
   "id": "9f9be235",
   "metadata": {},
   "outputs": [
    {
     "name": "stdout",
     "output_type": "stream",
     "text": [
      "Writing src/FallbackTest.sol\n"
     ]
    }
   ],
   "source": [
    "%%writefile src/FallbackTest.sol\n",
    "//SPDX-License-Identifier: GPL-3.0-or-later\n",
    "pragma solidity ^0.8.0;\n",
    "\n",
    "contract FallbackTest {\n",
    "    event PrintLog(string);\n",
    "    function callA () pure public returns(string memory){\n",
    "        return \"doing callA\";\n",
    "    }\n",
    "    fallback () external {\n",
    "        emit PrintLog(\"fallback called\");\n",
    "    }\n",
    "}"
   ]
  },
  {
   "cell_type": "code",
   "execution_count": 200,
   "id": "6514367a",
   "metadata": {},
   "outputs": [],
   "source": [
    "!solc --optimize --combined-json abi,bin src/FallbackTest.sol > src/FallbackTest.json"
   ]
  },
  {
   "cell_type": "code",
   "execution_count": 201,
   "id": "21d2a28d",
   "metadata": {},
   "outputs": [
    {
     "name": "stdout",
     "output_type": "stream",
     "text": [
      "Overwriting src/FallbackTestDeployFromFile.js\n"
     ]
    }
   ],
   "source": [
    "%%writefile src/FallbackTestDeployFromFile.js\n",
    "var Web3 = require('web3');\n",
    "var _abiBinJson = require('./FallbackTest.json');      //importing a javascript file\n",
    "//var fs=require('fs');\n",
    "//var _str = fs.readFileSync(\"src/FallbackTest.json\");\n",
    "//var _json=JSON.parse(_str)\n",
    "\n",
    "var web3 = new Web3(new Web3.providers.HttpProvider(\"http://localhost:8345\"));\n",
    "\n",
    "contractName=Object.keys(_abiBinJson.contracts); // reading ['src/FallbackTest.sol:FallbackTest']\n",
    "console.log(\"- contract name: \", contractName);\n",
    "_abiArray=_abiBinJson.contracts[contractName].abi;\n",
    "//_abiArray=JSON.parse(JSON.stringify(_abi));\n",
    "//_abiArray=JSON.parse(_abi);      //JSON parsing needed!! //SyntaxError: Unexpected token o in JSON at position 1\n",
    "_bin=_abiBinJson.contracts[contractName].bin;\n",
    "\n",
    "//console.log(\"- ABI: \" + _abiArray);\n",
    "//console.log(\"- Bytecode: \" + _bin);\n",
    "\n",
    "async function deploy() {\n",
    "    const accounts = await web3.eth.getAccounts();\n",
    "    console.log(\"Deploying the contract from \" + accounts[0]);\n",
    "    var deployed = await new web3.eth.Contract(_abiArray)\n",
    "        .deploy({data: \"0x\"+_bin})\n",
    "        .send({from: accounts[0], gas: 1000000}, function(err, transactionHash) {\n",
    "                if(!err) console.log(\"hash: \" + transactionHash); \n",
    "        })\n",
    "        //.then(function(newContractInstance){\n",
    "        //    console.log(newContractInstance)\n",
    "        //});\n",
    "    console.log(\"---> The contract deployed to: \" + deployed.options.address)\n",
    "}\n",
    "deploy()"
   ]
  },
  {
   "cell_type": "code",
   "execution_count": 202,
   "id": "f13ecf8e",
   "metadata": {},
   "outputs": [
    {
     "name": "stdout",
     "output_type": "stream",
     "text": [
      "- contract name:  [ 'src/FallbackTest.sol:FallbackTest' ]\n",
      "Deploying the contract from 0xB52ed7C04e5F6E1aD9f381b3e8CC6Eb1D867e6fD\n",
      "hash: 0x2ae6b8b6cb414eaf7b39f028286fde7916b9323c8a8af5c702152e62a7a852b3\n",
      "---> The contract deployed to: 0x64A4Abe0A1F7ba61d4a9EC6191b651c4848ccb58\n"
     ]
    }
   ],
   "source": [
    "!node src/FallbackTestDeployFromFile.js"
   ]
  },
  {
   "cell_type": "code",
   "execution_count": 224,
   "id": "08ae5dc4",
   "metadata": {},
   "outputs": [
    {
     "name": "stdout",
     "output_type": "stream",
     "text": [
      "Overwriting src/FallbackTestUseFromFile.js\n"
     ]
    }
   ],
   "source": [
    "%%writefile src/FallbackTestUseFromFile.js\n",
    "var Web3=require('web3');\n",
    "var _abiBinJson = require('./FallbackTest.json');      //importing a javascript file\n",
    "\n",
    "//var web3 = new Web3(new Web3.providers.HttpProvider(\"http://localhost:8345\"));\n",
    "var web3 = new Web3(new Web3.providers.WebsocketProvider(\"ws://localhost:8345\"));\n",
    "contractName=Object.keys(_abiBinJson.contracts); // reading ['src/FallbackTest.sol:FallbackTest']\n",
    "console.log(\"- contract name: \", contractName); //or console.log(contractName[0]);\n",
    "_abiArray=_abiBinJson.contracts[contractName].abi; //use just as read from file\n",
    "//_abiArray=JSON.parse(JSON.stringify(_abi));\n",
    "//_abiArray=JSON.parse(_abi);      //JSON parsing needed!!\n",
    "//_bin=_abiBinJson.contracts[contractName].bin;\n",
    "console.log(\"- ABI: \" + _abiArray);\n",
    "//console.log(\"- Bytecode: \" + _bin);\n",
    "//The above ABI from file does not work. So ABI was copied and pasted as below -> It worked!\n",
    "_abiArray=[{\"anonymous\":false,\"inputs\":[{\"indexed\":false,\"internalType\":\"string\",\"name\":\"\",\"type\":\"string\"}],\"name\":\"PrintLog\",\"type\":\"event\"},{\"stateMutability\":\"nonpayable\",\"type\":\"fallback\"},{\"inputs\":[],\"name\":\"callA\",\"outputs\":[{\"internalType\":\"string\",\"name\":\"\",\"type\":\"string\"}],\"stateMutability\":\"pure\",\"type\":\"function\"}];\n",
    "async function doIt() {\n",
    "    const accounts = await web3.eth.getAccounts();\n",
    "    console.log(\"Account: \" + accounts[0]);\n",
    "    const balanceBefore = await web3.eth.getBalance(accounts[0]);\n",
    "    console.log(\"Balance before: \" + balanceBefore);\n",
    "    var _instance = new web3.eth.Contract(_abiArray, \"0x64A4Abe0A1F7ba61d4a9EC6191b651c4848ccb58\");\n",
    "    var event = _instance.events.PrintLog({fromBlock: 0}, function (error, result) {\n",
    "        if (!error) {\n",
    "            console.log(\"Event fired: \" + JSON.stringify(result) + \"\\n---> \" + JSON.stringify(result.returnValues));\n",
    "        }\n",
    "    });\n",
    "\n",
    "    _instance.methods.callA().call().then(function(res) { console.log(res); });  //null\n",
    "    //call without calling any method\n",
    "    //await _instance.methods.callB().send({from:accounts[0], to: \"0x3991e87b71cBFf94aA0718F341d8Ad4bCF969f36\"}); //fail\n",
    "    //await _instance.methods.callA().send({from:accounts[0], data:\"0x1234\"});  //empty calldata to call fallback -> fail\n",
    "    web3.eth.sendTransaction({from:accounts[0], to:\"0x64A4Abe0A1F7ba61d4a9EC6191b651c4848ccb58\"}); //fallback called\n",
    "    const balanceAfter = await web3.eth.getBalance(accounts[0]);\n",
    "    console.log(\"Balance after: \" + balanceAfter);\n",
    "    console.log(\"Balance diff: \" + (balanceBefore - balanceAfter));\n",
    "    process.exit(1); //force exit\n",
    "}\n",
    "doIt()"
   ]
  },
  {
   "cell_type": "code",
   "execution_count": 226,
   "id": "962ce5cd",
   "metadata": {},
   "outputs": [
    {
     "name": "stdout",
     "output_type": "stream",
     "text": [
      "- contract name:  [ 'src/FallbackTest.sol:FallbackTest' ]\n",
      "- ABI: [object Object],[object Object],[object Object]\n",
      "Account: 0xB52ed7C04e5F6E1aD9f381b3e8CC6Eb1D867e6fD\n",
      "Balance before: 999994322995000000000\n",
      "Event fired: {\"address\":\"0x64A4Abe0A1F7ba61d4a9EC6191b651c4848ccb58\",\"blockHash\":\"0xcfdf05a5d89c961d37911c8a4f93fda976f0629422573cf589a35b91361bcc20\",\"blockNumber\":38,\"logIndex\":0,\"removed\":false,\"transactionHash\":\"0x66196e597ace3590ac41351af2486d013c26e0de5dce01ce7b530283f787fce5\",\"transactionIndex\":0,\"id\":\"log_b51f1197\",\"returnValues\":{\"0\":\"fallback called\"},\"event\":\"PrintLog\",\"signature\":\"0x968f0302429ff0e5bd56a45ce3ba1f4fa79f4b822857e438616435f00c3b59fd\",\"raw\":{\"data\":\"0x0000000000000000000000000000000000000000000000000000000000000020000000000000000000000000000000000000000000000000000000000000000f66616c6c6261636b2063616c6c65640000000000000000000000000000000000\",\"topics\":[\"0x968f0302429ff0e5bd56a45ce3ba1f4fa79f4b822857e438616435f00c3b59fd\"]}}\n",
      "---> {\"0\":\"fallback called\"}\n",
      "Event fired: {\"address\":\"0x64A4Abe0A1F7ba61d4a9EC6191b651c4848ccb58\",\"blockHash\":\"0x3e27b076bfd53e100d8655ebe030e29be8f2ab5a57cd9937338e0b85ef881acc\",\"blockNumber\":39,\"logIndex\":0,\"removed\":false,\"transactionHash\":\"0xb0f48686e97832e431fb0659570d2c30226880749bcc15a1d515ba82d445073a\",\"transactionIndex\":0,\"id\":\"log_de4f25d7\",\"returnValues\":{\"0\":\"fallback called\"},\"event\":\"PrintLog\",\"signature\":\"0x968f0302429ff0e5bd56a45ce3ba1f4fa79f4b822857e438616435f00c3b59fd\",\"raw\":{\"data\":\"0x0000000000000000000000000000000000000000000000000000000000000020000000000000000000000000000000000000000000000000000000000000000f66616c6c6261636b2063616c6c65640000000000000000000000000000000000\",\"topics\":[\"0x968f0302429ff0e5bd56a45ce3ba1f4fa79f4b822857e438616435f00c3b59fd\"]}}\n",
      "---> {\"0\":\"fallback called\"}\n",
      "Event fired: {\"address\":\"0x64A4Abe0A1F7ba61d4a9EC6191b651c4848ccb58\",\"blockHash\":\"0xec4fc33ea6b852891ca548926cc4821e3f4c3adb6ad917bd777eaea784ae7384\",\"blockNumber\":40,\"logIndex\":0,\"removed\":false,\"transactionHash\":\"0xe8598bba9d2db7f031915b96b5e9bb3b84582bc8d4b88b4d4fefd7ea8cd9d91e\",\"transactionIndex\":0,\"id\":\"log_309341c9\",\"returnValues\":{\"0\":\"fallback called\"},\"event\":\"PrintLog\",\"signature\":\"0x968f0302429ff0e5bd56a45ce3ba1f4fa79f4b822857e438616435f00c3b59fd\",\"raw\":{\"data\":\"0x0000000000000000000000000000000000000000000000000000000000000020000000000000000000000000000000000000000000000000000000000000000f66616c6c6261636b2063616c6c65640000000000000000000000000000000000\",\"topics\":[\"0x968f0302429ff0e5bd56a45ce3ba1f4fa79f4b822857e438616435f00c3b59fd\"]}}\n",
      "---> {\"0\":\"fallback called\"}\n",
      "Event fired: {\"address\":\"0x64A4Abe0A1F7ba61d4a9EC6191b651c4848ccb58\",\"blockHash\":\"0x73e65b03a07df660a9c6bda421e46fe99c5844e273d3d867948adddaf3797c43\",\"blockNumber\":41,\"logIndex\":0,\"removed\":false,\"transactionHash\":\"0x4666f268c3195df92b9131508d24af4ee325e56d035d0abdb859ec1bd84a00db\",\"transactionIndex\":0,\"id\":\"log_d276cda4\",\"returnValues\":{\"0\":\"fallback called\"},\"event\":\"PrintLog\",\"signature\":\"0x968f0302429ff0e5bd56a45ce3ba1f4fa79f4b822857e438616435f00c3b59fd\",\"raw\":{\"data\":\"0x0000000000000000000000000000000000000000000000000000000000000020000000000000000000000000000000000000000000000000000000000000000f66616c6c6261636b2063616c6c65640000000000000000000000000000000000\",\"topics\":[\"0x968f0302429ff0e5bd56a45ce3ba1f4fa79f4b822857e438616435f00c3b59fd\"]}}\n",
      "---> {\"0\":\"fallback called\"}\n",
      "Event fired: {\"address\":\"0x64A4Abe0A1F7ba61d4a9EC6191b651c4848ccb58\",\"blockHash\":\"0x5b871ccae4beb3d38da72473cecab05480124ea781c4cbbdd009a0b31ba1f913\",\"blockNumber\":42,\"logIndex\":0,\"removed\":false,\"transactionHash\":\"0xc8a316309c2857b6ea4d1e341cec4b3940e99caaf53594283e4b87f423e8ea3f\",\"transactionIndex\":0,\"id\":\"log_7c990346\",\"returnValues\":{\"0\":\"fallback called\"},\"event\":\"PrintLog\",\"signature\":\"0x968f0302429ff0e5bd56a45ce3ba1f4fa79f4b822857e438616435f00c3b59fd\",\"raw\":{\"data\":\"0x0000000000000000000000000000000000000000000000000000000000000020000000000000000000000000000000000000000000000000000000000000000f66616c6c6261636b2063616c6c65640000000000000000000000000000000000\",\"topics\":[\"0x968f0302429ff0e5bd56a45ce3ba1f4fa79f4b822857e438616435f00c3b59fd\"]}}\n",
      "---> {\"0\":\"fallback called\"}\n",
      "Event fired: {\"address\":\"0x64A4Abe0A1F7ba61d4a9EC6191b651c4848ccb58\",\"blockHash\":\"0xb263fe3f2c958297b55e833739506124076eed268067301c74ab0aafd696a511\",\"blockNumber\":43,\"logIndex\":0,\"removed\":false,\"transactionHash\":\"0xac7596c76e669da7d1aee13a2f4e75f04254c3f68daa68040622f8acb03c19c5\",\"transactionIndex\":0,\"id\":\"log_429f96a4\",\"returnValues\":{\"0\":\"fallback called\"},\"event\":\"PrintLog\",\"signature\":\"0x968f0302429ff0e5bd56a45ce3ba1f4fa79f4b822857e438616435f00c3b59fd\",\"raw\":{\"data\":\"0x0000000000000000000000000000000000000000000000000000000000000020000000000000000000000000000000000000000000000000000000000000000f66616c6c6261636b2063616c6c65640000000000000000000000000000000000\",\"topics\":[\"0x968f0302429ff0e5bd56a45ce3ba1f4fa79f4b822857e438616435f00c3b59fd\"]}}\n",
      "---> {\"0\":\"fallback called\"}\n",
      "Event fired: {\"address\":\"0x64A4Abe0A1F7ba61d4a9EC6191b651c4848ccb58\",\"blockHash\":\"0xd0ca0f742068a740458de22291b337af834777228672441d14ae27a30ce0fa96\",\"blockNumber\":44,\"logIndex\":0,\"removed\":false,\"transactionHash\":\"0xa3ae592d471a919fd626468bce3ff39346076d897967e99f3eef3465130e9883\",\"transactionIndex\":0,\"id\":\"log_92c7c3f8\",\"returnValues\":{\"0\":\"fallback called\"},\"event\":\"PrintLog\",\"signature\":\"0x968f0302429ff0e5bd56a45ce3ba1f4fa79f4b822857e438616435f00c3b59fd\",\"raw\":{\"data\":\"0x0000000000000000000000000000000000000000000000000000000000000020000000000000000000000000000000000000000000000000000000000000000f66616c6c6261636b2063616c6c65640000000000000000000000000000000000\",\"topics\":[\"0x968f0302429ff0e5bd56a45ce3ba1f4fa79f4b822857e438616435f00c3b59fd\"]}}\n",
      "---> {\"0\":\"fallback called\"}\n",
      "Event fired: {\"address\":\"0x64A4Abe0A1F7ba61d4a9EC6191b651c4848ccb58\",\"blockHash\":\"0x46d959bf9d808209baa9364651193d80deda245335a5f7e9436099b3504f988f\",\"blockNumber\":45,\"logIndex\":0,\"removed\":false,\"transactionHash\":\"0x53c0b3c65b7aaebf52ea7cdfb2f6788157163563b28254ebe46f16637ae07759\",\"transactionIndex\":0,\"id\":\"log_23b98852\",\"returnValues\":{\"0\":\"fallback called\"},\"event\":\"PrintLog\",\"signature\":\"0x968f0302429ff0e5bd56a45ce3ba1f4fa79f4b822857e438616435f00c3b59fd\",\"raw\":{\"data\":\"0x0000000000000000000000000000000000000000000000000000000000000020000000000000000000000000000000000000000000000000000000000000000f66616c6c6261636b2063616c6c65640000000000000000000000000000000000\",\"topics\":[\"0x968f0302429ff0e5bd56a45ce3ba1f4fa79f4b822857e438616435f00c3b59fd\"]}}\n",
      "---> {\"0\":\"fallback called\"}\n",
      "Event fired: {\"address\":\"0x64A4Abe0A1F7ba61d4a9EC6191b651c4848ccb58\",\"blockHash\":\"0x295d79604f4478f71bdbc4a802bfaf8377848466045745d3d2cb4d87842c2d09\",\"blockNumber\":46,\"logIndex\":0,\"removed\":false,\"transactionHash\":\"0xb3eccc48ddf883890edc16567da5c5bd5cfedd96270978f27ee7d3fd6edf4ef1\",\"transactionIndex\":0,\"id\":\"log_9d935d85\",\"returnValues\":{\"0\":\"fallback called\"},\"event\":\"PrintLog\",\"signature\":\"0x968f0302429ff0e5bd56a45ce3ba1f4fa79f4b822857e438616435f00c3b59fd\",\"raw\":{\"data\":\"0x0000000000000000000000000000000000000000000000000000000000000020000000000000000000000000000000000000000000000000000000000000000f66616c6c6261636b2063616c6c65640000000000000000000000000000000000\",\"topics\":[\"0x968f0302429ff0e5bd56a45ce3ba1f4fa79f4b822857e438616435f00c3b59fd\"]}}\n",
      "---> {\"0\":\"fallback called\"}\n",
      "Event fired: {\"address\":\"0x64A4Abe0A1F7ba61d4a9EC6191b651c4848ccb58\",\"blockHash\":\"0xb6f3c67dd0d77517d00fc5f74fc3a3c7a5ce764a2103a17b71e993fd19457fdd\",\"blockNumber\":47,\"logIndex\":0,\"removed\":false,\"transactionHash\":\"0x575933e4b9cee006cf6f602bebe6727248e4a635b617a80191fc89fcdf15c50d\",\"transactionIndex\":0,\"id\":\"log_4d5836f2\",\"returnValues\":{\"0\":\"fallback called\"},\"event\":\"PrintLog\",\"signature\":\"0x968f0302429ff0e5bd56a45ce3ba1f4fa79f4b822857e438616435f00c3b59fd\",\"raw\":{\"data\":\"0x0000000000000000000000000000000000000000000000000000000000000020000000000000000000000000000000000000000000000000000000000000000f66616c6c6261636b2063616c6c65640000000000000000000000000000000000\",\"topics\":[\"0x968f0302429ff0e5bd56a45ce3ba1f4fa79f4b822857e438616435f00c3b59fd\"]}}\n",
      "---> {\"0\":\"fallback called\"}\n",
      "Balance after: 999994322995000000000\n",
      "Balance diff: 0\n"
     ]
    }
   ],
   "source": [
    "!node src/FallbackTestUseFromFile.js"
   ]
  },
  {
   "cell_type": "markdown",
   "id": "40718c3a",
   "metadata": {},
   "source": [
    "# 반복문\n",
    "## LoopTest sum을 local(Memory)에 두는 경우와 state variable(Storage)에 두는 경우 비교"
   ]
  },
  {
   "cell_type": "code",
   "execution_count": 227,
   "id": "f211eb83",
   "metadata": {},
   "outputs": [
    {
     "name": "stdout",
     "output_type": "stream",
     "text": [
      "Writing src/LoopTest.sol\n"
     ]
    }
   ],
   "source": [
    "%%writefile src/LoopTest.sol\n",
    "//SPDX-License-Identifier: GPL-3.0-or-later\n",
    "pragma solidity ^0.8.0;\n",
    "\n",
    "contract LoopTest {\n",
    "    uint sum;\n",
    "    constructor() { //constructor() public {\n",
    "        init();\n",
    "    }\n",
    "    function forLoop() public {\n",
    "        //init();\n",
    "        uint sumLocal = 0;\n",
    "        for(uint i = 0; i < 101; i++) {\n",
    "            sumLocal += i;\n",
    "        }\n",
    "        sum = sumLocal;\n",
    "    }\n",
    "    function forLoopCostly() public {\n",
    "        init();\n",
    "        //uint sumLocal = 0;\n",
    "        for(uint i = 0; i < 101; i++) {\n",
    "            //sumLocal += i;\n",
    "            sum += i;\n",
    "        }\n",
    "        //sum = sumLocal;\n",
    "    }\n",
    "    function whileLoop() public {\n",
    "        uint i = 0;\n",
    "        uint sumLocal = 0;\n",
    "        while(i <= 100) {\n",
    "            sumLocal += i;\n",
    "            i++;\n",
    "        }\n",
    "        sum = sumLocal;\n",
    "    }\n",
    "    function whileLoopBreak() public {\n",
    "        uint sumLocal = 0;\n",
    "        uint i = 0;\n",
    "        while(true) {\n",
    "            sumLocal += i;\n",
    "            if(i==100) break;\n",
    "            i++;\n",
    "        }\n",
    "        sum = sumLocal;\n",
    "    }   \n",
    "    function doWhileLoop() public {\n",
    "        uint i = 0;\n",
    "        uint sumLocal = 0;\n",
    "        do {\n",
    "            sumLocal += i;\n",
    "            i++;\n",
    "        } while(i <= 100);\n",
    "        sum = sumLocal;\n",
    "    }\n",
    "    function init() public { sum = 0; }\n",
    "    function getSum() view public returns(uint) { return sum; }\n",
    "}"
   ]
  },
  {
   "cell_type": "markdown",
   "id": "43a7076f",
   "metadata": {},
   "source": [
    "리믹스에서 실행시\n",
    "1. forloop는 local에서 업데이트  --> 94192, forloopcostly는 state variable --> 99911\n",
    "2. while의 경우 break가 있는것이 더 많음"
   ]
  },
  {
   "cell_type": "markdown",
   "id": "4a7b11bd",
   "metadata": {},
   "source": [
    "# 조건문"
   ]
  },
  {
   "cell_type": "code",
   "execution_count": 228,
   "id": "541a22e8",
   "metadata": {},
   "outputs": [
    {
     "name": "stdout",
     "output_type": "stream",
     "text": [
      "Writing src/ConditionalTest.sol\n"
     ]
    }
   ],
   "source": [
    "%%writefile src/ConditionalTest.sol\n",
    "//SPDX-License-Identifier: GPL-3.0-or-later\n",
    "pragma solidity ^0.8.0;\n",
    "\n",
    "contract ConditionalTest {\n",
    "    function toLowerCase(string memory str) pure public returns (string memory) {\n",
    "        bytes memory bIn = bytes(str); //str은 자동으로 memory에 들어가기때문에 bIn의 자료형은 bytes memory\n",
    "        bytes memory bOut = new bytes(bIn.length);\n",
    "        uint8 _iIn = 0;\n",
    "        for (uint i = 0; i < bIn.length; i++) {\n",
    "            _iIn = uint8(bIn[i]);\n",
    "            if (_iIn >= 65 && _iIn <= 90)    // ascii A:65 ~ Z:90                \n",
    "                bOut[i] = bytes1(_iIn + 32); // ascii a:97 ~ z:122\n",
    "            else \n",
    "                bOut[i] = bIn[i];\n",
    "        }\n",
    "        return string(bOut);\n",
    "    }\n",
    "    function abs(int i) pure public returns (int) {\n",
    "        return (i > 0) ? i : -i;\n",
    "    }\n",
    "}"
   ]
  },
  {
   "cell_type": "markdown",
   "id": "f1edcff0",
   "metadata": {},
   "source": [
    "# Hello1"
   ]
  },
  {
   "cell_type": "code",
   "execution_count": 229,
   "id": "886e203c",
   "metadata": {},
   "outputs": [
    {
     "name": "stdout",
     "output_type": "stream",
     "text": [
      "Writing src/Hello1.sol\n"
     ]
    }
   ],
   "source": [
    "%%writefile src/Hello1.sol\n",
    "//SPDX-License-Identifier: GPL-3.0-or-later\n",
    "pragma solidity ^0.8.0;\n",
    "\n",
    "contract Hello1 {\n",
    "    string private hello;\n",
    "    address private owner;\n",
    "    event PrintLog(address addr, string s);\n",
    "\n",
    "    constructor(string memory _hello) { //constructor(string memory _hello) public {\n",
    "        hello = _hello;\n",
    "        owner = msg.sender;\n",
    "    }\n",
    "    function sayHello() view public returns(string memory) {\n",
    "        return hello;\n",
    "    }\n",
    "    modifier isOwner() {\n",
    "        if (msg.sender != owner) {\n",
    "            revert();\n",
    "        }\n",
    "        _; //insert here the calling function\n",
    "    }\n",
    "    function setHello() public {\n",
    "        string memory s = \"\";\n",
    "        if (msg.sender == owner) {\n",
    "            s = \"Hello\";\n",
    "        } else {\n",
    "            s = \"Olleh\";\n",
    "        }\n",
    "        emit PrintLog(msg.sender, s);\n",
    "        hello = s;\n",
    "    }\n",
    "    function compareTo(string memory _str) view public returns(bool) {\n",
    "        bool isEqual = false;\n",
    "        //if (hello == _str) {\n",
    "        if (keccak256(bytes(hello)) == keccak256(bytes(_str))) {\n",
    "            isEqual = true;\n",
    "        }\n",
    "        return isEqual;\n",
    "    }\n",
    "    function getBalance() view public isOwner returns(uint) {\n",
    "        return address(this).balance;\n",
    "    }\n",
    "}"
   ]
  },
  {
   "cell_type": "markdown",
   "id": "fd3d87dc",
   "metadata": {},
   "source": [
    "## 랜덤함수 사용"
   ]
  },
  {
   "cell_type": "code",
   "execution_count": 3,
   "id": "f5831dd2",
   "metadata": {},
   "outputs": [
    {
     "name": "stdout",
     "output_type": "stream",
     "text": [
      "Overwriting src/Random.sol\n"
     ]
    }
   ],
   "source": [
    "%%writefile src/Random.sol\n",
    "//SPDX-License-Identifier: GPL-3.0-or-later\n",
    "pragma solidity ^0.8.0;\n",
    "\n",
    "contract Random {\n",
    "    function rand() public view returns(bytes32) {\n",
    "        //seed값을 설정\n",
    "        return keccak256(abi.encodePacked(block.timestamp, block.difficulty));\n",
    "    }\n",
    "    function rand0and250() public view returns(uint8) {\n",
    "        return uint8(uint256(keccak256(abi.encodePacked(block.timestamp, block.difficulty)))%251);\n",
    "    }\n",
    "    function rand0and9() public view returns(uint8) {\n",
    "        return uint8(uint256(keccak256(abi.encodePacked(block.timestamp, block.difficulty)))%10);\n",
    "    }\n",
    "    function rand0and2() public view returns(uint8) {\n",
    "        return uint8(uint256(keccak256(abi.encodePacked(block.timestamp, block.difficulty)))%3);\n",
    "    }\n",
    "    function genRandomInteger() view public returns(uint8[] memory) {\n",
    "        uint8[] memory r = new uint8[](10);\n",
    "        for(uint i = 0; i<r.length; i++)\n",
    "            //r[i] = uint8(uint256(keccak256(abi.encodePacked(block.timestamp, block.difficulty)))%10);\n",
    "            //change timestamp by adding i, otherwise all the same numbers generated\n",
    "            r[i] = uint8(uint256(keccak256(abi.encodePacked(block.timestamp + i, block.difficulty)))%10);\n",
    "            //seed를 임의로 바꿈으로써 항상 rand가 다르게 나오게끔 설정\n",
    "        return r;\n",
    "    }\n",
    "}"
   ]
  },
  {
   "cell_type": "markdown",
   "id": "94dbc349",
   "metadata": {},
   "source": [
    "# 고정배열, 동적배열 (storage, memory 차이)"
   ]
  },
  {
   "cell_type": "code",
   "execution_count": 4,
   "id": "e030bedf",
   "metadata": {},
   "outputs": [
    {
     "name": "stdout",
     "output_type": "stream",
     "text": [
      "Writing src/ArrayTest2.sol\n"
     ]
    }
   ],
   "source": [
    "%%writefile src/ArrayTest2.sol\n",
    "//SPDX-License-Identifier: GPL-3.0-or-later\n",
    "pragma solidity ^0.8.0;\n",
    "pragma experimental ABIEncoderV2;\n",
    "\n",
    "contract ArrayTest2 {\n",
    "    string[3] cities1=[\"Seoul\", \"Sydney\", \"Tokyo\"];\n",
    "    string[] cities2 = new string[](2);\n",
    "    string[] cities3;\n",
    "    uint24[5] balance = [255, 65536, 95, 50, 1];\n",
    "    int[5] mathMarks;\n",
    "    uint[3][] marks=[[100, 80, 95],[20,30,40]];\n",
    "\n",
    "    function setLocalDynamicArr() pure public returns(uint) {\n",
    "        //uint[] myArr; //error\n",
    "        //uint[] storage myArr; //error uninitialized storage\n",
    "        //uint[] memory myArr; //ok. but cannot push\n",
    "        //uint[] myArr = new uint[](3); //error\n",
    "        //uint[] storage myArr = new uint[](3); //error conversion from memory to stoarge\n",
    "        uint[] memory myArr = new uint[](3);\n",
    "        //myArr.push(11); //error\n",
    "        myArr[0]=11;\n",
    "        myArr[1]=12;\n",
    "        //myArr.push(13); //error\n",
    "        //myArr[5]=15;\n",
    "        return myArr.length;\n",
    "    }\n",
    "    function getDynamicArrMemory() pure public returns(uint[] memory) {\n",
    "        uint[] memory num=new uint[](3);  //dynamic\n",
    "        for (uint i=0; i<num.length; i++)\n",
    "            num[i]=i;       //push() not allowed for array memeory\n",
    "        return num;\n",
    "    }\n",
    "    //string is a dynamic array itself, which can not be returned.\n",
    "    //function setArrMemory() view public returns(string[] memory) {\n",
    "    function getStringDynamicArrMemory() pure public {\n",
    "        //array storage not allowed\n",
    "        //error: string[2] storage places = [\"9000\", \"Sydney\"];\n",
    "        string[2] memory places = [\"9000\", \"Sydney\"];\n",
    "        //array memory push not allowed\n",
    "        //places.push(\"Seoul\");\n",
    "        places[0]=\"Seoul\";\n",
    "        //return places;\n",
    "    }\n",
    "    /*returning 'string[] storage' is not allowed\n",
    "    function getCities1_() view public returns(string[] memory) {\n",
    "        return cities1;  //can not return stoarge var. \n",
    "    }*/\n",
    "    function getCities1() view public returns(string memory) {\n",
    "        return cities1[0];\n",
    "    }\n",
    "    function getCities1Length() view public returns(uint) { return cities1.length; }\n",
    "    function setCities23() public {\n",
    "        //string my = \"Seoul\"; //error\n",
    "        string memory my = \"seoul\";\n",
    "        cities2[0]=\"New York\";\n",
    "        cities2.push(my);\n",
    "        cities2.push(\"Busan\");\n",
    "        cities3.push(\"New York\");\n",
    "        cities3.push(\"Beijing\");\n",
    "    }\n",
    "    //dynamic array return needs \"pragma experimental ABIEncoderV2;\"\n",
    "    function getCities2() view public returns(string[] memory){\n",
    "        return cities2;\n",
    "    }\n",
    "    function setMathMarks() public {\n",
    "        //mathMarks.push(100); //push for fixed array not allowed\n",
    "        //mathMarks=uint8([100,60,95,50,80]); //error: uint8 memory -> uint8\n",
    "        uint8[5] memory temp = [100, 60, 95, 50, 80];\n",
    "        //mathMarks = int(temp); //error: uint8[5] memory -> int256\n",
    "        for (uint i = 0; i < temp.length; i++) {\n",
    "            //mathMarks[i] = int(temp[i]); //error: uint8 -> int256\n",
    "            mathMarks[i] = int(int8(temp[i])); //ok: uint8 -> int8 -> int256\n",
    "        }\n",
    "    }\n",
    "    function getMathMarks() view public returns (int[] memory) {\n",
    "        //return mathMarks;  //can not return storage array: error: int[] storage -> int[] memory\n",
    "        int[] memory _arr256 = new int[](mathMarks.length);\n",
    "        for (uint i = 0; i < mathMarks.length; i++) {\n",
    "            _arr256[i] = int256(mathMarks[i]);\n",
    "        }\n",
    "        return _arr256;\n",
    "    }\n",
    "    //run setMathMarks() beforehand\n",
    "    function getMathAbove70_() view public returns(int[] memory) {\n",
    "        // size is not allocated yet -> invalid opcode error\n",
    "        int[] memory mathAbove70;\n",
    "        uint counter = 0;\n",
    "        for(uint8 i=0;i<mathMarks.length;i++)\n",
    "            if(mathMarks[i]>70) {\n",
    "                mathAbove70[counter] = mathMarks[i];\n",
    "                //mathAbove70.push(mathMarks[i]);\n",
    "                counter++;\n",
    "            }\n",
    "        return mathAbove70;\n",
    "    }\n",
    "    //run setMathMarks() beforehand\n",
    "    function getMathAbove70() view public returns(int[] memory) {\n",
    "        //compute lengthOfMathAbove70\n",
    "        uint8 counter=0;\n",
    "        uint8 lengthOfMathAbove70=0;\n",
    "        for(uint8 i=0;i<mathMarks.length;i++)\n",
    "            if(mathMarks[i]>70) counter++;\n",
    "        lengthOfMathAbove70=counter;\n",
    "        //move math marks above 70\n",
    "        int[] memory mathAbove70=new int[](lengthOfMathAbove70);\n",
    "        counter=0;\n",
    "        for(uint i=0;i<mathMarks.length;i++) {\n",
    "            if(mathMarks[i]>70) {\n",
    "                mathAbove70[counter]=mathMarks[i];\n",
    "                counter++;\n",
    "            }\n",
    "        }\n",
    "        return mathAbove70;\n",
    "    }\n",
    "    function updateMarks() public returns(uint[3][] memory){\n",
    "        marks[0][0]=90;\n",
    "        return marks;\n",
    "    }\n",
    "    function getMarksArr() view public returns(uint[3][] memory) {\n",
    "        return marks;\n",
    "    }\n",
    "    function getMarksLength() view public returns(uint) {\n",
    "        return marks.length;\n",
    "    }\n",
    "}"
   ]
  },
  {
   "cell_type": "code",
   "execution_count": 31,
   "id": "88fb3b74",
   "metadata": {},
   "outputs": [],
   "source": [
    "!solc-windows.exe src/ArrayTest2.sol --combined-json abi > src/ArrayTest2ABI.json"
   ]
  },
  {
   "cell_type": "code",
   "execution_count": 32,
   "id": "ad4fb97b",
   "metadata": {},
   "outputs": [],
   "source": [
    "!solc-windows.exe src/ArrayTest2.sol --combined-json bin > src/ArrayTest2BIN.json"
   ]
  },
  {
   "cell_type": "code",
   "execution_count": 51,
   "id": "786d4eb1",
   "metadata": {},
   "outputs": [
    {
     "name": "stdout",
     "output_type": "stream",
     "text": [
      "Overwriting src/ArrayTest2Deploy.js\n"
     ]
    }
   ],
   "source": [
    "%%writefile src/ArrayTest2Deploy.js\n",
    "var Web3=require('web3');\n",
    "var _abiJson = require('./ArrayTest2ABI.json');\n",
    "var _binJson = require('./ArrayTest2BIN.json');\n",
    "\n",
    "var web3 = new Web3(new Web3.providers.HttpProvider(\"http://localhost:8345\"));\n",
    "contractName=Object.keys(_abiJson.contracts); // reading ['src/ArrayTest2.sol:ArrayTest2']\n",
    "console.log(\"- contract name: \", contractName[0]); //or console.log(contractName);\n",
    "_abiArray=_abiJson.contracts[contractName].abi;\n",
    "//_abiArray=JSON.parse(_abiJson.contracts[contractName].abi);    //JSON parsing needed!!\n",
    "_bin=\"0x\"+_binJson.contracts[contractName].bin; //ok without \"0x\"\n",
    "\n",
    "//unlock the account with a password provided\n",
    "//web3.personal.unlockAccount(web3.eth.accounts[0],'password');\n",
    "async function deploy() {\n",
    "    const accounts = await web3.eth.getAccounts();\n",
    "    console.log(\"Deploying the contract from \" + accounts[0]);\n",
    "\n",
    "    new web3.eth.Contract(_abiArray).deploy({data: _bin}).estimateGas(function(err, gas) {\n",
    "        if(!err) console.log(\">> gas: \"+ gas);\n",
    "    });\n",
    "\n",
    "    var deployed = await new web3.eth.Contract(_abiArray)\n",
    "        .deploy({data: _bin})\n",
    "        .send({from: accounts[0], gas: 1621126}, function(err, transactionHash) {\n",
    "                if(!err) console.log(\"hash: \" + transactionHash); \n",
    "        })\n",
    "        //.then(function(newContractInstance){\n",
    "        //    console.log(newContractInstance.options.address)\n",
    "        //});\n",
    "    console.log(\"---> The contract deployed to: \" + deployed.options.address);\n",
    "}\n",
    "\n",
    "deploy()"
   ]
  },
  {
   "cell_type": "code",
   "execution_count": 52,
   "id": "42c3843e",
   "metadata": {},
   "outputs": [
    {
     "name": "stdout",
     "output_type": "stream",
     "text": [
      "- contract name:  src/ArrayTest2.sol:ArrayTest2\n",
      "Deploying the contract from 0x43D9120264e2340504fEEa14a2A59698dacfA66C\n",
      "hash: 0xf39252a39ad5d5ae1f89b43a52a12ad08c5de392a68bb696ca811538d05e7144\n",
      "---> The contract deployed to: 0xED2511d6167E31DB62C1A089D9413CAF6114FCA3\n",
      ">> gas: 1621125\n"
     ]
    }
   ],
   "source": [
    "!node src/ArrayTest2Deploy.js"
   ]
  },
  {
   "cell_type": "code",
   "execution_count": 71,
   "id": "10b9a8fc",
   "metadata": {},
   "outputs": [
    {
     "name": "stdout",
     "output_type": "stream",
     "text": [
      "Overwriting src/ArrayTest2Use.js\n"
     ]
    }
   ],
   "source": [
    "%%writefile src/ArrayTest2Use.js\n",
    "var Web3=require('web3');\n",
    "var _abiJson = require('./ArrayTest2ABI.json');\n",
    "var web3=new Web3(new Web3.providers.HttpProvider(\"http://localhost:8345\"));       //ok\n",
    "\n",
    "contractName=Object.keys(_abiJson.contracts); // reading ['src/ArrayTest2.sol:ArrayTest2']\n",
    "console.log(\"- contract name: \", contractName[0]); //or console.log(contractName);\n",
    "_abiArray=_abiJson.contracts[contractName].abi;\n",
    "//_abiArray=JSON.parse(_abiJson.contracts[contractName].abi);    //JSON parsing needed!!\n",
    "\n",
    "async function doIt() {\n",
    "    var arr = new web3.eth.Contract(_abiArray, \"0xED2511d6167E31DB62C1A089D9413CAF6114FCA3\");\n",
    "    const accounts = await web3.eth.getAccounts();\n",
    "    console.log(\"Account: \" + accounts[0]);\n",
    "    const balanceBefore = await web3.eth.getBalance(accounts[0]);\n",
    "    console.log(\"Balance before: \" + balanceBefore);\n",
    "    \n",
    "    arr.methods.setCities23().estimateGas(function(err, gas) {\n",
    "        if(!err) console.log(\">> gas: \"+ gas);\n",
    "    });\n",
    "\n",
    "    //await arr.methods.setCities23().send({from: accounts[0]});   //out of gas error\n",
    "    await arr.methods.setCities23().send({from: accounts[0], gas:1621125});\n",
    "    arr.methods.getCities2().call().then(console.log);\n",
    "\n",
    "    arr.methods.setMathMarks().estimateGas(function(err, gas) {\n",
    "        if(!err) console.log(\">> gas: \"+ gas);\n",
    "    });\n",
    "\n",
    "    await arr.methods.setMathMarks().send({from: accounts[0], gas: 1621125});\n",
    "    //ERROR invalid opcode arr.methods.getMathAbove70().call().then(console.log);\n",
    "    arr.methods.getMarksArr().call().then(console.log);\n",
    "\n",
    "    const balanceAfter = await web3.eth.getBalance(accounts[0]);\n",
    "    console.log(\"Balance after: \" + balanceAfter);\n",
    "    console.log(\"Balance diff: \" + (balanceBefore - balanceAfter));\n",
    "}\n",
    "\n",
    "doIt()"
   ]
  },
  {
   "cell_type": "markdown",
   "id": "61d83d8a",
   "metadata": {},
   "source": [
    "## 위에 use 시에 deploy에서 나온 gas비를 함수의 gas에 넣어서 실행해야 함"
   ]
  },
  {
   "cell_type": "code",
   "execution_count": 76,
   "id": "eeb3d051",
   "metadata": {
    "scrolled": false
   },
   "outputs": [
    {
     "name": "stdout",
     "output_type": "stream",
     "text": [
      "- contract name:  src/ArrayTest2.sol:ArrayTest2\n",
      "Account: 0x43D9120264e2340504fEEa14a2A59698dacfA66C\n",
      "Balance before: 999975589354000000000\n",
      ">> gas: 127611\n",
      "Balance after: 999975266512000000000\n",
      "Balance diff: 322841999966208\n",
      "[\n",
      "  'New York', '',\n",
      "  'seoul',    'Busan',\n",
      "  'seoul',    'Busan',\n",
      "  'seoul',    'Busan',\n",
      "  'seoul',    'Busan',\n",
      "  'seoul',    'Busan'\n",
      "]\n",
      ">> gas: 33810\n",
      "[ [ '100', '80', '95' ], [ '20', '30', '40' ] ]\n"
     ]
    }
   ],
   "source": [
    "!node src/ArrayTest2Use.js"
   ]
  },
  {
   "cell_type": "markdown",
   "id": "088a8000",
   "metadata": {},
   "source": [
    "# MembersMap"
   ]
  },
  {
   "cell_type": "markdown",
   "id": "1872baa6",
   "metadata": {},
   "source": [
    "## 10개의 주소에 각각 Member를 할당 (Id, Name)"
   ]
  },
  {
   "cell_type": "code",
   "execution_count": 79,
   "id": "411b0939",
   "metadata": {},
   "outputs": [
    {
     "name": "stdout",
     "output_type": "stream",
     "text": [
      "Writing src/MembersMap.sol\n"
     ]
    }
   ],
   "source": [
    "%%writefile src/MembersMap.sol\n",
    "//SPDX-License-Identifier: GPL-3.0-or-later\n",
    "pragma solidity ^0.8.0;\n",
    "\n",
    "contract MembersMap {\n",
    "    struct Member {\n",
    "        uint id;\n",
    "        string name;\n",
    "    }\n",
    "    //bidrectional map\n",
    "    mapping(address=>Member) memberMap;\n",
    "    mapping(uint=>address) addressById;\n",
    "    mapping(string=>address) addressByName;\n",
    "    function addMember (uint _id, string memory _name) public {\n",
    "       Member memory m=Member(_id, _name);\n",
    "       memberMap[msg.sender]=m;\n",
    "       //saving into a bidiretional map to get address by id\n",
    "       addressById[_id]=msg.sender;\n",
    "       //saving into a bidiretional map to get address by name\n",
    "       addressByName[_name]=msg.sender;\n",
    "    }\n",
    "    //get Member by id\n",
    "    function getMemberById(uint _id) view public returns(uint, string memory) {\n",
    "        Member memory my = memberMap[addressById[_id]];\n",
    "        return (my.id, my.name);\n",
    "    }\n",
    "    // get address (not Member) by name\n",
    "    function getMemberAddressByName(string memory _name) public view returns(address) {\n",
    "        return addressByName[_name];\n",
    "    }\n",
    "    function getMember(address addr) view public returns (uint, string memory) {\n",
    "        Member memory m=memberMap[addr];\n",
    "        return (m.id, m.name);\n",
    "    }\n",
    "}"
   ]
  },
  {
   "cell_type": "markdown",
   "id": "a0209e42",
   "metadata": {},
   "source": [
    "- require 는 송금이 되었는지 확인하는 경우에 많이쓰임 (보통 함수의 맨 앞에 쓰임)\n",
    "- assert는 내부조건이 모두 충족이 되었는지 확인하는 경우에 많이쓰임 (보통 함수의 맨 뒤에 쓰임)"
   ]
  },
  {
   "cell_type": "code",
   "execution_count": 80,
   "id": "49c31a96",
   "metadata": {},
   "outputs": [
    {
     "name": "stdout",
     "output_type": "stream",
     "text": [
      "Writing src/ExceptionTest.sol\n"
     ]
    }
   ],
   "source": [
    "%%writefile src/ExceptionTest.sol\n",
    "//SPDX-License-Identifier: GPL-3.0-or-later\n",
    "pragma solidity ^0.8.0;\n",
    "\n",
    "contract ExceptionTest {\n",
    "    address owner;\n",
    "    constructor() {//constructor() public {\n",
    "        owner=msg.sender;\n",
    "    }\n",
    "    function requireException() view public returns(string memory) {\n",
    "        //if (msg.sender != owner) { throw; } // not this way to throw an exception\n",
    "        require(msg.sender != owner, \"Sorry! You are owner. Require failed...\");\n",
    "        return \"require condition met\";\n",
    "    }\n",
    "    function assertException() view public returns(string memory) {\n",
    "        assert(msg.sender == owner);\n",
    "        return \"asserted\";  //do this line only 'assert' is succeeded\n",
    "    }\n",
    "    function revertException() view public returns(string memory) {\n",
    "        if(msg.sender != owner) {\n",
    "            revert(\"Sorry! You are NOT owner. Reverted...\");\n",
    "            //return \"reverted\";  // this line can't be reached if revert is executed \n",
    "        } else {\n",
    "            return \"not reverted\";\n",
    "        }\n",
    "    }\n",
    "    function raiseException() pure public {\n",
    "        int x=0;\n",
    "        int y=0;\n",
    "        x/y;    //divide by zero\n",
    "    }\n",
    "}"
   ]
  },
  {
   "cell_type": "markdown",
   "id": "4b988ed7",
   "metadata": {},
   "source": [
    "# 컨트랙 결합 - 컨트랙이 한 파일안에 존재할 경우 (C2로 배포하여 C1을 참조)"
   ]
  },
  {
   "cell_type": "code",
   "execution_count": 1,
   "id": "60baf4e6",
   "metadata": {},
   "outputs": [
    {
     "name": "stdout",
     "output_type": "stream",
     "text": [
      "Writing src/C1C2.sol\n"
     ]
    }
   ],
   "source": [
    "%%writefile src/C1C2.sol\n",
    "//SPDX-License-Identifier: GPL-3.0-or-later\n",
    "pragma solidity ^0.8.0;\n",
    "//pragma solidity ^0.6;\n",
    "//pragma solidity 0.4.21;\n",
    "\n",
    "contract C1 {\n",
    "    uint128 v1;\n",
    "    function set(uint128 _v1) public {\n",
    "        v1=_v1;\n",
    "    }\n",
    "    function get() public view returns(uint128) {\n",
    "        return v1;\n",
    "    }\n",
    "    function get7() public pure returns(uint128) {\n",
    "        return 7;\n",
    "    }\n",
    "}\n",
    "\n",
    "contract C2 {\n",
    "    C1 c1;\n",
    "    //function C2() public {  //0.4.21 constructor\n",
    "    constructor() { //constructor() public {    //0.6 constructor\n",
    "        c1=new C1();\n",
    "    }\n",
    "    function set(uint128 _v1) public {\n",
    "        c1.set(_v1);\n",
    "    }\n",
    "    function get() public view returns(uint128) {\n",
    "        return c1.get();\n",
    "    }\n",
    "    function get7() public view returns(uint128) {\n",
    "        return c1.get7();\n",
    "    }\n",
    "    function getC1Address() public view returns(address) {\n",
    "        return address(c1);\n",
    "    }\n",
    "}"
   ]
  },
  {
   "cell_type": "code",
   "execution_count": 2,
   "id": "51e17066",
   "metadata": {},
   "outputs": [],
   "source": [
    "!solc-windows.exe src/C1C2.sol --combined-json abi,bin > src/C1C2.json"
   ]
  },
  {
   "cell_type": "code",
   "execution_count": 3,
   "id": "f5752e42",
   "metadata": {},
   "outputs": [
    {
     "name": "stdout",
     "output_type": "stream",
     "text": [
      "Writing src/C1C2Deploy.js\n"
     ]
    }
   ],
   "source": [
    "%%writefile src/C1C2Deploy.js\n",
    "var Web3=require('web3');\n",
    "var web3=new Web3(new Web3.providers.HttpProvider(\"http://localhost:8345\"));\n",
    "var fs=require('fs');\n",
    "var _str = fs.readFileSync(\"src/C1C2.json\");\n",
    "var _json=JSON.parse(_str)\n",
    "//var _abiArray=JSON.parse(_json.contracts.sHello2.abi);\n",
    "//var _abiArray=JSON.parse(_json.contracts[\"src/C1C2.sol:C2\"].abi);\n",
    "var _abiArray=_json.contracts[\"src/C1C2.sol:C2\"].abi;\n",
    "//var _bin=_json.contracts.sHello2.bin;\n",
    "var _bin=\"0x\"+_json.contracts[\"src/C1C2.sol:C2\"].bin;\n",
    "\n",
    "//unlock the account with a password provided\n",
    "//web3.personal.unlockAccount(web3.eth.accounts[0],'password');\n",
    "async function deploy() {\n",
    "    const accounts = await web3.eth.getAccounts();\n",
    "    console.log(\"Deploying the contract from \" + accounts[0]);\n",
    "    var deployed = await new web3.eth.Contract(_abiArray)\n",
    "        .deploy({data: _bin})\n",
    "        .send({from: accounts[0], gas: 1000000})\n",
    "        .on('transactionHash', function(hash){\n",
    "            console.log(\">>> transactionHash\"+hash);\n",
    "        })\n",
    "        .on('receipt', function(receipt){\n",
    "            console.log(\">>> RECEPIT hash: \" + receipt.transactionHash + \"\\n>>> address:\" + receipt.contractAddress);\n",
    "        })\n",
    "        .on('error', function(error, receipt) {\n",
    "            console.log(\">>> ERROR \"+error);\n",
    "        });\n",
    "        //.then(function(newContractInstance){\n",
    "        //    console.log(newContractInstance.options.address)\n",
    "        //});\n",
    "    console.log(\"---> The contract deployed to: \" + deployed.options.address)\n",
    "}\n",
    "deploy()"
   ]
  },
  {
   "cell_type": "code",
   "execution_count": 6,
   "id": "575ae6a6",
   "metadata": {},
   "outputs": [
    {
     "name": "stdout",
     "output_type": "stream",
     "text": [
      "Deploying the contract from 0x9F4fE137D843278102461B24eD20c6C6C222a423\n",
      ">>> transactionHash0x4f882a8ddc24c545257806feae4cf248d4d578b2772ebadbd03394df2ad02b2f\n",
      ">>> RECEPIT hash: 0x4f882a8ddc24c545257806feae4cf248d4d578b2772ebadbd03394df2ad02b2f\n",
      ">>> address:0xfa85A2051b9a695a19B67AB793aDb8A259132378\n",
      "---> The contract deployed to: 0xfa85A2051b9a695a19B67AB793aDb8A259132378\n"
     ]
    }
   ],
   "source": [
    "!node src/C1C2Deploy.js"
   ]
  },
  {
   "cell_type": "code",
   "execution_count": 7,
   "id": "56a407bd",
   "metadata": {},
   "outputs": [
    {
     "name": "stdout",
     "output_type": "stream",
     "text": [
      "Writing src/C1C2Use.js\n"
     ]
    }
   ],
   "source": [
    "%%writefile src/C1C2Use.js\n",
    "var Web3=require('web3');\n",
    "var web3=new Web3(new Web3.providers.HttpProvider(\"http://localhost:8345\"));\n",
    "var fs=require('fs');\n",
    "var _str = fs.readFileSync(\"src/C1C2.json\");\n",
    "var _json=JSON.parse(_str)\n",
    "//var _abiArray=JSON.parse(_json.contracts.sHello2.abi);\n",
    "//var _abiArray=JSON.parse(_json.contracts[\"src/C1C2.sol:C2\"].abi);\n",
    "var _abiArray=_json.contracts[\"src/C1C2.sol:C2\"].abi;\n",
    "\n",
    "var c2 = new web3.eth.Contract(_abiArray, \"0xfa85A2051b9a695a19B67AB793aDb8A259132378\");\n",
    "\n",
    "async function doIt() {\n",
    "    const accounts = await web3.eth.getAccounts();\n",
    "    console.log(\"Account: \" + accounts[0]);\n",
    "    const balanceBefore = await web3.eth.getBalance(accounts[0]);\n",
    "    console.log(\"Balance before: \" + balanceBefore);\n",
    "    c2.methods.get7().call().then(function(res) {console.log(\"C1 get7(): \" + res)});\n",
    "    await c2.methods.set(9).send({from: accounts[0],gas:50000}, function(err,res) {\n",
    "        console.log(\"setting 9...\"+res);\n",
    "    });\n",
    "    c2.methods.get().call().then(function(res) {console.log(\"C1 get(): \" + res)});\n",
    "    const balanceAfter = await web3.eth.getBalance(accounts[0]);\n",
    "    console.log(\"Balance after: \" + balanceAfter);\n",
    "    console.log(\"Balance diff: \" + (balanceBefore - balanceAfter));\n",
    "    //hello.methods.kill().send({from: accounts[0]})\n",
    "}\n",
    "\n",
    "doIt()"
   ]
  },
  {
   "cell_type": "code",
   "execution_count": 8,
   "id": "799b27ab",
   "metadata": {},
   "outputs": [
    {
     "name": "stdout",
     "output_type": "stream",
     "text": [
      "Account: 0x9F4fE137D843278102461B24eD20c6C6C222a423\n",
      "Balance before: 999999112166000000000\n",
      "C1 get7(): 7\n",
      "setting 9...0x7c5166d65175d4eb478df9fa2238337a5856cfa577dcfa65afa55b33c2fb5a2c\n",
      "Balance after: 999999013510000000000\n",
      "Balance diff: 98656000016384\n",
      "C1 get(): 9\n"
     ]
    }
   ],
   "source": [
    "!node src/C1C2Use.js"
   ]
  },
  {
   "cell_type": "markdown",
   "id": "d17b0709",
   "metadata": {},
   "source": [
    "# 컨트랙 결합 - 컨트랙이 다른 파일안에 존재할 경우 (C1을 배포하여 주소를 참조하여 C2에 적용)"
   ]
  },
  {
   "cell_type": "code",
   "execution_count": 9,
   "id": "979d5546",
   "metadata": {},
   "outputs": [
    {
     "name": "stdout",
     "output_type": "stream",
     "text": [
      "Writing src/C1.sol\n"
     ]
    }
   ],
   "source": [
    "%%writefile src/C1.sol\n",
    "//SPDX-License-Identifier: GPL-3.0-or-later\n",
    "pragma solidity ^0.8.0;\n",
    "//pragma solidity ^0.6;\n",
    "//pragma solidity 0.4.21;\n",
    "\n",
    "contract C1 {\n",
    "    uint128 v1;\n",
    "    function set(uint128 _v1) public {\n",
    "        v1=_v1;\n",
    "    }\n",
    "    function get() public view returns(uint128) {\n",
    "        return v1;\n",
    "    }\n",
    "    function get7() public pure returns(uint128) {\n",
    "        return 7;\n",
    "    }\n",
    "}"
   ]
  },
  {
   "cell_type": "code",
   "execution_count": 10,
   "id": "4d841b5f",
   "metadata": {},
   "outputs": [],
   "source": [
    "!solc-windows.exe src/C1.sol --combined-json abi,bin > src/C1.json"
   ]
  },
  {
   "cell_type": "code",
   "execution_count": 12,
   "id": "f0285e81",
   "metadata": {},
   "outputs": [
    {
     "name": "stdout",
     "output_type": "stream",
     "text": [
      "{\"contracts\":{\"src/C1.sol:C1\":{\"abi\":[{\"inputs\":[],\"name\":\"get\",\"outputs\":[{\"internalType\":\"uint128\",\"name\":\"\",\"type\":\"uint128\"}],\"stateMutability\":\"view\",\"type\":\"function\"},{\"inputs\":[],\"name\":\"get7\",\"outputs\":[{\"internalType\":\"uint128\",\"name\":\"\",\"type\":\"uint128\"}],\"stateMutability\":\"pure\",\"type\":\"function\"},{\"inputs\":[{\"internalType\":\"uint128\",\"name\":\"_v1\",\"type\":\"uint128\"}],\"name\":\"set\",\"outputs\":[],\"stateMutability\":\"nonpayable\",\"type\":\"function\"}],\"bin\":\"608060405234801561001057600080fd5b506101d8806100206000396000f3fe608060405234801561001057600080fd5b50600436106100415760003560e01c8063086949b7146100465780634178462f146100645780636d4ce63c14610080575b600080fd5b61004e61009e565b60405161005b9190610154565b60405180910390f35b61007e6004803603810190610079919061011c565b6100a7565b005b6100886100e2565b6040516100959190610154565b60405180910390f35b60006007905090565b806000806101000a8154816fffffffffffffffffffffffffffffffff02191690836fffffffffffffffffffffffffffffffff16021790555050565b60008060009054906101000a90046fffffffffffffffffffffffffffffffff16905090565b6000813590506101168161018b565b92915050565b60006020828403121561012e57600080fd5b600061013c84828501610107565b91505092915050565b61014e8161016f565b82525050565b60006020820190506101696000830184610145565b92915050565b60006fffffffffffffffffffffffffffffffff82169050919050565b6101948161016f565b811461019f57600080fd5b5056fea2646970667358221220cda559c27aee277eb66594651301f11ad714613783e9378cfc9f740d7fbcb3e164736f6c63430008000033\"}},\"version\":\"0.8.0+commit.c7dfd78e.Windows.msvc\"}\n"
     ]
    }
   ],
   "source": [
    "!type src\\C1.json"
   ]
  },
  {
   "cell_type": "code",
   "execution_count": 13,
   "id": "68f18612",
   "metadata": {},
   "outputs": [
    {
     "name": "stdout",
     "output_type": "stream",
     "text": [
      "Writing src/C1Deploy.js\n"
     ]
    }
   ],
   "source": [
    "%%writefile src/C1Deploy.js\n",
    "var Web3 = require('web3');\n",
    "var web3 = new Web3(new Web3.providers.HttpProvider(\"http://localhost:8345\"));\n",
    "var fs=require('fs');\n",
    "var _str = fs.readFileSync(\"src/C1.json\");\n",
    "var _json = JSON.parse(_str)\n",
    "//var _abiArray = JSON.parse(_json.contracts.sHello2.abi);\n",
    "//var _abiArray = JSON.parse(_json.contracts[\"src/C1.sol:C1\"].abi);\n",
    "var _abiArray = _json.contracts[\"src/C1.sol:C1\"].abi;\n",
    "//var _bin = _json.contracts.sHello2.bin;\n",
    "var _bin = \"0x\"+_json.contracts[\"src/C1.sol:C1\"].bin;\n",
    "\n",
    "//unlock the account with a password provided\n",
    "//web3.personal.unlockAccount(web3.eth.accounts[0],'password');\n",
    "async function deploy() {\n",
    "    const accounts = await web3.eth.getAccounts();\n",
    "    console.log(\"Deploying the contract from \" + accounts[0]);\n",
    "    var deployed = await new web3.eth.Contract(_abiArray)\n",
    "        .deploy({data: _bin})\n",
    "        .send({from: accounts[0], gas: 1000000})\n",
    "        .on('transactionHash', function(hash){\n",
    "            console.log(\">>> transactionHash\" + hash);\n",
    "        })\n",
    "        .on('receipt', function(receipt){\n",
    "            console.log(\">>> RECEPIT hash: \" + receipt.transactionHash + \"\\n>>> address:\" + receipt.contractAddress);\n",
    "        })\n",
    "        .on('error', function(error, receipt) {\n",
    "            console.log(\">>> ERROR \" + error);\n",
    "        });\n",
    "        //.then(function(newContractInstance){\n",
    "        //    console.log(newContractInstance.options.address)\n",
    "        //});\n",
    "    console.log(\"---> The contract deployed to: \" + deployed.options.address)\n",
    "}\n",
    "deploy()"
   ]
  },
  {
   "cell_type": "code",
   "execution_count": 14,
   "id": "dc18da33",
   "metadata": {
    "scrolled": false
   },
   "outputs": [
    {
     "name": "stdout",
     "output_type": "stream",
     "text": [
      "Deploying the contract from 0x9F4fE137D843278102461B24eD20c6C6C222a423\n",
      ">>> transactionHash0xf6811d2ce3bb036d86bb15cbad8358aeb0ecb09ba26921a84c29819877175d1c\n",
      ">>> RECEPIT hash: 0xf6811d2ce3bb036d86bb15cbad8358aeb0ecb09ba26921a84c29819877175d1c\n",
      ">>> address:0x87A25DA685c13140dEF0D5B890e0D4692FEc54a9\n",
      "---> The contract deployed to: 0x87A25DA685c13140dEF0D5B890e0D4692FEc54a9\n"
     ]
    }
   ],
   "source": [
    "!node src/C1Deploy.js"
   ]
  },
  {
   "cell_type": "code",
   "execution_count": 38,
   "id": "c7af06a9",
   "metadata": {},
   "outputs": [
    {
     "name": "stdout",
     "output_type": "stream",
     "text": [
      "Overwriting src/C1Use.js\n"
     ]
    }
   ],
   "source": [
    "%%writefile src/C1Use.js\n",
    "var Web3=require('web3');\n",
    "var web3=new Web3(new Web3.providers.HttpProvider(\"http://localhost:8345\"));\n",
    "var fs=require('fs');\n",
    "var _str = fs.readFileSync(\"src/C1.json\");\n",
    "var _json=JSON.parse(_str)\n",
    "//var _abiArray=JSON.parse(_json.contracts.sHello2.abi);\n",
    "//var _abiArray=JSON.parse(_json.contracts[\"src/C1.sol:C1\"].abi);\n",
    "var _abiArray = _json.contracts[\"src/C1.sol:C1\"].abi;\n",
    "\n",
    "var c1 = new web3.eth.Contract(_abiArray, \"0x87A25DA685c13140dEF0D5B890e0D4692FEc54a9\");\n",
    "async function doIt() {\n",
    "    const accounts = await web3.eth.getAccounts();\n",
    "    console.log(\"Account: \" + accounts[0]);\n",
    "    const balanceBefore = await web3.eth.getBalance(accounts[0]);\n",
    "    console.log(\"Balance before: \" + balanceBefore);\n",
    "    c1.methods.get7().call().then(console.log);\n",
    "    await c1.methods.set(9).send({from: accounts[0],gas:50000});\n",
    "    c1.methods.get().call().then(console.log);\n",
    "    const balanceAfter = await web3.eth.getBalance(accounts[0]);\n",
    "    console.log(\"Balance after: \" + balanceAfter);\n",
    "    console.log(\"Balance diff: \" + (balanceBefore - balanceAfter));\n",
    "    //hello.methods.kill().send({from: accounts[0]})\n",
    "}\n",
    "\n",
    "doIt()"
   ]
  },
  {
   "cell_type": "code",
   "execution_count": 39,
   "id": "bbe76e67",
   "metadata": {},
   "outputs": [
    {
     "name": "stdout",
     "output_type": "stream",
     "text": [
      "Account: 0x9F4fE137D843278102461B24eD20c6C6C222a423\n",
      "Balance before: 999996705618000000000\n",
      "7\n",
      "Balance after: 999996657852000000000\n",
      "Balance diff: 47765999976448\n",
      "9\n"
     ]
    }
   ],
   "source": [
    "!node src/C1Use.js"
   ]
  },
  {
   "cell_type": "code",
   "execution_count": 20,
   "id": "543cbc43",
   "metadata": {},
   "outputs": [
    {
     "name": "stdout",
     "output_type": "stream",
     "text": [
      "Writing src/C2.sol\n"
     ]
    }
   ],
   "source": [
    "%%writefile src/C2.sol\n",
    "//SPDX-License-Identifier: GPL-3.0-or-later\n",
    "pragma solidity ^0.8.0;\n",
    "//pragma solidity 0.6;\n",
    "//pragma solidity 0.4.21;\n",
    "import \"./C1.sol\";\n",
    "\n",
    "contract C2 {\n",
    "    C1 c1;\n",
    "    //function C2() public {  //0.4.21 constructor\n",
    "    constructor() {    //constructor() public {    //0.6 constructor\n",
    "        c1=new C1();\n",
    "    }\n",
    "    function setC1(address _addressOfC1) public {\n",
    "        c1 = C1(_addressOfC1);\n",
    "    }\n",
    "    function set(uint128 _v1) public {\n",
    "        c1.set(_v1);\n",
    "    }\n",
    "    function get() public view returns(uint128) {\n",
    "        return c1.get();\n",
    "    }\n",
    "    function get7() public view returns(uint128) {\n",
    "        return c1.get7();\n",
    "    }\n",
    "    function getC1Address() public view returns(address) {\n",
    "        return address(c1);\n",
    "    }\n",
    "}"
   ]
  },
  {
   "cell_type": "code",
   "execution_count": 21,
   "id": "dabd4044",
   "metadata": {},
   "outputs": [],
   "source": [
    "!solc-windows.exe src/C2.sol --combined-json abi,bin > src/C2.json"
   ]
  },
  {
   "cell_type": "code",
   "execution_count": 40,
   "id": "deac1357",
   "metadata": {},
   "outputs": [
    {
     "name": "stdout",
     "output_type": "stream",
     "text": [
      "{\"contracts\":{\"src/C1.sol:C1\":{\"abi\":[{\"inputs\":[],\"name\":\"get\",\"outputs\":[{\"internalType\":\"uint128\",\"name\":\"\",\"type\":\"uint128\"}],\"stateMutability\":\"view\",\"type\":\"function\"},{\"inputs\":[],\"name\":\"get7\",\"outputs\":[{\"internalType\":\"uint128\",\"name\":\"\",\"type\":\"uint128\"}],\"stateMutability\":\"pure\",\"type\":\"function\"},{\"inputs\":[{\"internalType\":\"uint128\",\"name\":\"_v1\",\"type\":\"uint128\"}],\"name\":\"set\",\"outputs\":[],\"stateMutability\":\"nonpayable\",\"type\":\"function\"}],\"bin\":\"608060405234801561001057600080fd5b506101d8806100206000396000f3fe608060405234801561001057600080fd5b50600436106100415760003560e01c8063086949b7146100465780634178462f146100645780636d4ce63c14610080575b600080fd5b61004e61009e565b60405161005b9190610154565b60405180910390f35b61007e6004803603810190610079919061011c565b6100a7565b005b6100886100e2565b6040516100959190610154565b60405180910390f35b60006007905090565b806000806101000a8154816fffffffffffffffffffffffffffffffff02191690836fffffffffffffffffffffffffffffffff16021790555050565b60008060009054906101000a90046fffffffffffffffffffffffffffffffff16905090565b6000813590506101168161018b565b92915050565b60006020828403121561012e57600080fd5b600061013c84828501610107565b91505092915050565b61014e8161016f565b82525050565b60006020820190506101696000830184610145565b92915050565b60006fffffffffffffffffffffffffffffffff82169050919050565b6101948161016f565b811461019f57600080fd5b5056fea2646970667358221220cda559c27aee277eb66594651301f11ad714613783e9378cfc9f740d7fbcb3e164736f6c63430008000033\"},\"src/C2.sol:C2\":{\"abi\":[{\"inputs\":[],\"stateMutability\":\"nonpayable\",\"type\":\"constructor\"},{\"inputs\":[],\"name\":\"get\",\"outputs\":[{\"internalType\":\"uint128\",\"name\":\"\",\"type\":\"uint128\"}],\"stateMutability\":\"view\",\"type\":\"function\"},{\"inputs\":[],\"name\":\"get7\",\"outputs\":[{\"internalType\":\"uint128\",\"name\":\"\",\"type\":\"uint128\"}],\"stateMutability\":\"view\",\"type\":\"function\"},{\"inputs\":[],\"name\":\"getC1Address\",\"outputs\":[{\"internalType\":\"address\",\"name\":\"\",\"type\":\"address\"}],\"stateMutability\":\"view\",\"type\":\"function\"},{\"inputs\":[{\"internalType\":\"uint128\",\"name\":\"_v1\",\"type\":\"uint128\"}],\"name\":\"set\",\"outputs\":[],\"stateMutability\":\"nonpayable\",\"type\":\"function\"},{\"inputs\":[{\"internalType\":\"address\",\"name\":\"_addressOfC1\",\"type\":\"address\"}],\"name\":\"setC1\",\"outputs\":[],\"stateMutability\":\"nonpayable\",\"type\":\"function\"}],\"bin\":\"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\"}},\"version\":\"0.8.0+commit.c7dfd78e.Windows.msvc\"}\n"
     ]
    }
   ],
   "source": [
    "!type src\\C2.json"
   ]
  },
  {
   "cell_type": "code",
   "execution_count": 22,
   "id": "a5b7b3dd",
   "metadata": {},
   "outputs": [
    {
     "name": "stdout",
     "output_type": "stream",
     "text": [
      "Writing src/C2Deploy.js\n"
     ]
    }
   ],
   "source": [
    "%%writefile src/C2Deploy.js\n",
    "var Web3 = require('web3');\n",
    "var web3 = new Web3(new Web3.providers.HttpProvider(\"http://localhost:8345\"));\n",
    "var fs=require('fs');\n",
    "var _str = fs.readFileSync(\"src/C2.json\");\n",
    "var _json = JSON.parse(_str)\n",
    "//var _abiArray = JSON.parse(_json.contracts.sHello2.abi);\n",
    "//var _abiArray = JSON.parse(_json.contracts[\"src/C2.sol:C2\"].abi);\n",
    "var _abiArray = _json.contracts[\"src/C1.sol:C1\"].abi;\n",
    "//var _bin = _json.contracts.sHello2.bin;\n",
    "var _bin = \"0x\"+_json.contracts[\"src/C2.sol:C2\"].bin;\n",
    "\n",
    "//unlock the account with a password provided\n",
    "//web3.personal.unlockAccount(web3.eth.accounts[0],'password');\n",
    "async function deploy() {\n",
    "    const accounts = await web3.eth.getAccounts();\n",
    "    console.log(\"Deploying the contract from \" + accounts[0]);\n",
    "    var deployed = await new web3.eth.Contract(_abiArray)\n",
    "        .deploy({data: _bin})\n",
    "        .send({from: accounts[0], gas: 1000000})\n",
    "        .on('transactionHash', function(hash){\n",
    "            console.log(\">>> transactionHash\" + hash);\n",
    "        })\n",
    "        .on('receipt', function(receipt){\n",
    "            console.log(\">>> RECEPIT hash: \" + receipt.transactionHash + \"\\n>>> address:\" + receipt.contractAddress);\n",
    "        })\n",
    "        .on('error', function(error, receipt) {\n",
    "            console.log(\">>> ERROR \" + error);\n",
    "        });\n",
    "        //.then(function(newContractInstance){\n",
    "        //    console.log(newContractInstance.options.address)\n",
    "        //});\n",
    "    console.log(\"---> The contract deployed to: \" + deployed.options.address)\n",
    "}\n",
    "deploy()"
   ]
  },
  {
   "cell_type": "code",
   "execution_count": 23,
   "id": "23bc9a01",
   "metadata": {},
   "outputs": [
    {
     "name": "stdout",
     "output_type": "stream",
     "text": [
      "Deploying the contract from 0x9F4fE137D843278102461B24eD20c6C6C222a423\n",
      ">>> transactionHash0xe0db72483f4ebb990ed740cf6b25da46e3fe3f5028d6d440c22ace837498e7c2\n",
      ">>> RECEPIT hash: 0xe0db72483f4ebb990ed740cf6b25da46e3fe3f5028d6d440c22ace837498e7c2\n",
      ">>> address:0xfF8EB1f456FAeF094ca5a18e58C21f692632A2ec\n",
      "---> The contract deployed to: 0xfF8EB1f456FAeF094ca5a18e58C21f692632A2ec\n"
     ]
    }
   ],
   "source": [
    "!node src/C2Deploy.js"
   ]
  },
  {
   "cell_type": "code",
   "execution_count": 31,
   "id": "367f2b7a",
   "metadata": {},
   "outputs": [
    {
     "name": "stdout",
     "output_type": "stream",
     "text": [
      "Overwriting src/C2Use.js\n"
     ]
    }
   ],
   "source": [
    "%%writefile src/C2Use.js\n",
    "var Web3=require('web3');\n",
    "var web3 = new Web3(new Web3.providers.HttpProvider(\"http://localhost:8345\"));\n",
    "var fs=require('fs');\n",
    "var _str = fs.readFileSync(\"src/C2.json\");\n",
    "var _json = JSON.parse(_str)\n",
    "//var _abiArray = JSON.parse(_json.contracts.sHello2.abi);\n",
    "//var _abiArray = JSON.parse(_json.contracts[\"src/C2.sol:C2\"].abi);\n",
    "var _abiArray = _json.contracts[\"src/C2.sol:C2\"].abi;\n",
    "\n",
    "var c2 = new web3.eth.Contract(_abiArray, \"0xfF8EB1f456FAeF094ca5a18e58C21f692632A2ec\");\n",
    "async function doIt() {\n",
    "    const accounts = await web3.eth.getAccounts();\n",
    "    console.log(\"Account: \" + accounts[0]);\n",
    "    const balanceBefore = await web3.eth.getBalance(accounts[0]);\n",
    "    console.log(\"Balance before: \" + balanceBefore);\n",
    "    console.log(\"--- new C1 ---\");\n",
    "    await c2.methods.getC1Address().call(function(err, c1addr) {\n",
    "        if(!err) console.log(\"c1 address by 'new': \"+c1addr);\n",
    "    });\n",
    "    c2.methods.get7().call().then(function(res) { console.log(\"get7(): \"+res) });\n",
    "    console.log(\"--- set the above deployed address of C1 ---\");\n",
    "    await c2.methods.setC1(\"0x87A25DA685c13140dEF0D5B890e0D4692FEc54a9\").send({from:accounts[0], gas:50000});\n",
    "    await c2.methods.getC1Address().call(function(err, c1addr) {\n",
    "        if(!err) console.log(\"c1 address by 'setC1()': \"+c1addr);\n",
    "    });\n",
    "    c2.methods.get7().call().then(console.log);\n",
    "    await c2.methods.set(222).send({from: accounts[0],gas:50000});\n",
    "    c2.methods.get().call().then(console.log);\n",
    "    const balanceAfter = await web3.eth.getBalance(accounts[0]);\n",
    "    console.log(\"Balance after: \" + balanceAfter);\n",
    "    console.log(\"Balance diff: \" + (balanceBefore - balanceAfter));\n",
    "    //hello.methods.kill().send({from: accounts[0]})\n",
    "}\n",
    "\n",
    "doIt()"
   ]
  },
  {
   "cell_type": "code",
   "execution_count": 35,
   "id": "fb1ebb9c",
   "metadata": {},
   "outputs": [
    {
     "name": "stdout",
     "output_type": "stream",
     "text": [
      "Account: 0x9F4fE137D843278102461B24eD20c6C6C222a423\n",
      "Balance before: 999996866236000000000\n",
      "--- new C1 ---\n",
      "c1 address by 'new': 0x87A25DA685c13140dEF0D5B890e0D4692FEc54a9\n",
      "--- set the above deployed address of C1 ---\n",
      "get7(): 7\n",
      "c1 address by 'setC1()': 0x87A25DA685c13140dEF0D5B890e0D4692FEc54a9\n",
      "7\n",
      "Balance after: 999996758984000000000\n",
      "Balance diff: 107251999965184\n",
      "222\n"
     ]
    }
   ],
   "source": [
    "!node src/C2Use.js"
   ]
  },
  {
   "cell_type": "markdown",
   "id": "e5ff11bb",
   "metadata": {},
   "source": [
    "# 실습문제 - 스퀘어"
   ]
  },
  {
   "cell_type": "code",
   "execution_count": 41,
   "id": "59cf6e3b",
   "metadata": {},
   "outputs": [
    {
     "name": "stdout",
     "output_type": "stream",
     "text": [
      "Writing src/SquareArea.sol\n"
     ]
    }
   ],
   "source": [
    "%%writefile src/SquareArea.sol\n",
    "//SPDX-License-Identifier: GPL-3.0-or-later\n",
    "pragma solidity ^0.8.0;\n",
    "//pragma solidity ^0.6.0;\n",
    "//pragma solidity 0.4.21;\n",
    "\n",
    "contract Square {\n",
    "    uint128 length;\n",
    "    function getLength() public view returns(uint128) {\n",
    "        return length;\n",
    "    }\n",
    "    function setLength(uint128 _length) public {\n",
    "        length=_length;\n",
    "    }\n",
    "    function getDegree() public pure returns(uint128) {\n",
    "        return 90;\n",
    "    }\n",
    "}\n",
    "\n",
    "contract Area {\n",
    "    Square s;\n",
    "    address owner;\n",
    "    //event PrintLog(uint128);\n",
    "    //function Area() public {\n",
    "    constructor() { //constructor() public {\n",
    "        s = new Square();\n",
    "        owner = msg.sender;\n",
    "    }\n",
    "    function changeSquare(address _addressOfSquare) public {\n",
    "        s=Square(_addressOfSquare);\n",
    "    }\n",
    "    function calcArea() view public returns(uint128) {\n",
    "        uint128 length = s.getLength();\n",
    "        uint128 area = length*length;\n",
    "        //emit PrintLog(area);\n",
    "        return area;\n",
    "    }\n",
    "    function setLength(uint128 _length) public {\n",
    "        s.setLength(_length);\n",
    "    }\n",
    "    function getLength() public view returns(uint128) {\n",
    "        return s.getLength();\n",
    "    }\n",
    "    function getDegree() public view returns(uint128) {\n",
    "        return s.getDegree();\n",
    "    }\n",
    "    function getAddressOfSquare() public view returns(address) {\n",
    "        return address(s);\n",
    "    }\n",
    "}"
   ]
  },
  {
   "cell_type": "code",
   "execution_count": 42,
   "id": "d0377f07",
   "metadata": {},
   "outputs": [],
   "source": [
    "!solc-windows.exe src/SquareArea.sol --combined-json abi,bin > src/SquareArea.json"
   ]
  },
  {
   "cell_type": "code",
   "execution_count": 44,
   "id": "6026df0b",
   "metadata": {},
   "outputs": [
    {
     "name": "stdout",
     "output_type": "stream",
     "text": [
      "Writing src/SquareAreaDeploy.js\n"
     ]
    }
   ],
   "source": [
    "%%writefile src/SquareAreaDeploy.js\n",
    "var Web3 = require('web3');\n",
    "var web3 = new Web3(new Web3.providers.HttpProvider(\"http://localhost:8345\"));\n",
    "var fs=require('fs');\n",
    "var _str = fs.readFileSync(\"src/SquareArea.json\");\n",
    "var _json=JSON.parse(_str)\n",
    "//var _abiArray = JSON.parse(_json.contracts.sHello2.abi);\n",
    "//var _abiArray = JSON.parse(_json.contracts[\"src/SquareArea.sol:Area\"].abi);\n",
    "var _abiArray = _json.contracts[\"src/SquareArea.sol:Area\"].abi;\n",
    "//var _bin = _json.contracts.sHello2.bin;\n",
    "var _bin = \"0x\" + _json.contracts[\"src/SquareArea.sol:Area\"].bin;\n",
    "\n",
    "//unlock the account with a password provided\n",
    "//web3.personal.unlockAccount(web3.eth.accounts[0],'password');\n",
    "async function deploy() {\n",
    "    const accounts = await web3.eth.getAccounts();\n",
    "    console.log(\"Deploying the contract from \" + accounts[0]);\n",
    "    var deployed = await new web3.eth.Contract(_abiArray)\n",
    "        .deploy({data: _bin})\n",
    "        .send({from: accounts[0], gas: 1000000})\n",
    "        .on('transactionHash', function(hash){\n",
    "            console.log(\">>> transactionHash\"+hash);\n",
    "        })\n",
    "        .on('receipt', function(receipt){\n",
    "            console.log(\">>> RECEPIT hash: \" + receipt.transactionHash + \"\\n>>> address:\" + receipt.contractAddress);\n",
    "        })\n",
    "        .on('error', function(error, receipt) {\n",
    "            console.log(\">>> ERROR \"+error);\n",
    "        });\n",
    "        //.then(function(newContractInstance){\n",
    "        //    console.log(newContractInstance.options.address)\n",
    "        //});\n",
    "    console.log(\"---> The contract deployed to: \" + deployed.options.address)\n",
    "}\n",
    "\n",
    "deploy()"
   ]
  },
  {
   "cell_type": "code",
   "execution_count": 45,
   "id": "d33244ac",
   "metadata": {},
   "outputs": [
    {
     "name": "stdout",
     "output_type": "stream",
     "text": [
      "Deploying the contract from 0x9F4fE137D843278102461B24eD20c6C6C222a423\n",
      ">>> transactionHash0xc50d349f1a2039b9d28583585ed90d5d4368bdd7543b228d806ef7bc463f6633\n",
      ">>> RECEPIT hash: 0xc50d349f1a2039b9d28583585ed90d5d4368bdd7543b228d806ef7bc463f6633\n",
      ">>> address:0xf16d7DAC3FF5136f9d7bbd527D571B3D5Faf3A67\n",
      "---> The contract deployed to: 0xf16d7DAC3FF5136f9d7bbd527D571B3D5Faf3A67\n"
     ]
    }
   ],
   "source": [
    "!node src/SquareAreaDeploy.js"
   ]
  },
  {
   "cell_type": "markdown",
   "id": "c371db43",
   "metadata": {},
   "source": [
    "아래 SquareAreaUse.js 코드 실행시 websocket으로 열면 일부 코드가 실행안될수도있으므로 주의해서 판단할 것"
   ]
  },
  {
   "cell_type": "code",
   "execution_count": 52,
   "id": "b17ce5e5",
   "metadata": {},
   "outputs": [
    {
     "name": "stdout",
     "output_type": "stream",
     "text": [
      "Overwriting src/SquareAreaUse.js\n"
     ]
    }
   ],
   "source": [
    "%%writefile src/SquareAreaUse.js\n",
    "var Web3 = require('web3');\n",
    "var web3 = new Web3(new Web3.providers.HttpProvider(\"http://localhost:8345\"));         //nok\n",
    "//var web3 = new Web3(new Web3.providers.WebsocketProvider(\"http://117.16.44.45:8345\"));  //ok\n",
    "//var web3 = new Web3(new Web3.providers.WebsocketProvider(\"ws://localhost:8345\"));\n",
    "var fs=require('fs');\n",
    "var _str = fs.readFileSync(\"src/SquareArea.json\");\n",
    "var _json = JSON.parse(_str)\n",
    "//var _abiArray = JSON.parse(_json.contracts.sHello2.abi);\n",
    "//var _abiArray = JSON.parse(_json.contracts[\"src/SquareArea.sol:Area\"].abi);\n",
    "var _abiArray = _json.contracts[\"src/SquareArea.sol:Area\"].abi;\n",
    "\n",
    "async function doIt() {\n",
    "    var area = new web3.eth.Contract(_abiArray, \"0xf16d7DAC3FF5136f9d7bbd527D571B3D5Faf3A67\");\n",
    "    var speed;\n",
    "    const accounts = await web3.eth.getAccounts();\n",
    "    console.log(\"Account: \" + accounts[0]);\n",
    "    const balanceBefore = await web3.eth.getBalance(accounts[0]);\n",
    "    console.log(\"Balance before: \" + balanceBefore);\n",
    "    area.methods.getDegree().call().then(console.log);\n",
    "    await area.methods.setLength(9).send({from: accounts[0]});\n",
    "    area.methods.getLength().call().then(console.log);\n",
    "    //area.methods.calcArea().send({from: accounts[0]});\n",
    "    area.methods.calcArea().call().then(console.log);\n",
    "    area.methods.getAddressOfSquare().call().then(function(address) {\n",
    "        console.log(\"Square Address: \" + address);\n",
    "    });\n",
    "    const balanceAfter = await web3.eth.getBalance(accounts[0]);\n",
    "    console.log(\"Balance after: \" + balanceAfter);\n",
    "    console.log(\"Balance diff: \" + (balanceBefore - balanceAfter));\n",
    "    //process.exit(1); //force exit -> may terminate some functions (speedDownBy10, getSpeed)  \n",
    "}\n",
    "\n",
    "doIt()"
   ]
  },
  {
   "cell_type": "code",
   "execution_count": 53,
   "id": "e5fa0ded",
   "metadata": {},
   "outputs": [
    {
     "name": "stdout",
     "output_type": "stream",
     "text": [
      "Account: 0x9F4fE137D843278102461B24eD20c6C6C222a423\n",
      "Balance before: 999995215940000000000\n",
      "90\n",
      "Balance after: 999995157040000000000\n",
      "Balance diff: 58900000014336\n",
      "Square Address: 0x1087169f3905F6F0B46fCD0eD79995dE2657b56b\n",
      "9\n",
      "81\n"
     ]
    }
   ],
   "source": [
    "!node src/SquareAreaUse.js"
   ]
  },
  {
   "cell_type": "markdown",
   "id": "0ca94ca9",
   "metadata": {},
   "source": [
    "# 디파이 개발"
   ]
  },
  {
   "cell_type": "code",
   "execution_count": 13,
   "id": "a0a98273",
   "metadata": {},
   "outputs": [
    {
     "name": "stdout",
     "output_type": "stream",
     "text": [
      "Overwriting src/MyToken.sol\n"
     ]
    }
   ],
   "source": [
    "%%writefile src/MyToken.sol\n",
    "// SPDX-License-Identifier: MIT\n",
    "pragma solidity ^0.8.0;\n",
    "\n",
    "import \"@openzeppelin/contracts/token/ERC20/ERC20.sol\";\n",
    "\n",
    "contract MyToken is ERC20 {\n",
    "    constructor() ERC20(\"MyToken\", \"JSL\"){\n",
    "        _mint(msg.sender, 1000000000000000000000000);\n",
    "        //_mint(msg.sender, 1000000*decimals());\n",
    "    }\n",
    "}"
   ]
  },
  {
   "cell_type": "code",
   "execution_count": 38,
   "id": "0c7d550b",
   "metadata": {},
   "outputs": [],
   "source": [
    "!solc-windows.exe @openzeppelin/=\"C:\\\\Users\\\\Administrator\\\\Code\\\\201810825\\\\node_modules\\\\@openzeppelin\\\\\" --optimize --combined-json abi,bin src/MyToken.sol > src/MyToken.json"
   ]
  },
  {
   "cell_type": "code",
   "execution_count": 19,
   "id": "ab994dce",
   "metadata": {
    "scrolled": true
   },
   "outputs": [
    {
     "name": "stdout",
     "output_type": "stream",
     "text": [
      "{\"contracts\":{\"C://Users//Administrator//Code//201810825//node_modules//@openzeppelin/contracts/token/ERC20/ERC20.sol:ERC20\":{\"abi\":[{\"inputs\":[{\"internalType\":\"string\",\"name\":\"name_\",\"type\":\"string\"},{\"internalType\":\"string\",\"name\":\"symbol_\",\"type\":\"string\"}],\"stateMutability\":\"nonpayable\",\"type\":\"constructor\"},{\"anonymous\":false,\"inputs\":[{\"indexed\":true,\"internalType\":\"address\",\"name\":\"owner\",\"type\":\"address\"},{\"indexed\":true,\"internalType\":\"address\",\"name\":\"spender\",\"type\":\"address\"},{\"indexed\":false,\"internalType\":\"uint256\",\"name\":\"value\",\"type\":\"uint256\"}],\"name\":\"Approval\",\"type\":\"event\"},{\"anonymous\":false,\"inputs\":[{\"indexed\":true,\"internalType\":\"address\",\"name\":\"from\",\"type\":\"address\"},{\"indexed\":true,\"internalType\":\"address\",\"name\":\"to\",\"type\":\"address\"},{\"indexed\":false,\"internalType\":\"uint256\",\"name\":\"value\",\"type\":\"uint256\"}],\"name\":\"Transfer\",\"type\":\"event\"},{\"inputs\":[{\"internalType\":\"address\",\"name\":\"owner\",\"type\":\"address\"},{\"internalType\":\"address\",\"name\":\"spender\",\"type\":\"address\"}],\"name\":\"allowance\",\"outputs\":[{\"internalType\":\"uint256\",\"name\":\"\",\"type\":\"uint256\"}],\"stateMutability\":\"view\",\"type\":\"function\"},{\"inputs\":[{\"internalType\":\"address\",\"name\":\"spender\",\"type\":\"address\"},{\"internalType\":\"uint256\",\"name\":\"amount\",\"type\":\"uint256\"}],\"name\":\"approve\",\"outputs\":[{\"internalType\":\"bool\",\"name\":\"\",\"type\":\"bool\"}],\"stateMutability\":\"nonpayable\",\"type\":\"function\"},{\"inputs\":[{\"internalType\":\"address\",\"name\":\"account\",\"type\":\"address\"}],\"name\":\"balanceOf\",\"outputs\":[{\"internalType\":\"uint256\",\"name\":\"\",\"type\":\"uint256\"}],\"stateMutability\":\"view\",\"type\":\"function\"},{\"inputs\":[],\"name\":\"decimals\",\"outputs\":[{\"internalType\":\"uint8\",\"name\":\"\",\"type\":\"uint8\"}],\"stateMutability\":\"view\",\"type\":\"function\"},{\"inputs\":[{\"internalType\":\"address\",\"name\":\"spender\",\"type\":\"address\"},{\"internalType\":\"uint256\",\"name\":\"subtractedValue\",\"type\":\"uint256\"}],\"name\":\"decreaseAllowance\",\"outputs\":[{\"internalType\":\"bool\",\"name\":\"\",\"type\":\"bool\"}],\"stateMutability\":\"nonpayable\",\"type\":\"function\"},{\"inputs\":[{\"internalType\":\"address\",\"name\":\"spender\",\"type\":\"address\"},{\"internalType\":\"uint256\",\"name\":\"addedValue\",\"type\":\"uint256\"}],\"name\":\"increaseAllowance\",\"outputs\":[{\"internalType\":\"bool\",\"name\":\"\",\"type\":\"bool\"}],\"stateMutability\":\"nonpayable\",\"type\":\"function\"},{\"inputs\":[],\"name\":\"name\",\"outputs\":[{\"internalType\":\"string\",\"name\":\"\",\"type\":\"string\"}],\"stateMutability\":\"view\",\"type\":\"function\"},{\"inputs\":[],\"name\":\"symbol\",\"outputs\":[{\"internalType\":\"string\",\"name\":\"\",\"type\":\"string\"}],\"stateMutability\":\"view\",\"type\":\"function\"},{\"inputs\":[],\"name\":\"totalSupply\",\"outputs\":[{\"internalType\":\"uint256\",\"name\":\"\",\"type\":\"uint256\"}],\"stateMutability\":\"view\",\"type\":\"function\"},{\"inputs\":[{\"internalType\":\"address\",\"name\":\"to\",\"type\":\"address\"},{\"internalType\":\"uint256\",\"name\":\"amount\",\"type\":\"uint256\"}],\"name\":\"transfer\",\"outputs\":[{\"internalType\":\"bool\",\"name\":\"\",\"type\":\"bool\"}],\"stateMutability\":\"nonpayable\",\"type\":\"function\"},{\"inputs\":[{\"internalType\":\"address\",\"name\":\"from\",\"type\":\"address\"},{\"internalType\":\"address\",\"name\":\"to\",\"type\":\"address\"},{\"internalType\":\"uint256\",\"name\":\"amount\",\"type\":\"uint256\"}],\"name\":\"transferFrom\",\"outputs\":[{\"internalType\":\"bool\",\"name\":\"\",\"type\":\"bool\"}],\"stateMutability\":\"nonpayable\",\"type\":\"function\"}],\"bin\":\"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\"},\"C://Users//Administrator//Code//201810825//node_modules//@openzeppelin/contracts/token/ERC20/IERC20.sol:IERC20\":{\"abi\":[{\"anonymous\":false,\"inputs\":[{\"indexed\":true,\"internalType\":\"address\",\"name\":\"owner\",\"type\":\"address\"},{\"indexed\":true,\"internalType\":\"address\",\"name\":\"spender\",\"type\":\"address\"},{\"indexed\":false,\"internalType\":\"uint256\",\"name\":\"value\",\"type\":\"uint256\"}],\"name\":\"Approval\",\"type\":\"event\"},{\"anonymous\":false,\"inputs\":[{\"indexed\":true,\"internalType\":\"address\",\"name\":\"from\",\"type\":\"address\"},{\"indexed\":true,\"internalType\":\"address\",\"name\":\"to\",\"type\":\"address\"},{\"indexed\":false,\"internalType\":\"uint256\",\"name\":\"value\",\"type\":\"uint256\"}],\"name\":\"Transfer\",\"type\":\"event\"},{\"inputs\":[{\"internalType\":\"address\",\"name\":\"owner\",\"type\":\"address\"},{\"internalType\":\"address\",\"name\":\"spender\",\"type\":\"address\"}],\"name\":\"allowance\",\"outputs\":[{\"internalType\":\"uint256\",\"name\":\"\",\"type\":\"uint256\"}],\"stateMutability\":\"view\",\"type\":\"function\"},{\"inputs\":[{\"internalType\":\"address\",\"name\":\"spender\",\"type\":\"address\"},{\"internalType\":\"uint256\",\"name\":\"amount\",\"type\":\"uint256\"}],\"name\":\"approve\",\"outputs\":[{\"internalType\":\"bool\",\"name\":\"\",\"type\":\"bool\"}],\"stateMutability\":\"nonpayable\",\"type\":\"function\"},{\"inputs\":[{\"internalType\":\"address\",\"name\":\"account\",\"type\":\"address\"}],\"name\":\"balanceOf\",\"outputs\":[{\"internalType\":\"uint256\",\"name\":\"\",\"type\":\"uint256\"}],\"stateMutability\":\"view\",\"type\":\"function\"},{\"inputs\":[],\"name\":\"totalSupply\",\"outputs\":[{\"internalType\":\"uint256\",\"name\":\"\",\"type\":\"uint256\"}],\"stateMutability\":\"view\",\"type\":\"function\"},{\"inputs\":[{\"internalType\":\"address\",\"name\":\"to\",\"type\":\"address\"},{\"internalType\":\"uint256\",\"name\":\"amount\",\"type\":\"uint256\"}],\"name\":\"transfer\",\"outputs\":[{\"internalType\":\"bool\",\"name\":\"\",\"type\":\"bool\"}],\"stateMutability\":\"nonpayable\",\"type\":\"function\"},{\"inputs\":[{\"internalType\":\"address\",\"name\":\"from\",\"type\":\"address\"},{\"internalType\":\"address\",\"name\":\"to\",\"type\":\"address\"},{\"internalType\":\"uint256\",\"name\":\"amount\",\"type\":\"uint256\"}],\"name\":\"transferFrom\",\"outputs\":[{\"internalType\":\"bool\",\"name\":\"\",\"type\":\"bool\"}],\"stateMutability\":\"nonpayable\",\"type\":\"function\"}],\"bin\":\"\"},\"C://Users//Administrator//Code//201810825//node_modules//@openzeppelin/contracts/token/ERC20/extensions/IERC20Metadata.sol:IERC20Metadata\":{\"abi\":[{\"anonymous\":false,\"inputs\":[{\"indexed\":true,\"internalType\":\"address\",\"name\":\"owner\",\"type\":\"address\"},{\"indexed\":true,\"internalType\":\"address\",\"name\":\"spender\",\"type\":\"address\"},{\"indexed\":false,\"internalType\":\"uint256\",\"name\":\"value\",\"type\":\"uint256\"}],\"name\":\"Approval\",\"type\":\"event\"},{\"anonymous\":false,\"inputs\":[{\"indexed\":true,\"internalType\":\"address\",\"name\":\"from\",\"type\":\"address\"},{\"indexed\":true,\"internalType\":\"address\",\"name\":\"to\",\"type\":\"address\"},{\"indexed\":false,\"internalType\":\"uint256\",\"name\":\"value\",\"type\":\"uint256\"}],\"name\":\"Transfer\",\"type\":\"event\"},{\"inputs\":[{\"internalType\":\"address\",\"name\":\"owner\",\"type\":\"address\"},{\"internalType\":\"address\",\"name\":\"spender\",\"type\":\"address\"}],\"name\":\"allowance\",\"outputs\":[{\"internalType\":\"uint256\",\"name\":\"\",\"type\":\"uint256\"}],\"stateMutability\":\"view\",\"type\":\"function\"},{\"inputs\":[{\"internalType\":\"address\",\"name\":\"spender\",\"type\":\"address\"},{\"internalType\":\"uint256\",\"name\":\"amount\",\"type\":\"uint256\"}],\"name\":\"approve\",\"outputs\":[{\"internalType\":\"bool\",\"name\":\"\",\"type\":\"bool\"}],\"stateMutability\":\"nonpayable\",\"type\":\"function\"},{\"inputs\":[{\"internalType\":\"address\",\"name\":\"account\",\"type\":\"address\"}],\"name\":\"balanceOf\",\"outputs\":[{\"internalType\":\"uint256\",\"name\":\"\",\"type\":\"uint256\"}],\"stateMutability\":\"view\",\"type\":\"function\"},{\"inputs\":[],\"name\":\"decimals\",\"outputs\":[{\"internalType\":\"uint8\",\"name\":\"\",\"type\":\"uint8\"}],\"stateMutability\":\"view\",\"type\":\"function\"},{\"inputs\":[],\"name\":\"name\",\"outputs\":[{\"internalType\":\"string\",\"name\":\"\",\"type\":\"string\"}],\"stateMutability\":\"view\",\"type\":\"function\"},{\"inputs\":[],\"name\":\"symbol\",\"outputs\":[{\"internalType\":\"string\",\"name\":\"\",\"type\":\"string\"}],\"stateMutability\":\"view\",\"type\":\"function\"},{\"inputs\":[],\"name\":\"totalSupply\",\"outputs\":[{\"internalType\":\"uint256\",\"name\":\"\",\"type\":\"uint256\"}],\"stateMutability\":\"view\",\"type\":\"function\"},{\"inputs\":[{\"internalType\":\"address\",\"name\":\"to\",\"type\":\"address\"},{\"internalType\":\"uint256\",\"name\":\"amount\",\"type\":\"uint256\"}],\"name\":\"transfer\",\"outputs\":[{\"internalType\":\"bool\",\"name\":\"\",\"type\":\"bool\"}],\"stateMutability\":\"nonpayable\",\"type\":\"function\"},{\"inputs\":[{\"internalType\":\"address\",\"name\":\"from\",\"type\":\"address\"},{\"internalType\":\"address\",\"name\":\"to\",\"type\":\"address\"},{\"internalType\":\"uint256\",\"name\":\"amount\",\"type\":\"uint256\"}],\"name\":\"transferFrom\",\"outputs\":[{\"internalType\":\"bool\",\"name\":\"\",\"type\":\"bool\"}],\"stateMutability\":\"nonpayable\",\"type\":\"function\"}],\"bin\":\"\"},\"C://Users//Administrator//Code//201810825//node_modules//@openzeppelin/contracts/utils/Context.sol:Context\":{\"abi\":[],\"bin\":\"\"},\"src/MyToken.sol:MyToken\":{\"abi\":[{\"inputs\":[],\"stateMutability\":\"nonpayable\",\"type\":\"constructor\"},{\"anonymous\":false,\"inputs\":[{\"indexed\":true,\"internalType\":\"address\",\"name\":\"owner\",\"type\":\"address\"},{\"indexed\":true,\"internalType\":\"address\",\"name\":\"spender\",\"type\":\"address\"},{\"indexed\":false,\"internalType\":\"uint256\",\"name\":\"value\",\"type\":\"uint256\"}],\"name\":\"Approval\",\"type\":\"event\"},{\"anonymous\":false,\"inputs\":[{\"indexed\":true,\"internalType\":\"address\",\"name\":\"from\",\"type\":\"address\"},{\"indexed\":true,\"internalType\":\"address\",\"name\":\"to\",\"type\":\"address\"},{\"indexed\":false,\"internalType\":\"uint256\",\"name\":\"value\",\"type\":\"uint256\"}],\"name\":\"Transfer\",\"type\":\"event\"},{\"inputs\":[{\"internalType\":\"address\",\"name\":\"owner\",\"type\":\"address\"},{\"internalType\":\"address\",\"name\":\"spender\",\"type\":\"address\"}],\"name\":\"allowance\",\"outputs\":[{\"internalType\":\"uint256\",\"name\":\"\",\"type\":\"uint256\"}],\"stateMutability\":\"view\",\"type\":\"function\"},{\"inputs\":[{\"internalType\":\"address\",\"name\":\"spender\",\"type\":\"address\"},{\"internalType\":\"uint256\",\"name\":\"amount\",\"type\":\"uint256\"}],\"name\":\"approve\",\"outputs\":[{\"internalType\":\"bool\",\"name\":\"\",\"type\":\"bool\"}],\"stateMutability\":\"nonpayable\",\"type\":\"function\"},{\"inputs\":[{\"internalType\":\"address\",\"name\":\"account\",\"type\":\"address\"}],\"name\":\"balanceOf\",\"outputs\":[{\"internalType\":\"uint256\",\"name\":\"\",\"type\":\"uint256\"}],\"stateMutability\":\"view\",\"type\":\"function\"},{\"inputs\":[],\"name\":\"decimals\",\"outputs\":[{\"internalType\":\"uint8\",\"name\":\"\",\"type\":\"uint8\"}],\"stateMutability\":\"view\",\"type\":\"function\"},{\"inputs\":[{\"internalType\":\"address\",\"name\":\"spender\",\"type\":\"address\"},{\"internalType\":\"uint256\",\"name\":\"subtractedValue\",\"type\":\"uint256\"}],\"name\":\"decreaseAllowance\",\"outputs\":[{\"internalType\":\"bool\",\"name\":\"\",\"type\":\"bool\"}],\"stateMutability\":\"nonpayable\",\"type\":\"function\"},{\"inputs\":[{\"internalType\":\"address\",\"name\":\"spender\",\"type\":\"address\"},{\"internalType\":\"uint256\",\"name\":\"addedValue\",\"type\":\"uint256\"}],\"name\":\"increaseAllowance\",\"outputs\":[{\"internalType\":\"bool\",\"name\":\"\",\"type\":\"bool\"}],\"stateMutability\":\"nonpayable\",\"type\":\"function\"},{\"inputs\":[],\"name\":\"name\",\"outputs\":[{\"internalType\":\"string\",\"name\":\"\",\"type\":\"string\"}],\"stateMutability\":\"view\",\"type\":\"function\"},{\"inputs\":[],\"name\":\"symbol\",\"outputs\":[{\"internalType\":\"string\",\"name\":\"\",\"type\":\"string\"}],\"stateMutability\":\"view\",\"type\":\"function\"},{\"inputs\":[],\"name\":\"totalSupply\",\"outputs\":[{\"internalType\":\"uint256\",\"name\":\"\",\"type\":\"uint256\"}],\"stateMutability\":\"view\",\"type\":\"function\"},{\"inputs\":[{\"internalType\":\"address\",\"name\":\"to\",\"type\":\"address\"},{\"internalType\":\"uint256\",\"name\":\"amount\",\"type\":\"uint256\"}],\"name\":\"transfer\",\"outputs\":[{\"internalType\":\"bool\",\"name\":\"\",\"type\":\"bool\"}],\"stateMutability\":\"nonpayable\",\"type\":\"function\"},{\"inputs\":[{\"internalType\":\"address\",\"name\":\"from\",\"type\":\"address\"},{\"internalType\":\"address\",\"name\":\"to\",\"type\":\"address\"},{\"internalType\":\"uint256\",\"name\":\"amount\",\"type\":\"uint256\"}],\"name\":\"transferFrom\",\"outputs\":[{\"internalType\":\"bool\",\"name\":\"\",\"type\":\"bool\"}],\"stateMutability\":\"nonpayable\",\"type\":\"function\"}],\"bin\":\"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\"}},\"version\":\"0.8.0+commit.c7dfd78e.Windows.msvc\"}\n"
     ]
    }
   ],
   "source": [
    "!type src\\MyToken.json"
   ]
  },
  {
   "cell_type": "markdown",
   "id": "63f5b23f",
   "metadata": {},
   "source": [
    "일반 컴파일로는 @뒤에 붙는것들이 인식이 되지 않아서 경로 재지정을 통해 오류를 해결"
   ]
  },
  {
   "cell_type": "code",
   "execution_count": 17,
   "id": "3dfec778",
   "metadata": {
    "scrolled": true
   },
   "outputs": [
    {
     "name": "stdout",
     "output_type": "stream",
     "text": [
      "Writing src/MyTokenTest.js\n"
     ]
    }
   ],
   "source": [
    "%%writefile src/MyTokenTest.js\n",
    "var _abiJson = require('./MyToken.json');\n",
    "contractName=Object.keys(_abiJson.contracts); \n",
    "console.log(\"- contract name: \", contractName[4]); //reading src/MyToken.sol:MyToken"
   ]
  },
  {
   "cell_type": "code",
   "execution_count": 18,
   "id": "66473aee",
   "metadata": {
    "scrolled": true
   },
   "outputs": [
    {
     "name": "stdout",
     "output_type": "stream",
     "text": [
      "- contract name:  src/MyToken.sol:MyToken\n"
     ]
    }
   ],
   "source": [
    "!node src/MyTokenTest.js"
   ]
  },
  {
   "cell_type": "code",
   "execution_count": 20,
   "id": "1c9b5995",
   "metadata": {},
   "outputs": [
    {
     "name": "stdout",
     "output_type": "stream",
     "text": [
      "Writing src/MyTokenDeployAbiBinFromFile.js\n"
     ]
    }
   ],
   "source": [
    "%%writefile src/MyTokenDeployAbiBinFromFile.js\n",
    "var Web3=require('web3');\n",
    "var _abiBinJson = require('./MyToken.json');\n",
    "\n",
    "var web3;\n",
    "if (typeof web3 !== 'undefined') {\n",
    "    web3 = new Web3(web3.currentProvider);\n",
    "} else {\n",
    "    web3 = new Web3(new Web3.providers.HttpProvider(\"http://localhost:8345\"));\n",
    "}\n",
    "\n",
    "contractName=Object.keys(_abiBinJson.contracts);\n",
    "console.log(\"- contract name: \", contractName[4]); //or console.log(contractName);\n",
    "\n",
    "//_abi=_abiBinJson.contracts[contractName[4]].abi\n",
    "//_bin=_abiBinJson.contracts[contractName[4]].bin\n",
    "\n",
    "\n",
    "//contractName=Object.keys(_abiJson.contracts); // reading ['src//Timer.sol:Timer'];\n",
    "//console.log(\"- contract name: \", contractName[4]); //or console.log(contractName);\n",
    "_abiArray=JSON.parse(JSON.stringify(_abiBinJson.contracts[contractName[4]].abi));    //JSON parsing needed!!\n",
    "//_abiArray=JSON.stringify(_abi)\n",
    "_bin=\"0x\"+_abiBinJson.contracts[contractName[4]].bin;\n",
    "//console.log(\"- ABI: \" + JSON.stringify(_abiArray));\n",
    "//console.log(\"- Bytecode: \" + _bin);\n",
    "\n",
    "//unlock the account with a password provided\n",
    "//web3.personal.unlockAccount(web3.eth.accounts[0],'password');\n",
    "\n",
    "async function deploy() {\n",
    "    const accounts = await web3.eth.getAccounts();\n",
    "    console.log(\"Deploying the contract from \" + accounts[0]);\n",
    "    var deployed = await new web3.eth.Contract(_abiArray)\n",
    "        .deploy({data: _bin})\n",
    "        .send({from: accounts[0], gas: 1000000}, function(err, transactionHash) {\n",
    "                if(!err) console.log(\"hash: \" + transactionHash); \n",
    "        })\n",
    "        //.then(function(newContractInstance){\n",
    "        //    console.log(newContractInstance.options.address)\n",
    "        //});\n",
    "    console.log(\"---> The contract deployed to: \" + deployed.options.address)\n",
    "}\n",
    "deploy()"
   ]
  },
  {
   "cell_type": "code",
   "execution_count": 21,
   "id": "fbca0f37",
   "metadata": {},
   "outputs": [
    {
     "name": "stdout",
     "output_type": "stream",
     "text": [
      "- contract name:  src/MyToken.sol:MyToken\n",
      "Deploying the contract from 0xA7c5b2123CDf8cC2f01cE15204D79Ebb8aB226c0\n",
      "hash: 0x5f64b6f4af1efecf97a8d23622e45ab0c6f5e85095890f4921033ee19e460eee\n",
      "---> The contract deployed to: 0xba54B9305bbBe728db815ea6cF46A8C5d1Df70bD\n"
     ]
    }
   ],
   "source": [
    "!node src/MyTokenDeployAbiBinFromFile.js"
   ]
  },
  {
   "cell_type": "code",
   "execution_count": 22,
   "id": "2918be4b",
   "metadata": {},
   "outputs": [
    {
     "name": "stdout",
     "output_type": "stream",
     "text": [
      "Writing src/MyTokenUse.js\n"
     ]
    }
   ],
   "source": [
    "%%writefile src/MyTokenUse.js\n",
    "var Web3=require('web3');\n",
    "var _abiBinJson = require('./MyToken.json');\n",
    "\n",
    "var web3 = new Web3(new Web3.providers.HttpProvider(\"http://localhost:8345\"));\n",
    "\n",
    "contractName=Object.keys(_abiBinJson.contracts); \n",
    "console.log(\"- contract name: \", contractName[4]);// reading ['src//Timer.sol:Timer']\n",
    "var _abiArray=JSON.parse(JSON.stringify(_abiBinJson.contracts[contractName[4]].abi));    //JSON parsing needed!!\n",
    "\n",
    "var _test = new web3.eth.Contract(_abiArray, '0xba54B9305bbBe728db815ea6cF46A8C5d1Df70bD');\n",
    "\n",
    "async function doIt() {\n",
    "    const accounts = await web3.eth.getAccounts();\n",
    "    console.log(\"Account: \" + accounts[0]);\n",
    "    const balanceBefore = await web3.eth.getBalance(accounts[0]);\n",
    "    console.log(\"Balance before: \" + balanceBefore);\n",
    "    \n",
    "    const name = await _test.methods.name().call();\n",
    "    console.log(\"name: \" + name);\n",
    "    const decimals = await _test.methods.decimals().call();\n",
    "    console.log(\"decimals: \" + decimals);\n",
    "    const value = await _test.methods.totalSupply().call();\n",
    "    console.log(\"totalSupply: \" + value);\n",
    "\n",
    "    console.log(\"-----1 before transfer-----\");\n",
    "    console.log(\"1-1 balanceOfAccount0: \" + await _test.methods.balanceOf(accounts[0]).call());\n",
    "    console.log(\"1-2 balanceOfAccount1: \" + await _test.methods.balanceOf(accounts[1]).call());\n",
    "    await _test.methods.transfer(accounts[1], 1)\n",
    "        .send({from: accounts[0], gas: 364124, gasPrice: '1000000000'})\n",
    "    console.log(\"-----2 after transfer-----\");\n",
    "    console.log(\"2-1 balanceOfAccount0: \" + await _test.methods.balanceOf(accounts[0]).call());\n",
    "    console.log(\"2-2 balanceOfAccount1: \" + await _test.methods.balanceOf(accounts[1]).call());\n",
    "    console.log(\"-----3 after approve and transferFrom-----\");    \n",
    "    var addrTo = accounts[0];\n",
    "    console.log(\"3-1 allowanceOfAddrTo: \"+ await _test.methods.allowance(accounts[0], addrTo).call());\n",
    "    await _test.methods.approve(addrTo, 111)\n",
    "        .send({from: accounts[0], gas: 100000});\n",
    "    console.log(\"3-2 allowanceOfAddrTo 111: \"+ await _test.methods.allowance(accounts[0], addrTo).call());\n",
    "    await _test.methods.transferFrom(addrTo, accounts[1], 1)\n",
    "        .send({from: accounts[0], gas: 3641240, gasPrice: '1000000000'})\n",
    "    console.log(\"3-3 balanceOfAccount0: \" + await _test.methods.balanceOf(accounts[0]).call());\n",
    "    console.log(\"3-4 balanceOfAccount1: \" + await _test.methods.balanceOf(accounts[1]).call());\n",
    "    //const value = await _test.methods.myFunction()\n",
    "    //    .send({from: accounts[0], gas: 364124, gasPrice: '1000000000'})\n",
    "        //.then(function(value) {console.log(\"---> myFunction called \" + JSON.stringify(value.events.MyLog.returnValues));});\n",
    "    //console.log(\"---> myFunction called \" + JSON.stringify(value.events.MyLog.returnValues));\n",
    "    const balanceAfter = await web3.eth.getBalance(accounts[0]);\n",
    "    console.log(\"Balance after: \" + balanceAfter);\n",
    "    console.log(\"Balance diff: \" + (balanceBefore - balanceAfter));\n",
    "}\n",
    "doIt()"
   ]
  },
  {
   "cell_type": "code",
   "execution_count": 23,
   "id": "cac8f51d",
   "metadata": {},
   "outputs": [
    {
     "name": "stdout",
     "output_type": "stream",
     "text": [
      "- contract name:  src/MyToken.sol:MyToken\n",
      "Account: 0xA7c5b2123CDf8cC2f01cE15204D79Ebb8aB226c0\n",
      "Balance before: 999998668672000000000\n",
      "name: MyToken\n",
      "decimals: 18\n",
      "totalSupply: 1000000000000000000000000\n",
      "-----1 before transfer-----\n",
      "1-1 balanceOfAccount0: 1000000000000000000000000\n",
      "1-2 balanceOfAccount1: 0\n",
      "-----2 after transfer-----\n",
      "2-1 balanceOfAccount0: 999999999999999999999999\n",
      "2-2 balanceOfAccount1: 1\n",
      "-----3 after approve and transferFrom-----\n",
      "3-1 allowanceOfAddrTo: 0\n",
      "3-2 allowanceOfAddrTo 111: 111\n",
      "3-3 balanceOfAccount0: 999999999999999999999998\n",
      "3-4 balanceOfAccount1: 2\n",
      "Balance after: 999998481953000000000\n",
      "Balance diff: 186719000068096\n"
     ]
    }
   ],
   "source": [
    "!node src/MyTokenUse.js"
   ]
  },
  {
   "cell_type": "markdown",
   "id": "cdc9e5c9",
   "metadata": {},
   "source": [
    "QmXfKWE57ZCb45AZPJnU2rburapxQuDka5ZADa4VDq3sWH"
   ]
  },
  {
   "cell_type": "code",
   "execution_count": 65,
   "id": "4de72a19",
   "metadata": {},
   "outputs": [
    {
     "name": "stdout",
     "output_type": "stream",
     "text": [
      "Overwriting src/nftHelloUri.json\n"
     ]
    }
   ],
   "source": [
    "%%writefile src/nftHelloUri.json\n",
    "{\n",
    "    \"name\": \"Hello DApp Screens\",\n",
    "    \"description\": \"Screens to Deploy the Hello DApp\",\n",
    "    \"image\": \"https://ipfs.io/ipfs/QmXfKWE57ZCb45AZPJnU2rburapxQuDka5ZADa4VDq3sWH\"\n",
    "}"
   ]
  },
  {
   "cell_type": "code",
   "execution_count": 66,
   "id": "97994810",
   "metadata": {},
   "outputs": [],
   "source": [
    "from pinatapy import PinataPy\n",
    "APIKey=\"dd919f2451a5e3430fde\"\n",
    "APISecret=\"7d30ee7c789e18ca477c89cd69719c597382673248c3e0f26d1f24a58469914c\"\n",
    "pinata = PinataPy(APIKey, APISecret)"
   ]
  },
  {
   "cell_type": "code",
   "execution_count": 67,
   "id": "f17ac76e",
   "metadata": {
    "scrolled": true
   },
   "outputs": [
    {
     "name": "stdout",
     "output_type": "stream",
     "text": [
      "{'IpfsHash': 'QmTUFcjfuTJdjME1WYvY18srF9Rj2VDSwHUVW5Uqw72Q7i', 'PinSize': 192, 'Timestamp': '2022-06-13T08:07:06.930Z', 'isDuplicate': True}\n"
     ]
    }
   ],
   "source": [
    "# Upload the file\n",
    "result = pinata.pin_file_to_ipfs(\"src/nftHelloUri.json\")\n",
    "# Should return the CID (unique identifier) of the file\n",
    "print(result)"
   ]
  },
  {
   "cell_type": "markdown",
   "id": "8509a521",
   "metadata": {},
   "source": [
    "API Key: dd919f2451a5e3430fde\n",
    " API Secret: 7d30ee7c789e18ca477c89cd69719c597382673248c3e0f26d1f24a58469914c\n",
    " JWT: eyJhbGciOiJIUzI1NiIsInR5cCI6IkpXVCJ9.eyJ1c2VySW5mb3JtYXRpb24iOnsiaWQiOiJjNzQ4MjhkYS1kODgxLTQwYzctYTRjZS0xODA2NmQ1Mjg4NDAiLCJlbWFpbCI6Imhvbmdjb21hQG5hdmVyLmNvbSIsImVtYWlsX3ZlcmlmaWVkIjp0cnVlLCJwaW5fcG9saWN5Ijp7InJlZ2lvbnMiOlt7ImlkIjoiRlJBMSIsImRlc2lyZWRSZXBsaWNhdGlvbkNvdW50IjoxfSx7ImlkIjoiTllDMSIsImRlc2lyZWRSZXBsaWNhdGlvbkNvdW50IjoxfV0sInZlcnNpb24iOjF9LCJtZmFfZW5hYmxlZCI6ZmFsc2UsInN0YXR1cyI6IkFDVElWRSJ9LCJhdXRoZW50aWNhdGlvblR5cGUiOiJzY29wZWRLZXkiLCJzY29wZWRLZXlLZXkiOiJkZDkxOWYyNDUxYTVlMzQzMGZkZSIsInNjb3BlZEtleVNlY3JldCI6IjdkMzBlZTdjNzg5ZTE4Y2E0NzdjODljZDY5NzE5YzU5NzM4MjY3MzI0OGMzZTBmMjZkMWYyNGE1ODQ2OTkxNGMiLCJpYXQiOjE2NTUxMDc2MDB9.LLsqN6ZGULGN7BNKn5cIFeiUNwDKD-YrZgiygTY4hhA"
   ]
  },
  {
   "cell_type": "markdown",
   "id": "04b32730",
   "metadata": {},
   "source": [
    "# NFT 만들기"
   ]
  },
  {
   "cell_type": "code",
   "execution_count": 73,
   "id": "8283c350",
   "metadata": {},
   "outputs": [
    {
     "name": "stdout",
     "output_type": "stream",
     "text": [
      "Overwriting src/MyNFT.sol\n"
     ]
    }
   ],
   "source": [
    "%%writefile src/MyNFT.sol\n",
    "// SPDX-License-Identifier: MIT\n",
    "pragma solidity ^0.8.0;\n",
    "\n",
    "import \"@openzeppelin/contracts/token/ERC721/ERC721.sol\";\n",
    "//import \"https://github.com/OpenZeppelin/openzeppelin-contracts/blob/v4.4.0/contracts/token/ERC721/ERC721.sol\";\n",
    "import \"@openzeppelin/contracts/utils/Counters.sol\";\n",
    "//import \"https://github.com/OpenZeppelin/openzeppelin-contracts/blob/v4.4.0/contracts/utils/Counters.sol\";\n",
    "\n",
    "contract MyNFT is ERC721 {\n",
    "    using Counters for Counters.Counter;\n",
    "    Counters.Counter private _tokenIds;//NFT id\n",
    "    \n",
    "    constructor() ERC721(\"Hello DApp Screens\", \"JSL\") {}\n",
    "    // override\n",
    "    // does not save toeknURI in the state var\n",
    "    function _baseURI() internal pure override returns (string memory) {\n",
    "        return \"https://ipfs.io/ipfs/QmbdwcmzYacLZHLBAhAsaJm2aPV1bzBjFjweD1UgZzkEtA\";\n",
    "    }\n",
    "\n",
    "    function mint(address to) public returns(uint256) {\n",
    "        //require(_tokenIds.current() < 3); //only 3 to mint\n",
    "        _tokenIds.increment(); // add 1 by minting\n",
    "        uint256 newTokenId = _tokenIds.current();\n",
    "        _mint(to, newTokenId); // or _safeMint(to, newTokenId);\n",
    "\n",
    "        return newTokenId;\n",
    "    }\n",
    "}"
   ]
  },
  {
   "cell_type": "code",
   "execution_count": 1,
   "id": "e19bed92",
   "metadata": {},
   "outputs": [
    {
     "name": "stderr",
     "output_type": "stream",
     "text": [
      "Error: Source file requires different compiler version (current compiler is 0.8.0+commit.c7dfd78e.Windows.msvc) - note that nightly builds are considered to be strictly less than the released version\n",
      " --> C://Users//Administrator//Code//201810825//node_modules//@openzeppelin/contracts/utils/Address.sol:4:1:\n",
      "  |\n",
      "4 | pragma solidity ^0.8.1;\n",
      "  | ^^^^^^^^^^^^^^^^^^^^^^^\n",
      "\n"
     ]
    }
   ],
   "source": [
    "!solc-windows.exe @openzeppelin/=\"C:\\\\Users\\\\Administrator\\\\Code\\\\201810825\\\\node_modules\\\\@openzeppelin\\\\\" --optimize --combined-json abi,bin src/MyNFT.sol > src/MyNFT.json"
   ]
  },
  {
   "cell_type": "code",
   "execution_count": null,
   "id": "0446b25d",
   "metadata": {},
   "outputs": [],
   "source": []
  }
 ],
 "metadata": {
  "kernelspec": {
   "display_name": "Python 3 (ipykernel)",
   "language": "python",
   "name": "python3"
  },
  "language_info": {
   "codemirror_mode": {
    "name": "ipython",
    "version": 3
   },
   "file_extension": ".py",
   "mimetype": "text/x-python",
   "name": "python",
   "nbconvert_exporter": "python",
   "pygments_lexer": "ipython3",
   "version": "3.10.3"
  }
 },
 "nbformat": 4,
 "nbformat_minor": 5
}
