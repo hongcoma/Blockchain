{
 "cells": [
  {
   "cell_type": "markdown",
   "id": "e546ff3b",
   "metadata": {},
   "source": [
    "# 블록체인프로그래밍 5주차 과제 201810825 홍종현"
   ]
  },
  {
   "cell_type": "markdown",
   "id": "0b1aa819",
   "metadata": {},
   "source": [
    "# 연습문제 1\n",
    "### 1-1. ganache를 백그라운드로 띄우고, node에서 연결하여, coinbase주소를 출력하세요."
   ]
  },
  {
   "cell_type": "code",
   "execution_count": 298,
   "id": "bdf831df",
   "metadata": {},
   "outputs": [
    {
     "name": "stdout",
     "output_type": "stream",
     "text": [
      "Overwriting src/web3ethCommands.js\n"
     ]
    }
   ],
   "source": [
    "%%writefile src/web3ethCommands.js\n",
    "var Web3 = require('web3');\n",
    "var web3 = new Web3('http://localhost:8345');\n",
    "async function getAccount0() {\n",
    "    accounts = await web3.eth.getAccounts();\n",
    "    account0=accounts[0];\n",
    "    console.log(\"coinbase: \" + account0);\n",
    "}\n",
    "getAccount0()"
   ]
  },
  {
   "cell_type": "code",
   "execution_count": 299,
   "id": "e97b4b18",
   "metadata": {},
   "outputs": [
    {
     "name": "stdout",
     "output_type": "stream",
     "text": [
      "coinbase: 0x1785dcD3F897d13743134C521779182335f4Eb86\n"
     ]
    }
   ],
   "source": [
    "!node src/web3ethCommands.js"
   ]
  },
  {
   "cell_type": "markdown",
   "id": "db60940a",
   "metadata": {},
   "source": [
    "### 1-2. 문제1-1을 geth를 띄우고 실행해보세요. geth에서의 coinbase를 출력하세요."
   ]
  },
  {
   "cell_type": "code",
   "execution_count": 300,
   "id": "04e5e82f",
   "metadata": {},
   "outputs": [
    {
     "name": "stdout",
     "output_type": "stream",
     "text": [
      "\"0x85029c4088106a959727efdf3102d511bdcb4722\"\n"
     ]
    }
   ],
   "source": [
    "!geth --exec eth.coinbase attach http://localhost:8445"
   ]
  },
  {
   "cell_type": "markdown",
   "id": "d29620df",
   "metadata": {},
   "source": [
    "### 1-3. ganache의 coinbase에서 geth의 coinbase로 1 ether를 송금해 보세요. 송금 성공이면 잔고변화를 출력하고, 실패이면 그 이유를 간단히 설명하세요.\n"
   ]
  },
  {
   "cell_type": "code",
   "execution_count": 301,
   "id": "3283fa78",
   "metadata": {},
   "outputs": [
    {
     "name": "stdout",
     "output_type": "stream",
     "text": [
      "Overwriting src/ganachetransact.js\n"
     ]
    }
   ],
   "source": [
    "%%writefile src/ganachetransact.js\n",
    "var Web3 = require('web3');\n",
    "var web3 = new Web3('http://localhost:8345');\n",
    "\n",
    "async function transact() {\n",
    "    b1=await web3.eth.getBalance(\"0x1785dcD3F897d13743134C521779182335f4Eb86\");\n",
    "    b2=await web3.eth.getBalance(\"0x85029c4088106a959727efdf3102d511bdcb4722\");\n",
    "    console.log('sender balance in ether: ',web3.utils.fromWei(b1,\"ether\"));\n",
    "    console.log('receiver balance in ether: ',web3.utils.fromWei(b2,\"ether\"));\n",
    "    h = await web3.eth.sendTransaction({from:\"0x1785dcD3F897d13743134C521779182335f4Eb86\", to:\"0x85029c4088106a959727efdf3102d511bdcb4722\",value:1000000000000000000});\n",
    "    nb1=await web3.eth.getBalance(\"0x1785dcD3F897d13743134C521779182335f4Eb86\");\n",
    "    nb2=await web3.eth.getBalance(\"0x85029c4088106a959727efdf3102d511bdcb4722\");\n",
    "    console.log('new sender balance in ether: ',web3.utils.fromWei(nb1,\"ether\"));\n",
    "    console.log('new receiver balance in ether: ',web3.utils.fromWei(nb2,\"ether\"));\n",
    "}\n",
    "transact()\n",
    "\n"
   ]
  },
  {
   "cell_type": "code",
   "execution_count": 302,
   "id": "31d92168",
   "metadata": {},
   "outputs": [
    {
     "name": "stdout",
     "output_type": "stream",
     "text": [
      "sender balance in ether:  941.997564\n",
      "receiver balance in ether:  58\n",
      "new sender balance in ether:  940.997522\n",
      "new receiver balance in ether:  59\n"
     ]
    }
   ],
   "source": [
    "!node src/ganachetransact.js attach http://localhost:8345"
   ]
  },
  {
   "cell_type": "markdown",
   "id": "27c35e6b",
   "metadata": {},
   "source": [
    "## discussion\n",
    "- jupyter notebook에서 geth에 접근하였을때 geth의 coinbase의 잔고가 늘어나는것을 볼 수 있다. \n",
    "- 현재 코드를 수없이 실행하여 많은 ether를 보유한것으로 표기되지만 최초값은 0이었고, 실행시마다 1eth씩 늘어났다.\n",
    "- 강의자료에서도 geth의 잔고는 변함없는것으로 나와있어 이상함을 느껴 geth를 콘솔로 실행시켜 getBalance를 해보았더니 송금되기 전 금액과 변화가 없었다.\n",
    "- 그 이유를 생각해보았을때 geth콘솔은 port8445로 접근하지만 ganache에서 송금할때는 web3를 port8345로 접근하였기 때문으로 추측된다."
   ]
  },
  {
   "cell_type": "markdown",
   "id": "e0b74625",
   "metadata": {},
   "source": [
    "# 연습문제 2\n",
    "### 2-1. ganache에 연결하고, 현재 coinbase의 잔고를 ether로 출력하세요."
   ]
  },
  {
   "cell_type": "code",
   "execution_count": 303,
   "id": "862006d5",
   "metadata": {},
   "outputs": [
    {
     "name": "stdout",
     "output_type": "stream",
     "text": [
      "Overwriting src/web3ethCoinbase.js\n"
     ]
    }
   ],
   "source": [
    "%%writefile src/web3ethCoinbase.js\n",
    "var Web3 = require('web3');\n",
    "var web3 = new Web3('http://localhost:8345');\n",
    "async function coinbase() {\n",
    "    accounts = await web3.eth.getAccounts();\n",
    "    account0=accounts[0];\n",
    "    cb=await web3.eth.getBalance(account0);\n",
    "    console.log('coinbase balance:',web3.utils.fromWei(cb,\"ether\"));\n",
    "}\n",
    "coinbase();"
   ]
  },
  {
   "cell_type": "code",
   "execution_count": 304,
   "id": "8f26f748",
   "metadata": {},
   "outputs": [
    {
     "name": "stdout",
     "output_type": "stream",
     "text": [
      "coinbase balance: 940.997522\n"
     ]
    }
   ],
   "source": [
    "!node src/web3ethcoinbase.js"
   ]
  },
  {
   "cell_type": "markdown",
   "id": "6a57fd3d",
   "metadata": {},
   "source": [
    "### 2-2. 현재 거래소 환전가격을 구해서 한화로 계산하여 얼마인지 출력하세요. 환전가격은 거래소 가격을 읽어서 프로그램에 코딩한다."
   ]
  },
  {
   "cell_type": "code",
   "execution_count": 305,
   "id": "3f58262e",
   "metadata": {},
   "outputs": [
    {
     "name": "stdout",
     "output_type": "stream",
     "text": [
      "Overwriting src/EthToWon.js\n"
     ]
    }
   ],
   "source": [
    "%%writefile src/EthToWon.js\n",
    "var Web3 = require('web3');\n",
    "var web3 = new Web3('http://localhost:8345');\n",
    "\n",
    "async function EthToWon() {\n",
    "    wei = await web3.eth.getBalance(\"0x1785dcD3F897d13743134C521779182335f4Eb86\");\n",
    "    var won = 4064000\n",
    "    var e = web3.utils.fromWei(wei,\"ether\")\n",
    "    var result = e*won\n",
    "    console.log(\"price:\" + result+\" won\");\n",
    "}\n",
    "EthToWon();"
   ]
  },
  {
   "cell_type": "code",
   "execution_count": 306,
   "id": "989fdc7b",
   "metadata": {},
   "outputs": [
    {
     "name": "stdout",
     "output_type": "stream",
     "text": [
      "price:3824213929.408 won\n"
     ]
    }
   ],
   "source": [
    "!node src/EthToWon.js"
   ]
  }
 ],
 "metadata": {
  "kernelspec": {
   "display_name": "Python 3 (ipykernel)",
   "language": "python",
   "name": "python3"
  },
  "language_info": {
   "codemirror_mode": {
    "name": "ipython",
    "version": 3
   },
   "file_extension": ".py",
   "mimetype": "text/x-python",
   "name": "python",
   "nbconvert_exporter": "python",
   "pygments_lexer": "ipython3",
   "version": "3.10.3"
  }
 },
 "nbformat": 4,
 "nbformat_minor": 5
}
