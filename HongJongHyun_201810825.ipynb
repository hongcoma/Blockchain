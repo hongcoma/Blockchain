{
 "cells": [
  {
   "cell_type": "markdown",
   "id": "61aa9eba",
   "metadata": {},
   "source": [
    "# 휴먼지능정보공학과 201810825 홍종현 블록체인프로그래밍 중간고사 답안"
   ]
  },
  {
   "cell_type": "markdown",
   "id": "a2918c06",
   "metadata": {},
   "source": [
    "# 문제 1"
   ]
  },
  {
   "cell_type": "code",
   "execution_count": 126,
   "id": "c6933b88",
   "metadata": {},
   "outputs": [
    {
     "name": "stdout",
     "output_type": "stream",
     "text": [
      "Overwriting src/midterm1.js\n"
     ]
    }
   ],
   "source": [
    "%%writefile src/midterm1.js\n",
    "var Web3 = require('web3');\n",
    "var web3 = new Web3('http://localhost:8345');\n",
    "var account0;\n",
    "async function midterm1() {\n",
    "    accounts = await web3.eth.getAccounts();\n",
    "    account0=accounts[0];\n",
    "    account1=accounts[1];\n",
    "    bal0= await web3.eth.getBalance(account0);\n",
    "    bal1= await web3.eth.getBalance(account1);\n",
    "    console.log(\"(1) ac0: \" + account0+\"  ac1: \"+account1+\"\\n\");\n",
    "    console.log(\"(2) bal Of ac0: \" + bal0+\"  ac1: \"+bal1+\"\\n\");\n",
    "    h= await web3.eth.sendTransaction({from:account0, to:account1,value:1111});\n",
    "    console.log(\"(3) callback - sending ac0 -> ac1 \\n\")\n",
    "    console.log(\"(4) transactionHash: \"+JSON.stringify(h.transactionHash)+\"\\n\");\n",
    "    console.log(\"(5) gas costs: \"+2000000000*h.gasUsed+\"\\n\");\n",
    "    nonce= await web3.eth.getTransactionCount(account0);\n",
    "    console.log(\"(6) nonce: \"+nonce+\"\\n\");\n",
    "    new_bal0= await web3.eth.getBalance(account0);\n",
    "    new_bal1= await web3.eth.getBalance(account1);\n",
    "    console.log(\"(7) bal diff1: \" + (web3.utils.fromWei(new_bal0)-web3.utils.fromWei(bal0))+\"  bal diff2: \"+(web3.utils.fromWei(new_bal1)-web3.utils.fromWei(bal1))+\"\\n\");\n",
    "    console.log(\"(8) adding balance\\n\");\n",
    "    SumOfBalance=parseInt(0);\n",
    "    for (i=0; i<10; i++){\n",
    "        bal=await web3.eth.getBalance(accounts[i]);\n",
    "        num=parseInt(bal);\n",
    "        console.log(\"sum: \"+SumOfBalance+\"       adding \"+i+\"  \"+bal+\"\\n\");\n",
    "        SumOfBalance=parseInt(SumOfBalance+bal);\n",
    "    }\n",
    "    console.log(\"\\n(9) balance total: \"+SumOfBalance);\n",
    "\n",
    "}\n",
    "midterm1()"
   ]
  },
  {
   "cell_type": "markdown",
   "id": "9d11cbb3",
   "metadata": {},
   "source": [
    "### 문제 1-7에서 bal diff2가 0으로 나오는데 이는 계산결과가 0.00000000000000x 로 나와서 인것으로추정됨"
   ]
  },
  {
   "cell_type": "code",
   "execution_count": 127,
   "id": "fd4b5b28",
   "metadata": {},
   "outputs": [
    {
     "name": "stdout",
     "output_type": "stream",
     "text": [
      "(1) ac0: 0xC9591C85fCF3C3a97D172f49D3b859ddC8446638  ac1: 0x07419C16535350cD09367E41c2A4653efBc2E2E5\n",
      "\n",
      "(2) bal Of ac0: 1000000000000000000000  ac1: 1000000000000000000000\n",
      "\n",
      "(3) callback - sending ac0 -> ac1 \n",
      "\n",
      "(4) transactionHash: \"0xbbc143c1a74623a8e8ff47246733bab98aeb2f6d8c13a8f714f0dc839d54a3b3\"\n",
      "\n",
      "(5) gas costs: 42000000000000\n",
      "\n",
      "(6) nonce: 1\n",
      "\n",
      "(7) bal diff1: -0.00004200000000764703  bal diff2: 0\n",
      "\n",
      "(8) adding balance\n",
      "\n",
      "sum: 0       adding 0  999999957999999998889\n",
      "\n",
      "sum: 999999958000000000000       adding 1  1000000000000000001111\n",
      "\n",
      "sum: 9.99999958e+42       adding 2  1000000000000000000000\n",
      "\n",
      "sum: 9       adding 3  1000000000000000000000\n",
      "\n",
      "sum: 9.1e+22       adding 4  1000000000000000000000\n",
      "\n",
      "sum: 9       adding 5  1000000000000000000000\n",
      "\n",
      "sum: 9.1e+22       adding 6  1000000000000000000000\n",
      "\n",
      "sum: 9       adding 7  1000000000000000000000\n",
      "\n",
      "sum: 9.1e+22       adding 8  1000000000000000000000\n",
      "\n",
      "sum: 9       adding 9  1000000000000000000000\n",
      "\n",
      "\n",
      "(9) balance total: 9.1e+22\n"
     ]
    }
   ],
   "source": [
    "!node src/midterm1.js"
   ]
  },
  {
   "cell_type": "markdown",
   "id": "e08f0ac6",
   "metadata": {},
   "source": [
    "# 문제2"
   ]
  },
  {
   "cell_type": "code",
   "execution_count": 192,
   "id": "27e69337",
   "metadata": {},
   "outputs": [
    {
     "name": "stdout",
     "output_type": "stream",
     "text": [
      "Overwriting src/midterm.sol\n"
     ]
    }
   ],
   "source": [
    "%%writefile src/midterm.sol\n",
    "pragma solidity ^0.4.25;\n",
    "contract Counter {\n",
    "    uint256 counter = 0;\n",
    "    function add() public {\n",
    "        counter++;\n",
    "    }\n",
    "    function subtract() public {\n",
    "        counter--;\n",
    "    }\n",
    "    function getCounter() public view returns (uint256) {\n",
    "        return counter;\n",
    "    }\n",
    "    uint256 startTime;\n",
    "    function setTimeCalled() internal {\n",
    "        startTime=now;\n",
    "    }\n",
    "    function getTimeCalled() public view returns(uint256) {\n",
    "        return now-startTime;\n",
    "    }\n",
    "}"
   ]
  },
  {
   "cell_type": "markdown",
   "id": "b88be047",
   "metadata": {},
   "source": [
    "# 문제2-1"
   ]
  },
  {
   "cell_type": "markdown",
   "id": "1bcf1db0",
   "metadata": {},
   "source": [
    "transact to Counter.add pending ... \n",
    "[vm]from: 0x5B3...eddC4to: Counter.add() 0xd91...39138value: 0 weidata: 0x4f2...be91flogs: 0hash: 0x260...152aa\n",
    "\n",
    "transact to Counter.subtract pending ... \n",
    "[vm]from: 0x5B3...eddC4to: Counter.subtract() 0xd91...39138value: 0 weidata: 0x6de...ebae3logs: 0hash: 0x972...ce629\n",
    "\n",
    "call to Counter.getCounter\n",
    "CALL\n",
    "[call]from: 0x5B38Da6a701c568545dCfcB03FcB875f56beddC4to: Counter.getCounter()data: 0x8ad...a066e\n",
    "\n",
    "call to Counter.getTimeCalled\n",
    "CALL\n",
    "[call]from: 0x5B38Da6a701c568545dCfcB03FcB875f56beddC4to: Counter.getTimeCalled()data: 0xc45...7a0a4"
   ]
  },
  {
   "cell_type": "markdown",
   "id": "d0d345ae",
   "metadata": {},
   "source": [
    "# 문제2-2"
   ]
  },
  {
   "cell_type": "code",
   "execution_count": 201,
   "id": "baed33b1",
   "metadata": {},
   "outputs": [
    {
     "name": "stdout",
     "output_type": "stream",
     "text": [
      "Overwriting src/midterm.sol\n"
     ]
    }
   ],
   "source": [
    "%%writefile src/midterm.sol\n",
    "pragma solidity ^0.4.25;\n",
    "contract Counter {\n",
    "    uint256 counter = 0;\n",
    "    function add() public {\n",
    "        counter++;\n",
    "    }\n",
    "    function subtract() public {\n",
    "        counter--;\n",
    "    }\n",
    "    function getCounter() public view returns (uint256) {\n",
    "        return counter;\n",
    "    }\n",
    "    uint256 startTime;\n",
    "    function setTimeCalled() internal {\n",
    "        startTime=now;\n",
    "    }\n",
    "    function getTimeCalled() public view returns(uint256) {\n",
    "        return now-startTime;\n",
    "    }\n",
    "}"
   ]
  },
  {
   "cell_type": "code",
   "execution_count": 202,
   "id": "a9fafa65",
   "metadata": {},
   "outputs": [],
   "source": [
    "!solc --optimize --combined-json abi,bin src/midterm.sol > src/midterm.json"
   ]
  },
  {
   "cell_type": "markdown",
   "id": "04b9caa4",
   "metadata": {},
   "source": [
    "# 문제2-3"
   ]
  },
  {
   "cell_type": "code",
   "execution_count": 203,
   "id": "21192585",
   "metadata": {},
   "outputs": [
    {
     "name": "stdout",
     "output_type": "stream",
     "text": [
      "Overwriting src/midtermDeploy.js\n"
     ]
    }
   ],
   "source": [
    "%%writefile src/midtermDeploy.js\n",
    "var Web3 = require('web3');\n",
    "var _abiBinJson = require('./midterm.json');\n",
    "\n",
    "var web3 = new Web3(new Web3.providers.HttpProvider(\"http://localhost:8345\"));\n",
    "\n",
    "contractName=Object.keys(_abiBinJson.contracts);\n",
    "console.log(\"- contract name: \", contractName);\n",
    "_abi=_abiBinJson.contracts[contractName].abi;\n",
    "//_abiArray=JSON.parse(JSON.stringify(_abi));\n",
    "_abiArray=JSON.parse(_abi);      //JSON parsing needed!!\n",
    "_bin=_abiBinJson.contracts[contractName].bin;\n",
    "\n",
    "console.log(\"- ABI: \" + JSON.stringify(_abiArray));\n",
    "console.log(\"- Bytecode: \" + _bin);\n",
    "\n",
    "async function deploy() {\n",
    "    const accounts = await web3.eth.getAccounts();\n",
    "    console.log(\"Deploying the contract from \" + accounts[0]);\n",
    "    var deployed = await new web3.eth.Contract(_abiArray)\n",
    "        .deploy({data: \"0x\"+_bin})\n",
    "        .send({from: accounts[0], gas: 364124}, function(err, transactionHash) {\n",
    "                if(!err) console.log(\"hash: \" + transactionHash); \n",
    "        })\n",
    "        //.then(function(newContractInstance){\n",
    "        //    console.log(newContractInstance)\n",
    "        //});\n",
    "    console.log(\"---> The contract deployed to: \" + deployed.options.address)\n",
    "}\n",
    "deploy()"
   ]
  },
  {
   "cell_type": "code",
   "execution_count": 204,
   "id": "c4d92d4c",
   "metadata": {
    "scrolled": true
   },
   "outputs": [
    {
     "name": "stdout",
     "output_type": "stream",
     "text": [
      "- contract name:  [ 'src/midterm.sol:Counter' ]\n",
      "- ABI: [{\"constant\":false,\"inputs\":[],\"name\":\"add\",\"outputs\":[],\"payable\":false,\"stateMutability\":\"nonpayable\",\"type\":\"function\"},{\"constant\":false,\"inputs\":[],\"name\":\"subtract\",\"outputs\":[],\"payable\":false,\"stateMutability\":\"nonpayable\",\"type\":\"function\"},{\"constant\":true,\"inputs\":[],\"name\":\"getCounter\",\"outputs\":[{\"name\":\"\",\"type\":\"uint256\"}],\"payable\":false,\"stateMutability\":\"view\",\"type\":\"function\"},{\"constant\":true,\"inputs\":[],\"name\":\"getTimeCalled\",\"outputs\":[{\"name\":\"\",\"type\":\"uint256\"}],\"payable\":false,\"stateMutability\":\"view\",\"type\":\"function\"}]\n",
      "- Bytecode: 60806040526000805534801561001457600080fd5b5061010e806100246000396000f300608060405260043610605c5763ffffffff7c01000000000000000000000000000000000000000000000000000000006000350416634f2be91f811460615780636deebae31460755780638ada066e146087578063c457a0a41460ab575b600080fd5b348015606c57600080fd5b50607360bd565b005b348015608057600080fd5b50607360c8565b348015609257600080fd5b50609960d4565b60408051918252519081900360200190f35b34801560b657600080fd5b50609960da565b600080546001019055565b60008054600019019055565b60005490565b6001544203905600a165627a7a7230582017a8284f1de6263eb9af934376250b7b32919b31b1ca79da31a457bc687bd3b70029\n",
      "Deploying the contract from 0xC9591C85fCF3C3a97D172f49D3b859ddC8446638\n",
      "hash: 0x6db96e6d34a2e72a4f2a59bb7d1b819dbc7b04ab5d16d6cc7d1fc8e4f5687bbd\n",
      "---> The contract deployed to: 0x96499E99E0Bf2444f6A9b998B01f645371AA0c9e\n"
     ]
    }
   ],
   "source": [
    "!node src/midtermDeploy.js"
   ]
  },
  {
   "cell_type": "markdown",
   "id": "73f73538",
   "metadata": {},
   "source": [
    "# 문제 2-4-1"
   ]
  },
  {
   "cell_type": "code",
   "execution_count": 205,
   "id": "f7349afc",
   "metadata": {},
   "outputs": [
    {
     "name": "stdout",
     "output_type": "stream",
     "text": [
      "Overwriting src/midtermUse.js\n"
     ]
    }
   ],
   "source": [
    "%%writefile src/midtermUse.js\n",
    "var Web3=require('web3');\n",
    "var _abiBinJson = require('./midterm.json');      //importing a javascript file\n",
    "\n",
    "var web3 = new Web3(new Web3.providers.HttpProvider(\"http://localhost:8345\"));\n",
    "contractName=Object.keys(_abiBinJson.contracts); \n",
    "//console.log(\"- contract name: \", contractName); //or console.log(contractName[0]);\n",
    "_abi=_abiBinJson.contracts[contractName].abi;\n",
    "//_abiArray=JSON.parse(JSON.stringify(_abi));\n",
    "_abiArray=JSON.parse(_abi);      //JSON parsing needed!!\n",
    "//_bin=_abiBinJson.contracts[contractName].bin;\n",
    "//console.log(\"- ABI: \" + _abiArray);\n",
    "//console.log(\"- Bytecode: \" + _bin);\n",
    "\n",
    "var even = new web3.eth.Contract(_abiArray,\"0x96499E99E0Bf2444f6A9b998B01f645371AA0c9e\");\n",
    "\n",
    "async function doIt() {\n",
    "    const accounts = await web3.eth.getAccounts();\n",
    "    even.methods.getCounter().call().then(function(str) {console.log(\"counter -->: \"+str);});\n",
    "    even.methods.getTimeCalled().call().then(function(str) {console.log(\"time -->: \"+str);});\n",
    "}\n",
    "\n",
    "doIt()"
   ]
  },
  {
   "cell_type": "code",
   "execution_count": 206,
   "id": "0a98a3d0",
   "metadata": {},
   "outputs": [
    {
     "name": "stdout",
     "output_type": "stream",
     "text": [
      "counter -->: 0\n",
      "time -->: 1650872270\n"
     ]
    }
   ],
   "source": [
    "!node src/midtermUse.js"
   ]
  },
  {
   "cell_type": "markdown",
   "id": "488e706e",
   "metadata": {},
   "source": [
    "# 문제2-4-2"
   ]
  },
  {
   "cell_type": "code",
   "execution_count": 207,
   "id": "7e320729",
   "metadata": {},
   "outputs": [
    {
     "name": "stdout",
     "output_type": "stream",
     "text": [
      "Overwriting src/midtermUse2.js\n"
     ]
    }
   ],
   "source": [
    "%%writefile src/midtermUse2.js\n",
    "var Web3=require('web3');\n",
    "var _abiBinJson = require('./midterm.json');      //importing a javascript file\n",
    "\n",
    "var web3 = new Web3(new Web3.providers.HttpProvider(\"http://localhost:8345\"));\n",
    "contractName=Object.keys(_abiBinJson.contracts); \n",
    "//console.log(\"- contract name: \", contractName); //or console.log(contractName[0]);\n",
    "_abi=_abiBinJson.contracts[contractName].abi;\n",
    "//_abiArray=JSON.parse(JSON.stringify(_abi));\n",
    "_abiArray=JSON.parse(_abi);      //JSON parsing needed!!\n",
    "//_bin=_abiBinJson.contracts[contractName].bin;\n",
    "//console.log(\"- ABI: \" + _abiArray);\n",
    "//console.log(\"- Bytecode: \" + _bin);\n",
    "\n",
    "var even = new web3.eth.Contract(_abiArray,\"0x96499E99E0Bf2444f6A9b998B01f645371AA0c9e\");\n",
    "\n",
    "async function doIt() {\n",
    "    const accounts = await web3.eth.getAccounts();\n",
    "    await even.methods.add().send({from:accounts[0],gas:100000});\n",
    "    even.methods.getCounter().call().then(function(str) {console.log(\"counter -->: \"+str);});\n",
    "    even.methods.getTimeCalled().call().then(function(str) {console.log(\"time -->: \"+str);});\n",
    "}\n",
    "\n",
    "doIt()"
   ]
  },
  {
   "cell_type": "code",
   "execution_count": 208,
   "id": "c9ad730f",
   "metadata": {},
   "outputs": [
    {
     "name": "stdout",
     "output_type": "stream",
     "text": [
      "counter -->: 1\n",
      "time -->: 1650872283\n"
     ]
    }
   ],
   "source": [
    "!node src/midtermUse2.js"
   ]
  },
  {
   "cell_type": "markdown",
   "id": "635884d6",
   "metadata": {},
   "source": [
    "# 문제2-4-3"
   ]
  },
  {
   "cell_type": "code",
   "execution_count": 209,
   "id": "a6fb467d",
   "metadata": {},
   "outputs": [
    {
     "name": "stdout",
     "output_type": "stream",
     "text": [
      "counter -->: 2\n",
      "time -->: 1650872287\n"
     ]
    }
   ],
   "source": [
    "!node src/midtermUse2.js"
   ]
  }
 ],
 "metadata": {
  "kernelspec": {
   "display_name": "Python 3 (ipykernel)",
   "language": "python",
   "name": "python3"
  },
  "language_info": {
   "codemirror_mode": {
    "name": "ipython",
    "version": 3
   },
   "file_extension": ".py",
   "mimetype": "text/x-python",
   "name": "python",
   "nbconvert_exporter": "python",
   "pygments_lexer": "ipython3",
   "version": "3.10.3"
  }
 },
 "nbformat": 4,
 "nbformat_minor": 5
}
